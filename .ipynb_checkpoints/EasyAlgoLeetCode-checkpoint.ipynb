{
 "cells": [
  {
   "cell_type": "markdown",
   "metadata": {
    "colab_type": "text",
    "id": "view-in-github"
   },
   "source": [
    "<a href=\"https://colab.research.google.com/github/hamzamujeebk/Leet_Code/blob/main/EasyAlgoLeetCode.ipynb\" target=\"_parent\"><img src=\"https://colab.research.google.com/assets/colab-badge.svg\" alt=\"Open In Colab\"/></a>"
   ]
  },
  {
   "cell_type": "markdown",
   "metadata": {
    "id": "c74guRi7LN9s"
   },
   "source": [
    "**1 Remove Dubplicates from Sorted Array**\n",
    "\n",
    "\n",
    "Given an integer array nums sorted in non-decreasing order, remove the duplicates in-place such that each unique element appears only once. The relative order of the elements should be kept the same.\n",
    "\n",
    "Since it is impossible to change the length of the array in some languages, you must instead have the result be placed in the first part of the array nums. More formally, if there are k elements after removing the duplicates, then the first k elements of nums should hold the final result. It does not matter what you leave beyond the first k elements.\n",
    "\n",
    "Return k after placing the final result in the first k slots of nums.\n",
    "\n",
    "Do not allocate extra space for another array. You must do this by modifying the input array in-place with O(1) extra memory.\n",
    "\n",
    "Custom Judge:\n",
    "\n",
    "The judge will test your solution with the following code:\n",
    "\n",
    "int[] nums = [...]; // Input array\n",
    "int[] expectedNums = [...]; // The expected answer with correct length\n",
    "\n",
    "int k = removeDuplicates(nums); // Calls your implementation\n",
    "\n",
    "assert k == expectedNums.length;\n",
    "for (int i = 0; i < k; i++) {\n",
    "    assert nums[i] == expectedNums[i];\n",
    "}\n",
    "If all assertions pass, then your solution will be accepted.\n",
    "\n",
    " \n",
    "\n",
    "Example 1:\n",
    "\n",
    "Input: nums = [1,1,2]\n",
    "Output: 2, nums = [1,2,_]\n",
    "Explanation: Your function should return k = 2, with the first two elements of nums being 1 and 2 respectively.\n",
    "It does not matter what you leave beyond the returned k (hence they are underscores).\n",
    "Example 2:\n",
    "\n",
    "Input: nums = [0,0,1,1,1,2,2,3,3,4]\n",
    "Output: 5, nums = [0,1,2,3,4,_,_,_,_,_]\n",
    "Explanation: Your function should return k = 5, with the first five elements of nums being 0, 1, 2, 3, and 4 respectively.\n",
    "It does not matter what you leave beyond the returned k (hence they are underscores).\n",
    " \n",
    "\n",
    "Constraints:\n",
    "\n",
    "0 <= nums.length <= 3 * 104\n",
    "-100 <= nums[i] <= 100\n",
    "nums is sorted in non-decreasing order."
   ]
  },
  {
   "cell_type": "code",
   "execution_count": null,
   "metadata": {
    "id": "rpccKaR5LBK9"
   },
   "outputs": [],
   "source": [
    "#Final Solution O(n)\n",
    "from typing import List\n",
    "class Solution:\n",
    "    def removeDuplicates(self, nums: List[int]) -> int:\n",
    "        newL=sorted(list(set(nums)),reverse=True)\n",
    "        l=len(newL)\n",
    "        for i in newL:\n",
    "            nums.insert(0,i)\n",
    "\n",
    "        return l\n",
    "        "
   ]
  },
  {
   "cell_type": "code",
   "execution_count": null,
   "metadata": {
    "colab": {
     "base_uri": "https://localhost:8080/"
    },
    "id": "RhcsexzWL-vG",
    "outputId": "c17786af-1533-4bb4-8fdc-4dbdf9a60212"
   },
   "outputs": [
    {
     "name": "stdout",
     "output_type": "stream",
     "text": [
      "[1, 2, 1, 1, 2]\n"
     ]
    },
    {
     "data": {
      "text/plain": [
       "2"
      ]
     },
     "execution_count": 19,
     "metadata": {},
     "output_type": "execute_result"
    }
   ],
   "source": [
    "obj=Solution()\n",
    "obj.removeDuplicates([1,1,2])"
   ]
  },
  {
   "cell_type": "markdown",
   "metadata": {
    "id": "g1zyzQ6_ouRA"
   },
   "source": [
    "** 2 Plus One**\n",
    "\n",
    "\n",
    "You are given a large integer represented as an integer array digits, where each digits[i] is the ith digit of the integer. The digits are ordered from most significant to least significant in left-to-right order. The large integer does not contain any leading 0's.\n",
    "\n",
    "Increment the large integer by one and return the resulting array of digits.\n",
    "\n",
    " \n",
    "\n",
    "Example 1:\n",
    "\n",
    "Input: digits = [1,2,3]\n",
    "Output: [1,2,4]\n",
    "Explanation: The array represents the integer 123.\n",
    "Incrementing by one gives 123 + 1 = 124.\n",
    "Thus, the result should be [1,2,4].\n",
    "Example 2:\n",
    "\n",
    "Input: digits = [4,3,2,1]\n",
    "Output: [4,3,2,2]\n",
    "Explanation: The array represents the integer 4321.\n",
    "Incrementing by one gives 4321 + 1 = 4322.\n",
    "Thus, the result should be [4,3,2,2].\n",
    "Example 3:\n",
    "\n",
    "Input: digits = [0]\n",
    "Output: [1]\n",
    "Explanation: The array represents the integer 0.\n",
    "Incrementing by one gives 0 + 1 = 1.\n",
    "Thus, the result should be [1].\n",
    "Example 4:\n",
    "\n",
    "Input: digits = [9]\n",
    "Output: [1,0]\n",
    "Explanation: The array represents the integer 9.\n",
    "Incrementing by one gives 9 + 1 = 10.\n",
    "Thus, the result should be [1,0].\n",
    " \n",
    "\n",
    "Constraints:\n",
    "\n",
    "1 <= digits.length <= 100\n",
    "0 <= digits[i] <= 9\n",
    "digits does not contain any leading 0's."
   ]
  },
  {
   "cell_type": "code",
   "execution_count": null,
   "metadata": {
    "id": "kym2zc2TME-2"
   },
   "outputs": [],
   "source": [
    "from typing import List\n",
    "class Solution:\n",
    "    def plusOne(self, digits: List[int]) -> List[int]:\n",
    "        \n",
    "        return list(map(int,list(str(int(''.join(list(map(str,digits)))) + 1))))\n",
    "        "
   ]
  },
  {
   "cell_type": "code",
   "execution_count": null,
   "metadata": {
    "colab": {
     "base_uri": "https://localhost:8080/"
    },
    "id": "kqRIwaURMZEw",
    "outputId": "1eb17fdd-885c-466e-da51-56139bdde006"
   },
   "outputs": [
    {
     "name": "stdout",
     "output_type": "stream",
     "text": [
      "[1, 2, 4]\n"
     ]
    }
   ],
   "source": [
    "obj=Solution()\n",
    "obj.plusOne([1,2,3])"
   ]
  },
  {
   "cell_type": "markdown",
   "metadata": {
    "id": "Xh9qTa0brbb9"
   },
   "source": [
    "**3 Power of two**\n",
    "\n",
    "\n",
    "Given an integer n, return true if it is a power of two. Otherwise, return false.\n",
    "\n",
    "An integer n is a power of two, if there exists an integer x such that n == 2x.\n",
    "\n",
    " \n",
    "\n",
    "Example 1:\n",
    "\n",
    "Input: n = 1\n",
    "Output: true\n",
    "Explanation: 20 = 1\n",
    "Example 2:\n",
    "\n",
    "Input: n = 16\n",
    "Output: true\n",
    "Explanation: 24 = 16\n",
    "Example 3:\n",
    "\n",
    "Input: n = 3\n",
    "Output: false\n",
    "Example 4:\n",
    "\n",
    "Input: n = 4\n",
    "Output: true\n",
    "Example 5:\n",
    "\n",
    "Input: n = 5\n",
    "Output: false\n",
    " \n",
    "\n",
    "Constraints:\n",
    "\n",
    "-231 <= n <= 231 - 1\n"
   ]
  },
  {
   "cell_type": "code",
   "execution_count": null,
   "metadata": {
    "id": "FUxhtHZCpXEh"
   },
   "outputs": [],
   "source": [
    "from typing import List\n",
    "\n",
    "class Solution:\n",
    "    def isPowerOfTwo(self, n: int) -> bool:\n",
    "      if n==1:\n",
    "        return True\n",
    "      if n==0:\n",
    "            return False\n",
    "      elif n%2==0:\n",
    "\n",
    "        return self.isPowerOfTwo(int(n/2))\n",
    "      else:\n",
    "        return False\n",
    "        "
   ]
  },
  {
   "cell_type": "code",
   "execution_count": null,
   "metadata": {
    "id": "tZtdoBWPvxdA"
   },
   "outputs": [],
   "source": [
    "#Solution for power of four\n",
    "from typing import List\n",
    "\n",
    "class Solution:\n",
    "    def isPowerOfFour(self, n: int) -> bool:\n",
    "      if n==1:\n",
    "        return True\n",
    "      if n==0:\n",
    "            return False\n",
    "      elif n%4==0:\n",
    "\n",
    "        return self.isPowerOfFour(int(n/4))\n",
    "      else:\n",
    "        return False\n",
    "        "
   ]
  },
  {
   "cell_type": "code",
   "execution_count": null,
   "metadata": {
    "colab": {
     "base_uri": "https://localhost:8080/",
     "height": 354
    },
    "id": "5iDv_g0gpbFT",
    "outputId": "cea62a93-4f6f-4175-8bb8-97e8188016ee"
   },
   "outputs": [
    {
     "ename": "RecursionError",
     "evalue": "ignored",
     "output_type": "error",
     "traceback": [
      "\u001b[0;31m---------------------------------------------------------------------------\u001b[0m",
      "\u001b[0;31mRecursionError\u001b[0m                            Traceback (most recent call last)",
      "\u001b[0;32m<ipython-input-70-98423aed3ed2>\u001b[0m in \u001b[0;36m<module>\u001b[0;34m()\u001b[0m\n\u001b[1;32m      1\u001b[0m \u001b[0mobj\u001b[0m\u001b[0;34m=\u001b[0m\u001b[0mSolution\u001b[0m\u001b[0;34m(\u001b[0m\u001b[0;34m)\u001b[0m\u001b[0;34m\u001b[0m\u001b[0;34m\u001b[0m\u001b[0m\n\u001b[0;32m----> 2\u001b[0;31m \u001b[0mprint\u001b[0m\u001b[0;34m(\u001b[0m\u001b[0mobj\u001b[0m\u001b[0;34m.\u001b[0m\u001b[0misPowerOfTwo\u001b[0m\u001b[0;34m(\u001b[0m\u001b[0;36m0\u001b[0m\u001b[0;34m)\u001b[0m\u001b[0;34m)\u001b[0m\u001b[0;34m\u001b[0m\u001b[0;34m\u001b[0m\u001b[0m\n\u001b[0m",
      "\u001b[0;32m<ipython-input-68-59d482b1bd39>\u001b[0m in \u001b[0;36misPowerOfTwo\u001b[0;34m(self, n)\u001b[0m\n\u001b[1;32m      8\u001b[0m \u001b[0;34m\u001b[0m\u001b[0m\n\u001b[1;32m      9\u001b[0m \u001b[0;34m\u001b[0m\u001b[0m\n\u001b[0;32m---> 10\u001b[0;31m         \u001b[0;32mreturn\u001b[0m \u001b[0mself\u001b[0m\u001b[0;34m.\u001b[0m\u001b[0misPowerOfTwo\u001b[0m\u001b[0;34m(\u001b[0m\u001b[0mint\u001b[0m\u001b[0;34m(\u001b[0m\u001b[0mn\u001b[0m\u001b[0;34m/\u001b[0m\u001b[0;36m2\u001b[0m\u001b[0;34m)\u001b[0m\u001b[0;34m)\u001b[0m\u001b[0;34m\u001b[0m\u001b[0;34m\u001b[0m\u001b[0m\n\u001b[0m\u001b[1;32m     11\u001b[0m       \u001b[0;32melse\u001b[0m\u001b[0;34m:\u001b[0m\u001b[0;34m\u001b[0m\u001b[0;34m\u001b[0m\u001b[0m\n\u001b[1;32m     12\u001b[0m         \u001b[0;32mreturn\u001b[0m \u001b[0;32mFalse\u001b[0m\u001b[0;34m\u001b[0m\u001b[0;34m\u001b[0m\u001b[0m\n",
      "... last 1 frames repeated, from the frame below ...\n",
      "\u001b[0;32m<ipython-input-68-59d482b1bd39>\u001b[0m in \u001b[0;36misPowerOfTwo\u001b[0;34m(self, n)\u001b[0m\n\u001b[1;32m      8\u001b[0m \u001b[0;34m\u001b[0m\u001b[0m\n\u001b[1;32m      9\u001b[0m \u001b[0;34m\u001b[0m\u001b[0m\n\u001b[0;32m---> 10\u001b[0;31m         \u001b[0;32mreturn\u001b[0m \u001b[0mself\u001b[0m\u001b[0;34m.\u001b[0m\u001b[0misPowerOfTwo\u001b[0m\u001b[0;34m(\u001b[0m\u001b[0mint\u001b[0m\u001b[0;34m(\u001b[0m\u001b[0mn\u001b[0m\u001b[0;34m/\u001b[0m\u001b[0;36m2\u001b[0m\u001b[0;34m)\u001b[0m\u001b[0;34m)\u001b[0m\u001b[0;34m\u001b[0m\u001b[0;34m\u001b[0m\u001b[0m\n\u001b[0m\u001b[1;32m     11\u001b[0m       \u001b[0;32melse\u001b[0m\u001b[0;34m:\u001b[0m\u001b[0;34m\u001b[0m\u001b[0;34m\u001b[0m\u001b[0m\n\u001b[1;32m     12\u001b[0m         \u001b[0;32mreturn\u001b[0m \u001b[0;32mFalse\u001b[0m\u001b[0;34m\u001b[0m\u001b[0;34m\u001b[0m\u001b[0m\n",
      "\u001b[0;31mRecursionError\u001b[0m: maximum recursion depth exceeded in comparison"
     ]
    }
   ],
   "source": [
    "obj=Solution()\n",
    "print(obj.isPowerOfTwo(0))"
   ]
  },
  {
   "cell_type": "markdown",
   "metadata": {
    "id": "xYGm6mFhzB3t"
   },
   "source": [
    "** 5 Jewels and Stones**\n",
    "\n",
    "\n",
    "You're given strings jewels representing the types of stones that are jewels, and stones representing the stones you have. Each character in stones is a type of stone you have. You want to know how many of the stones you have are also jewels.\n",
    "\n",
    "Letters are case sensitive, so \"a\" is considered a different type of stone from \"A\".\n",
    "\n",
    " \n",
    "\n",
    "Example 1:\n",
    "\n",
    "Input: jewels = \"aA\", stones = \"aAAbbbb\"\n",
    "Output: 3\n",
    "Example 2:\n",
    "\n",
    "Input: jewels = \"z\", stones = \"ZZ\"\n",
    "Output: 0\n",
    " \n",
    "\n",
    "Constraints:\n",
    "\n",
    "1 <= jewels.length, stones.length <= 50\n",
    "jewels and stones consist of only English letters.\n",
    "All the characters of jewels are unique."
   ]
  },
  {
   "cell_type": "code",
   "execution_count": null,
   "metadata": {
    "colab": {
     "base_uri": "https://localhost:8080/"
    },
    "id": "FJBfWHwirx65",
    "outputId": "803d49a9-660b-41af-e58e-d75091e4d21a"
   },
   "outputs": [
    {
     "data": {
      "text/plain": [
       "0"
      ]
     },
     "execution_count": 71,
     "metadata": {},
     "output_type": "execute_result"
    }
   ],
   "source": [
    "from typing import List\n",
    "class Solution:\n",
    "    def numJewelsInStones(self, jewels: str, stones: str) -> int:\n",
    "      jewels=list(jewels)\n",
    "      stones=list(stones)\n",
    "      output=sum([stones.count(i) for i in jewels])\n",
    "      return output\n",
    "        "
   ]
  },
  {
   "cell_type": "markdown",
   "metadata": {
    "id": "Ysqvlcfk0gjq"
   },
   "source": [
    "**6 Defanging an IP Address**\n",
    "\n",
    "\n",
    "Given a valid (IPv4) IP address, return a defanged version of that IP address.\n",
    "\n",
    "A defanged IP address replaces every period \".\" with \"[.]\".\n",
    "\n",
    " \n",
    "\n",
    "Example 1:\n",
    "\n",
    "Input: address = \"1.1.1.1\"\n",
    "Output: \"1[.]1[.]1[.]1\"\n",
    "Example 2:\n",
    "\n",
    "Input: address = \"255.100.50.0\"\n",
    "Output: \"255[.]100[.]50[.]0\"\n",
    " \n",
    "\n",
    "Constraints:\n",
    "\n",
    "The given address is a valid IPv4 address."
   ]
  },
  {
   "cell_type": "code",
   "execution_count": null,
   "metadata": {
    "id": "Mv2JYrsluZVS"
   },
   "outputs": [],
   "source": [
    "from typing import List\n",
    "class Solution:\n",
    "    def defangIPaddr(self, address: str) -> str:\n",
    "      return address.replace('.','[.]')\n",
    "        "
   ]
  },
  {
   "cell_type": "markdown",
   "metadata": {
    "id": "PP1Gj7nU1IyN"
   },
   "source": [
    "**7 Subtract the Product and Sum of Digits of an Integer**\n",
    "\n",
    "Given an integer number n, return the difference between the product of its digits and the sum of its digits.\n",
    " \n",
    "\n",
    "Example 1:\n",
    "\n",
    "Input: n = 234\n",
    "Output: 15 \n",
    "Explanation: \n",
    "Product of digits = 2 * 3 * 4 = 24 \n",
    "Sum of digits = 2 + 3 + 4 = 9 \n",
    "Result = 24 - 9 = 15\n",
    "Example 2:\n",
    "\n",
    "Input: n = 4421\n",
    "Output: 21\n",
    "Explanation: \n",
    "Product of digits = 4 * 4 * 2 * 1 = 32 \n",
    "Sum of digits = 4 + 4 + 2 + 1 = 11 \n",
    "Result = 32 - 11 = 21\n",
    " \n",
    "\n",
    "Constraints:\n",
    "\n",
    "1 <= n <= 10^5"
   ]
  },
  {
   "cell_type": "code",
   "execution_count": null,
   "metadata": {
    "colab": {
     "base_uri": "https://localhost:8080/",
     "height": 35
    },
    "id": "g8WvnZvmzjYu",
    "outputId": "3ad21b25-2c82-4b6b-da54-a300ab3eff05"
   },
   "outputs": [
    {
     "data": {
      "application/vnd.google.colaboratory.intrinsic+json": {
       "type": "string"
      },
      "text/plain": [
       "'htmzt'"
      ]
     },
     "execution_count": 74,
     "metadata": {},
     "output_type": "execute_result"
    }
   ],
   "source": [
    "from typing import List\n",
    "import math\n",
    "class Solution:\n",
    "    def subtractProductAndSum(self, n: int) -> int:\n",
    "        data=list(map(int,list(str(n))))\n",
    "        return math.prod(data)-sum(data)\n",
    "\n",
    "        "
   ]
  },
  {
   "cell_type": "markdown",
   "metadata": {
    "id": "by_5h_Hs2P8v"
   },
   "source": [
    "**8  Decompress Run-Length Encoded List**\n",
    "\n",
    "We are given a list nums of integers representing a list compressed with run-length encoding.\n",
    "\n",
    "Consider each adjacent pair of elements [freq, val] = [nums[2*i], nums[2*i+1]] (with i >= 0).  For each such pair, there are freq elements with value val concatenated in a sublist. Concatenate all the sublists from left to right to generate the decompressed list.\n",
    "\n",
    "Return the decompressed list.\n",
    "\n",
    " \n",
    "\n",
    "Example 1:\n",
    "\n",
    "Input: nums = [1,2,3,4]\n",
    "Output: [2,4,4,4]\n",
    "Explanation: The first pair [1,2] means we have freq = 1 and val = 2 so we generate the array [2].\n",
    "The second pair [3,4] means we have freq = 3 and val = 4 so we generate [4,4,4].\n",
    "At the end the concatenation [2] + [4,4,4] is [2,4,4,4].\n",
    "Example 2:\n",
    "\n",
    "Input: nums = [1,1,2,3]\n",
    "Output: [1,3,3]\n",
    " \n",
    "\n",
    "Constraints:\n",
    "\n",
    "2 <= nums.length <= 100\n",
    "nums.length % 2 == 0\n",
    "1 <= nums[i] <= 100"
   ]
  },
  {
   "cell_type": "code",
   "execution_count": null,
   "metadata": {
    "id": "3_JX5grrzmKl"
   },
   "outputs": [],
   "source": [
    "\n",
    "from typing import List\n",
    "class Solution:\n",
    "    def decompressRLElist(self, nums: List[int]) -> List[int]:\n",
    "\n",
    "        data=[[nums[i+1]] * nums[i] for i in range(0,len(nums),2)]\n",
    "        return [j for i in data for j in i]\n"
   ]
  },
  {
   "cell_type": "code",
   "execution_count": null,
   "metadata": {
    "colab": {
     "base_uri": "https://localhost:8080/"
    },
    "id": "W0KHIJCN5kW8",
    "outputId": "5fd02877-6d3e-414e-cba9-8f1cdc6caaba"
   },
   "outputs": [
    {
     "data": {
      "text/plain": [
       "[2, 4, 4, 4]"
      ]
     },
     "execution_count": 108,
     "metadata": {},
     "output_type": "execute_result"
    }
   ],
   "source": [
    "obj=Solution()\n",
    "nums = [1,2,3,4]\n",
    "obj.decompressRLElist(nums)"
   ]
  },
  {
   "cell_type": "markdown",
   "metadata": {
    "id": "ZLU6KZVvA4GL"
   },
   "source": [
    "**9  Number of Steps to Reduce a Number to Zero**\n",
    "\n",
    "Given an integer num, return the number of steps to reduce it to zero.\n",
    "\n",
    "In one step, if the current number is even, you have to divide it by 2, otherwise, you have to subtract 1 from it.\n",
    "\n",
    " \n",
    "\n",
    "Example 1:\n",
    "\n",
    "Input: num = 14\n",
    "Output: 6\n",
    "Explanation: \n",
    "Step 1) 14 is even; divide by 2 and obtain 7. \n",
    "Step 2) 7 is odd; subtract 1 and obtain 6.\n",
    "Step 3) 6 is even; divide by 2 and obtain 3. \n",
    "Step 4) 3 is odd; subtract 1 and obtain 2. \n",
    "Step 5) 2 is even; divide by 2 and obtain 1. \n",
    "Step 6) 1 is odd; subtract 1 and obtain 0.\n",
    "Example 2:\n",
    "\n",
    "Input: num = 8\n",
    "Output: 4\n",
    "Explanation: \n",
    "Step 1) 8 is even; divide by 2 and obtain 4. \n",
    "Step 2) 4 is even; divide by 2 and obtain 2. \n",
    "Step 3) 2 is even; divide by 2 and obtain 1. \n",
    "Step 4) 1 is odd; subtract 1 and obtain 0.\n",
    "Example 3:\n",
    "\n",
    "Input: num = 123\n",
    "Output: 12\n",
    " \n",
    "\n",
    "Constraints:\n",
    "\n",
    "0 <= num <= 106"
   ]
  },
  {
   "cell_type": "code",
   "execution_count": null,
   "metadata": {
    "id": "n__8XXNP5o6x"
   },
   "outputs": [],
   "source": [
    "from typing import List\n",
    "class Solution:\n",
    "    def numberOfSteps(self, num: int) -> int:\n",
    "      self.count=0\n",
    "      def counting(num):\n",
    "        self.count+=1\n",
    "        if num==1:\n",
    "          return self.count\n",
    "        if num%2==0:\n",
    "          return counting(num/2)\n",
    "        elif num%2!=0:\n",
    "          return counting(num-1)\n",
    "\n",
    "      return counting(num)\n",
    "      \n",
    "  \n",
    "        "
   ]
  },
  {
   "cell_type": "code",
   "execution_count": null,
   "metadata": {
    "colab": {
     "base_uri": "https://localhost:8080/"
    },
    "id": "XD2xGXYB6nXv",
    "outputId": "aaf694b4-0013-4a7e-acdf-846e8dd07f78"
   },
   "outputs": [
    {
     "data": {
      "text/plain": [
       "6"
      ]
     },
     "execution_count": 7,
     "metadata": {},
     "output_type": "execute_result"
    }
   ],
   "source": [
    "obj=Solution()\n",
    "obj.numberOfSteps(14)"
   ]
  },
  {
   "cell_type": "markdown",
   "metadata": {
    "id": "hxDu7meIC6gC"
   },
   "source": [
    "**10 How Many Numbers Are Smaller Than the Current Number**\n",
    "\n",
    "Given the array nums, for each nums[i] find out how many numbers in the array are smaller than it. That is, for each nums[i] you have to count the number of valid j's such that j != i and nums[j] < nums[i].\n",
    "\n",
    "Return the answer in an array.\n",
    "\n",
    " \n",
    "\n",
    "Example 1:\n",
    "\n",
    "Input: nums = [8,1,2,2,3]\n",
    "Output: [4,0,1,1,3]\n",
    "Explanation: \n",
    "For nums[0]=8 there exist four smaller numbers than it (1, 2, 2 and 3). \n",
    "For nums[1]=1 does not exist any smaller number than it.\n",
    "For nums[2]=2 there exist one smaller number than it (1). \n",
    "For nums[3]=2 there exist one smaller number than it (1). \n",
    "For nums[4]=3 there exist three smaller numbers than it (1, 2 and 2).\n",
    "Example 2:\n",
    "\n",
    "Input: nums = [6,5,4,8]\n",
    "Output: [2,1,0,3]\n",
    "Example 3:\n",
    "\n",
    "Input: nums = [7,7,7,7]\n",
    "Output: [0,0,0,0]\n",
    " \n",
    "\n",
    "Constraints:\n",
    "\n",
    "2 <= nums.length <= 500\n",
    "0 <= nums[i] <= 100"
   ]
  },
  {
   "cell_type": "code",
   "execution_count": null,
   "metadata": {
    "id": "R24cU9OZ6oBw"
   },
   "outputs": [],
   "source": [
    "from typing import List\n",
    "class Solution:\n",
    "    def smallerNumbersThanCurrent(self, nums: List[int]) -> List[int]:\n",
    "      temp=[]\n",
    "      for i in nums:\n",
    "        count=0\n",
    "        for j nums:\n",
    "          if i>j:\n",
    "            count+=1\n",
    "        temp.append(count)\n",
    "      return temp\n",
    "        "
   ]
  },
  {
   "cell_type": "markdown",
   "metadata": {
    "id": "7Uc3w6TGFDvl"
   },
   "source": [
    "**11 Create Target array in the given order**\n",
    "\n",
    "Given two arrays of integers nums and index. Your task is to create target array under the following rules:\n",
    "\n",
    "Initially target array is empty.\n",
    "From left to right read nums[i] and index[i], insert at index index[i] the value nums[i] in target array.\n",
    "Repeat the previous step until there are no elements to read in nums and index.\n",
    "Return the target array.\n",
    "\n",
    "It is guaranteed that the insertion operations will be valid.\n",
    "\n",
    " \n",
    "\n",
    "Example 1:\n",
    "\n",
    "Input: nums = [0,1,2,3,4], index = [0,1,2,2,1]\n",
    "Output: [0,4,1,3,2]\n",
    "Explanation:\n",
    "nums       index     target\n",
    "0            0        [0]\n",
    "1            1        [0,1]\n",
    "2            2        [0,1,2]\n",
    "3            2        [0,1,3,2]\n",
    "4            1        [0,4,1,3,2]\n",
    "Example 2:\n",
    "\n",
    "Input: nums = [1,2,3,4,0], index = [0,1,2,3,0]\n",
    "Output: [0,1,2,3,4]\n",
    "Explanation:\n",
    "nums       index     target\n",
    "1            0        [1]\n",
    "2            1        [1,2]\n",
    "3            2        [1,2,3]\n",
    "4            3        [1,2,3,4]\n",
    "0            0        [0,1,2,3,4]\n",
    "Example 3:\n",
    "\n",
    "Input: nums = [1], index = [0]\n",
    "Output: [1]\n",
    " \n",
    "\n",
    "Constraints:\n",
    "\n",
    "1 <= nums.length, index.length <= 100\n",
    "nums.length == index.length\n",
    "0 <= nums[i] <= 100\n",
    "0 <= index[i] <= i"
   ]
  },
  {
   "cell_type": "code",
   "execution_count": null,
   "metadata": {
    "id": "w5MiF3C7FJ9d"
   },
   "outputs": [],
   "source": [
    "from typing import List\n",
    "class Solution:\n",
    "    def createTargetArray(self, nums: List[int], index: List[int]) -> List[int]:\n",
    "        temp=[]\n",
    "        for i,j in enumerate(index):\n",
    "          temp.insert(j,nums[i])\n",
    "        return temp"
   ]
  },
  {
   "cell_type": "markdown",
   "metadata": {
    "id": "GFQUVUsDGKsg"
   },
   "source": [
    "**12 Kids with Greatest number of candies**\n",
    "\n",
    "There are n kids with candies. You are given an integer array candies, where each candies[i] represents the number of candies the ith kid has, and an integer extraCandies, denoting the number of extra candies that you have.\n",
    "\n",
    "Return a boolean array result of length n, where result[i] is true if, after giving the ith kid all the extraCandies, they will have the greatest number of candies among all the kids, or false otherwise.\n",
    "\n",
    "Note that multiple kids can have the greatest number of candies.\n",
    "\n",
    " \n",
    "\n",
    "Example 1:\n",
    "\n",
    "Input: candies = [2,3,5,1,3], extraCandies = 3\n",
    "Output: [true,true,true,false,true] \n",
    "Explanation: If you give all extraCandies to:\n",
    "- Kid 1, they will have 2 + 3 = 5 candies, which is the greatest among the kids.\n",
    "- Kid 2, they will have 3 + 3 = 6 candies, which is the greatest among the kids.\n",
    "- Kid 3, they will have 5 + 3 = 8 candies, which is the greatest among the kids.\n",
    "- Kid 4, they will have 1 + 3 = 4 candies, which is not the greatest among the kids.\n",
    "- Kid 5, they will have 3 + 3 = 6 candies, which is the greatest among the kids.\n",
    "Example 2:\n",
    "\n",
    "Input: candies = [4,2,1,1,2], extraCandies = 1\n",
    "Output: [true,false,false,false,false] \n",
    "Explanation: There is only 1 extra candy.\n",
    "Kid 1 will always have the greatest number of candies, even if a different kid is given the extra candy.\n",
    "Example 3:\n",
    "\n",
    "Input: candies = [12,1,12], extraCandies = 10\n",
    "Output: [true,false,true]\n",
    " \n",
    "\n",
    "Constraints:\n",
    "\n",
    "n == candies.length\n",
    "2 <= n <= 100\n",
    "1 <= candies[i] <= 100\n",
    "1 <= extraCandies <= 50"
   ]
  },
  {
   "cell_type": "code",
   "execution_count": null,
   "metadata": {
    "colab": {
     "base_uri": "https://localhost:8080/"
    },
    "id": "Y7mGDwQrFvEo",
    "outputId": "5ab94968-31e8-41ea-89f8-d02258cf4f58"
   },
   "outputs": [
    {
     "data": {
      "text/plain": [
       "[(0, 2), (1, 3), (2, 3), (3, 4)]"
      ]
     },
     "execution_count": 9,
     "metadata": {},
     "output_type": "execute_result"
    }
   ],
   "source": [
    "from typing import List\n",
    "class Solution:\n",
    "    def kidsWithCandies(self, candies: List[int], extraCandies: int) -> List[bool]:\n",
    "        temp=[]\n",
    "        for i in range(len(candies)):\n",
    "          candies[i]=candies[i]+extraCandies\n",
    "          if max(candies)==candies[i]:\n",
    "            temp.append(True)\n",
    "          else:\n",
    "            temp.append(False)\n",
    "          candies[i]=candies[i]-extraCandies\n",
    "          \n",
    "        return temp"
   ]
  },
  {
   "cell_type": "markdown",
   "metadata": {
    "id": "31FLGMtmJMWR"
   },
   "source": [
    "**13 shuffle the array**\n",
    "\n",
    "\n",
    "Given the array nums consisting of 2n elements in the form [x1,x2,...,xn,y1,y2,...,yn].\n",
    "\n",
    "Return the array in the form [x1,y1,x2,y2,...,xn,yn].\n",
    "\n",
    " \n",
    "\n",
    "Example 1:\n",
    "\n",
    "Input: nums = [2,5,1,3,4,7], n = 3\n",
    "Output: [2,3,5,4,1,7] \n",
    "Explanation: Since x1=2, x2=5, x3=1, y1=3, y2=4, y3=7 then the answer is [2,3,5,4,1,7].\n",
    "Example 2:\n",
    "\n",
    "Input: nums = [1,2,3,4,4,3,2,1], n = 4\n",
    "Output: [1,4,2,3,3,2,4,1]\n",
    "Example 3:\n",
    "\n",
    "Input: nums = [1,1,2,2], n = 2\n",
    "Output: [1,2,1,2]\n"
   ]
  },
  {
   "cell_type": "code",
   "execution_count": null,
   "metadata": {
    "id": "Z9VA6kn5FyAN"
   },
   "outputs": [],
   "source": [
    "from typing import List\n",
    "class Solution:\n",
    "    def shuffle(self, nums: List[int], n: int) -> List[int]:\n",
    "        x=nums[:n+1]\n",
    "        y=nums[n:]\n",
    "        temp=[]\n",
    "        for i in range(len(x)-1):\n",
    "          temp.append(x[i])\n",
    "          temp.append(y[i])\n",
    "        return temp\n"
   ]
  },
  {
   "cell_type": "code",
   "execution_count": null,
   "metadata": {
    "colab": {
     "base_uri": "https://localhost:8080/"
    },
    "id": "Xit7VcDNHUmg",
    "outputId": "17abb911-3329-4b9a-c1f6-36df0f8eedea"
   },
   "outputs": [
    {
     "data": {
      "text/plain": [
       "[2, 3, 5, 4, 1, 7]"
      ]
     },
     "execution_count": 25,
     "metadata": {},
     "output_type": "execute_result"
    }
   ],
   "source": [
    "obj=Solution()\n",
    "nums= [2,5,1,3,4,7]\n",
    "n = 3\n",
    "obj.shuffle(nums,n)"
   ]
  },
  {
   "cell_type": "markdown",
   "metadata": {
    "id": "zAz1FXchLngi"
   },
   "source": [
    "**Running Sum of 1d Array**"
   ]
  },
  {
   "cell_type": "code",
   "execution_count": null,
   "metadata": {
    "id": "dL0eLtIqJcvw"
   },
   "outputs": [],
   "source": [
    "from typing import List\n",
    "class Solution:\n",
    "    def runningSum(self, nums: List[int]) -> List[int]:\n",
    "     return [sum(nums[:i]) for i in range(1,len(nums)+1)]\n"
   ]
  },
  {
   "cell_type": "markdown",
   "metadata": {
    "id": "MUs2FzXSMbEp"
   },
   "source": [
    "**Number of Good pairs**\n",
    "\n"
   ]
  },
  {
   "cell_type": "code",
   "execution_count": null,
   "metadata": {
    "id": "dyhVwb-mMjHP"
   },
   "outputs": [],
   "source": [
    "from typing import List\n",
    "from itertools import combinations as pm\n",
    "class Solution:\n",
    "    def numIdenticalPairs(self, nums: List[int]) -> int:\n",
    "      return sum([len(list(pm([1]*nums.count(i),2))) for i in set(nums)])\n",
    "\n",
    "\n",
    "\n",
    "\n",
    "\n",
    "\n",
    "        "
   ]
  },
  {
   "cell_type": "code",
   "execution_count": null,
   "metadata": {
    "colab": {
     "base_uri": "https://localhost:8080/"
    },
    "id": "ONHmbpbF8P-c",
    "outputId": "7b2976f5-d791-478c-ff2a-2bd7b88c4cf0"
   },
   "outputs": [
    {
     "data": {
      "text/plain": [
       "0"
      ]
     },
     "execution_count": 19,
     "metadata": {},
     "output_type": "execute_result"
    }
   ],
   "source": [
    "obj=Solution()\n",
    "obj.numIdenticalPairs([1,2,3])"
   ]
  },
  {
   "cell_type": "markdown",
   "metadata": {
    "id": "_S-yw3bWo_bL"
   },
   "source": [
    "**Suffle String**\n"
   ]
  },
  {
   "cell_type": "code",
   "execution_count": null,
   "metadata": {
    "id": "H-t-0J3t8WYT"
   },
   "outputs": [],
   "source": [
    "from typing import List\n",
    "class Solution:\n",
    "    def restoreString(self,s,indices):\n",
    "          temp=[]\n",
    "          for i in range(len(s)):\n",
    "\n",
    "            #temp.insert(indices[i],s[i])\n",
    "            temp.append((indices[i],s[i]))\n",
    "          temp.sort()\n",
    "\n",
    "          return ''.join([j for i,j in temp])\n"
   ]
  },
  {
   "cell_type": "code",
   "execution_count": null,
   "metadata": {
    "colab": {
     "base_uri": "https://localhost:8080/",
     "height": 35
    },
    "id": "fS1zmTdP-Uv_",
    "outputId": "cfba1239-3178-4c51-8b53-3b890d6cc559"
   },
   "outputs": [
    {
     "data": {
      "application/vnd.google.colaboratory.intrinsic+json": {
       "type": "string"
      },
      "text/plain": [
       "'leetcode'"
      ]
     },
     "execution_count": 24,
     "metadata": {},
     "output_type": "execute_result"
    }
   ],
   "source": [
    "obj=Solution()\n",
    "s = \"codeleet\"\n",
    "indices = [4,5,6,7,0,2,1,3]\n",
    "obj.restoreString(s,indices)"
   ]
  },
  {
   "cell_type": "markdown",
   "metadata": {
    "id": "GhVFeiZ_tmfK"
   },
   "source": [
    "**check if two string arrays are equivalent**\n"
   ]
  },
  {
   "cell_type": "code",
   "execution_count": null,
   "metadata": {
    "id": "_WuM-EV1-W4l"
   },
   "outputs": [],
   "source": [
    "class Solution:\n",
    "    def arrayStringsAreEqual(self, word1: List[str], word2: List[str]) -> bool:\n",
    "        word1 = ''.join(word1)\n",
    "        word2 = ''.join(word2)\n",
    "        if word1 == word2: return True\n",
    "        else: return False"
   ]
  },
  {
   "cell_type": "markdown",
   "metadata": {
    "id": "m1PJNYUav5ig"
   },
   "source": [
    "**Richest Customer Wealth**"
   ]
  },
  {
   "cell_type": "code",
   "execution_count": null,
   "metadata": {
    "id": "LDMmFvWUrZCo"
   },
   "outputs": [],
   "source": [
    "class Solution:\n",
    "    def maximumWealth(self, accounts: List[List[int]]) -> int:\n",
    "        return max([sum(i) for i in accounts])"
   ]
  },
  {
   "cell_type": "markdown",
   "metadata": {
    "id": "oPS9Uvrcwjlt"
   },
   "source": [
    "**Goal parser interpretation**\n"
   ]
  },
  {
   "cell_type": "code",
   "execution_count": null,
   "metadata": {
    "id": "yr5dj9kzwnft"
   },
   "outputs": [],
   "source": [
    "class Solution:\n",
    "    def interpret(self, command: str) -> str:\n",
    "        temp=[]\n",
    "        for i in range(len(command)):\n",
    "          if command[i]=='G':\n",
    "            temp.append('G')\n",
    "          if command[i]=='(' and command[i+1]==')':\n",
    "            temp.append('o')\n",
    "          if command[i]=='(' and command[i+1]=='a':\n",
    "            temp.append('al')\n",
    "        return ''.join(temp)\n"
   ]
  },
  {
   "cell_type": "markdown",
   "metadata": {
    "id": "g7i5IM0CyZRF"
   },
   "source": [
    "**Count number of consistent string**\n"
   ]
  },
  {
   "cell_type": "code",
   "execution_count": null,
   "metadata": {
    "id": "42SlM7jQycJq"
   },
   "outputs": [],
   "source": [
    "from typing import List\n",
    "class Solution:\n",
    "    def countConsistentStrings(self, allowed: str, words: List[str]) -> int:\n",
    "        #return sum([1 for i in words if sorted(list(set(i)))==list(allowed) or ''.join(sorted(list(set(i)))) in allowed]) \n",
    "        temp=[]\n",
    "        for i in words:\n",
    "          if sorted(list(set(i)))==list(allowed):\n",
    "            print(sorted(list(set(i))))\n",
    "            temp.append(1)\n",
    "          else:\n",
    "            count=0\n",
    "            for j in i:\n",
    "              if j in allowed:\n",
    "                count+=1\n",
    "            if count==len(i):\n",
    "              temp.append(1)\n",
    "\n",
    "        return sum(temp)"
   ]
  },
  {
   "cell_type": "markdown",
   "metadata": {
    "id": "_USq2tSBtqYE"
   },
   "source": [
    "**Split a balanced String**\n"
   ]
  },
  {
   "cell_type": "code",
   "execution_count": null,
   "metadata": {
    "colab": {
     "base_uri": "https://localhost:8080/"
    },
    "id": "15o0QZ8wyvaY",
    "outputId": "8be7b3b7-5297-4bee-c43c-94e2ca886556"
   },
   "outputs": [
    {
     "data": {
      "text/plain": [
       "5"
      ]
     },
     "execution_count": 61,
     "metadata": {},
     "output_type": "execute_result"
    }
   ],
   "source": [
    "class Solution:\n",
    "    def balancedStringSplit(self, s: str) -> int:\n",
    "        sList=list(s)\n",
    "        Rcounter=0\n",
    "        Lcounter=0\n",
    "        count=0\n",
    "        i=0\n",
    "        while i<len(sList):\n",
    "            if sList[i]=='R':\n",
    "                Rcounter+=1\n",
    "                i+=1\n",
    "                if Lcounter==Rcounter:\n",
    "                    count+=1\n",
    "                    Lcounter=0\n",
    "                    Rcounter=0\n",
    "                    \n",
    "                continue\n",
    "            if sList[i]=='L':\n",
    "                Lcounter+=1\n",
    "                i+=1\n",
    "                if Lcounter==Rcounter:\n",
    "                    count+=1\n",
    "                    Lcounter=0\n",
    "                    Rcounter=0\n",
    "                    \n",
    "                continue\n",
    "        \n",
    "            \n",
    "          \n",
    "        return count\n",
    "            "
   ]
  },
  {
   "cell_type": "markdown",
   "metadata": {
    "id": "alSSdhz0xKYk"
   },
   "source": [
    "**Min move to seat**"
   ]
  },
  {
   "cell_type": "code",
   "execution_count": null,
   "metadata": {
    "colab": {
     "base_uri": "https://localhost:8080/"
    },
    "id": "zPo6oXYNyyeB",
    "outputId": "ee9cff7f-1296-41af-e30c-6237dff03d02"
   },
   "outputs": [
    {
     "data": {
      "text/plain": [
       "7"
      ]
     },
     "execution_count": 3,
     "metadata": {},
     "output_type": "execute_result"
    }
   ],
   "source": [
    "class Solution:\n",
    "    def minMovesToSeat(self, seats: List[int], students: List[int]) -> int:\n",
    "        return sum([abs(sorted(seats)[i]-sorted(students)[i]) for i in range(len(seats))])"
   ]
  },
  {
   "cell_type": "code",
   "execution_count": null,
   "metadata": {
    "id": "5HGnwTQN3Jir"
   },
   "outputs": [],
   "source": [
    "from typing import List\n",
    "class Solution:\n",
    "    def xorOperation(self, n: int, start: int) -> int:\n",
    "        data=[start+ 2*i for i in range(5)]\n",
    "        output=0\n",
    "        for i in data:\n",
    "            output ^=i\n",
    "        return data\n",
    "            "
   ]
  },
  {
   "cell_type": "code",
   "execution_count": null,
   "metadata": {
    "colab": {
     "base_uri": "https://localhost:8080/"
    },
    "id": "-k5DvZsHzvO9",
    "outputId": "1198ccc4-f561-4c99-8a01-b5e88757ea26"
   },
   "outputs": [
    {
     "data": {
      "text/plain": [
       "[3, 5, 7, 9, 11]"
      ]
     },
     "execution_count": 6,
     "metadata": {},
     "output_type": "execute_result"
    }
   ],
   "source": [
    "obj=Solution()\n",
    "obj.xorOperation(4,3)"
   ]
  },
  {
   "cell_type": "markdown",
   "metadata": {
    "id": "Madyl70_ZG6b"
   },
   "source": [
    "**Sorting the Sentence**\n"
   ]
  },
  {
   "cell_type": "code",
   "execution_count": null,
   "metadata": {
    "id": "RG4Yzixq0DBD"
   },
   "outputs": [],
   "source": [
    "from typing import List\n",
    "class Solution:\n",
    "    def sortSentence(self, s: str) -> str:\n",
    "        data=list(map(str,s.split()))\n",
    "        filtered=sorted([(i[-1],i[:len(i)-1]) for i in data])\n",
    "        final=[i[1] for i in filtered]\n",
    "        return ' '.join(final)\n"
   ]
  },
  {
   "cell_type": "markdown",
   "metadata": {
    "id": "0xoVmLNNg1wu"
   },
   "source": [
    "**Max nesting depth of paranthesis**\n"
   ]
  },
  {
   "cell_type": "code",
   "execution_count": null,
   "metadata": {
    "colab": {
     "base_uri": "https://localhost:8080/"
    },
    "id": "ylnUo0KnZWPZ",
    "outputId": "5f5111c2-c700-495f-9054-d7532b3e3ddc"
   },
   "outputs": [
    {
     "data": {
      "text/plain": [
       "['is2', 'sentence4', 'This1', 'a3']"
      ]
     },
     "execution_count": 1,
     "metadata": {},
     "output_type": "execute_result"
    }
   ],
   "source": [
    "class Solution:\n",
    "    def maxDepth(self, s: str) -> int:\n",
    "        \n",
    "        '''def isVPS(char):\n",
    "            if char=='':\n",
    "                return True\n",
    "            elif len(char)==1 and char!=')' and char!==')':\n",
    "                return True\n",
    "            else:\n",
    "                return False'''\n",
    "        temp=[]\n",
    "        i=0\n",
    "        count=0\n",
    "        for i in s:\n",
    "            if i=='(':\n",
    "                count+=1\n",
    "                temp.append(count)\n",
    "            elif i==')':\n",
    "                count-=1\n",
    "                temp.append(count)\n",
    "            else:\n",
    "                temp.append(0)\n",
    "        return max(temp)\n",
    "            \n",
    "            \n",
    "            \n",
    "        \n",
    "\n",
    "        \n",
    "        "
   ]
  },
  {
   "cell_type": "code",
   "execution_count": null,
   "metadata": {
    "colab": {
     "base_uri": "https://localhost:8080/"
    },
    "id": "lAbQ6BrFNoD2",
    "outputId": "42841987-51a4-425f-db92-a1a0f17d3e33"
   },
   "outputs": [
    {
     "name": "stdout",
     "output_type": "stream",
     "text": [
      "h\n",
      "a\n",
      "m\n",
      "z\n",
      "a\n"
     ]
    }
   ],
   "source": [
    "for i in 'hamza':\n",
    "  print(i)"
   ]
  },
  {
   "cell_type": "markdown",
   "metadata": {
    "id": "sZvV59pgfqUc"
   },
   "source": [
    "**Design an ordered stream**\n",
    "\n",
    "problem statement is not clear that is why skipping it."
   ]
  },
  {
   "cell_type": "code",
   "execution_count": null,
   "metadata": {
    "colab": {
     "base_uri": "https://localhost:8080/"
    },
    "id": "Ex-tCV_hZeN8",
    "outputId": "0bbebdfd-42b0-4e56-a3d9-cd97b01255ba"
   },
   "outputs": [
    {
     "data": {
      "text/plain": [
       "[(1, 'h'), (2, 'a'), (3, 'b')]"
      ]
     },
     "execution_count": 6,
     "metadata": {},
     "output_type": "execute_result"
    }
   ],
   "source": [
    "class OrderedStream:\n",
    "\n",
    "    def __init__(self, n: int):\n",
    "        self.n=n\n",
    "        \n",
    "\n",
    "    def insert(self, idKey: int, value: str) -> List[str]:\n",
    "        self.temp=[]\n",
    "        self.temp.append((idKey,value))\n",
    "        self.temp.sort()\n",
    "    \n",
    "        return [self.temp[i][1] for i in range(len(self.temp))]\n",
    "\n",
    "\n",
    "# Your OrderedStream object will be instantiated and called as such:\n",
    "# obj = OrderedStream(n)\n",
    "# param_1 = obj.insert(idKey,value)"
   ]
  },
  {
   "cell_type": "code",
   "execution_count": null,
   "metadata": {
    "id": "lLG0gTuAZ-FF"
   },
   "outputs": [],
   "source": [
    "a=[[1,18],[18,2],[3,18],[18,4],[18,5],[6,18],[18,7],[18,8],[18,9],[18,10],[18,11],[12,18],[18,13],[18,14],[15,18],[16,18],[17,18]]"
   ]
  },
  {
   "cell_type": "code",
   "execution_count": null,
   "metadata": {
    "id": "IQl4ybRfiPrx"
   },
   "outputs": [],
   "source": [
    "from typing import List\n",
    "class Solution:\n",
    "    def findCenter(self, edges: List[List[int]]) -> int:\n",
    "        data=[j for i in edges for j in i]\n",
    "        data.sort()\n",
    "        print(data)\n",
    "        count=[(data.count(i),i) for i in range(1,len(edges)+2)]\n",
    "        print(count)\n",
    "        return max(count)[1]\n"
   ]
  },
  {
   "cell_type": "code",
   "execution_count": null,
   "metadata": {
    "colab": {
     "base_uri": "https://localhost:8080/"
    },
    "id": "gY_d01-36S6U",
    "outputId": "a2a54285-91b1-4b29-eab2-cb361414d91f"
   },
   "outputs": [
    {
     "name": "stdout",
     "output_type": "stream",
     "text": [
      "[1, 2, 3, 4, 5, 6, 7, 8, 9, 10, 11, 12, 13, 14, 15, 16, 17, 18, 18, 18, 18, 18, 18, 18, 18, 18, 18, 18, 18, 18, 18, 18, 18, 18]\n",
      "[(1, 1), (1, 2), (1, 3), (1, 4), (1, 5), (1, 6), (1, 7), (1, 8), (1, 9), (1, 10), (1, 11), (1, 12), (1, 13), (1, 14), (1, 15), (1, 16), (1, 17), (17, 18)]\n"
     ]
    },
    {
     "data": {
      "text/plain": [
       "18"
      ]
     },
     "execution_count": 18,
     "metadata": {},
     "output_type": "execute_result"
    }
   ],
   "source": [
    "obj=Solution()\n",
    "obj.findCenter(a)"
   ]
  },
  {
   "cell_type": "markdown",
   "metadata": {
    "id": "IsFo_0Vg8u9T"
   },
   "source": [
    "**Range of sum of BST**"
   ]
  },
  {
   "cell_type": "code",
   "execution_count": null,
   "metadata": {
    "id": "fxyveOXS6drQ"
   },
   "outputs": [],
   "source": [
    "#As I'm moving towards Tree I'll first be exploring how to implement them in pyhthon\n",
    "#I'll try to get familiar with  it then move to solving the quesiton\n",
    "\n",
    "class Node:\n",
    "  def __init__(self,value):\n",
    "    self.left=None\n",
    "    self.right=None\n",
    "    self.value=value\n",
    "\n",
    "#funciton to insert new Node\n",
    "\n",
    "def insert(root,key):\n",
    "  if root is None:\n",
    "    root=Node(key)\n",
    "  else:\n",
    "    if root.value==key:\n",
    "      return root\n",
    "    elif root.value<key:\n",
    "      return insert(root.right,key)\n",
    "    else:\n",
    "      return insert(root.left,key)\n",
    "  return root\n",
    "\n",
    "\n",
    "#function to do inorder traversall\n",
    "def inorder(root):\n",
    "  if root:\n",
    "    inorder(root.left)\n",
    "    print(root.value)\n",
    "    inorder(root.right)"
   ]
  },
  {
   "cell_type": "code",
   "execution_count": null,
   "metadata": {
    "colab": {
     "base_uri": "https://localhost:8080/"
    },
    "id": "N71ku6RW65uk",
    "outputId": "fba1fb0a-e444-43bd-ffc2-f6913ee9d432"
   },
   "outputs": [
    {
     "name": "stdout",
     "output_type": "stream",
     "text": [
      "80\n"
     ]
    }
   ],
   "source": [
    "#create root node\n",
    "r = Node(50)\n",
    "r = insert(r, 30)\n",
    "r = insert(r, 20)\n",
    "r = insert(r, 40)\n",
    "r = insert(r, 70)\n",
    "r = insert(r, 60)\n",
    "r = insert(r, 80)\n",
    " \n",
    "# Print inoder traversal of the BST\n",
    "inorder(r)"
   ]
  },
  {
   "cell_type": "code",
   "execution_count": null,
   "metadata": {
    "id": "G5zUGmkC-Mkg"
   },
   "outputs": [],
   "source": [
    " #second implementation of the bst\n",
    "class Node:\n",
    "  def __init__(self,value):\n",
    "    self.left=None\n",
    "    self.right=None\n",
    "    self.value=value\n",
    "\n",
    "  #this insert func will do all the job \n",
    "  def insert(self,newVal):\n",
    "    if self.value==newVal:\n",
    "      return False\n",
    "    elif self.value>newVal:\n",
    "      if self.left:\n",
    "        return self.left.insert(newVal)\n",
    "      else:\n",
    "        self.left=Node(newVal)\n",
    "        return True\n",
    "    else:\n",
    "      if self.right:\n",
    "        return self.right.insert(newVal)\n",
    "      else:\n",
    "        self.right=Node(newVal)\n",
    "        return True\n",
    "\n",
    "  def find(self,value):\n",
    "    if self.value==value:\n",
    "      return True\n",
    "    elif self.value>value:\n",
    "      if self.left:\n",
    "        return self.left.find(value) \n",
    "      else:\n",
    "        return False\n",
    "    else:\n",
    "      if self.right:\n",
    "        return self.right.find(value)\n",
    "      else:\n",
    "        return False\n",
    "\n",
    "  def preorder(self):\n",
    "    if self:\n",
    "      print(self.value)\n",
    "      if self.left:\n",
    "        return self.left.preorder()\n",
    "      if self.right:\n",
    "        return self.right.preorder()\n",
    "\n",
    "  def postorder(self):\n",
    "    if self:\n",
    "      if self.left:\n",
    "        return self.left.postorder()\n",
    "      if self.right:\n",
    "        return self.right.postorder()\n",
    "      print(self.value)\n",
    "\n",
    "  def inorder(self):\n",
    "    if self:\n",
    "      if self.left:\n",
    "        return self.left.inorder()\n",
    "      print(self.value)\n",
    "      \n",
    "      if self.right:\n",
    "        return self.right.inorder()\n",
    "\n",
    "class Tree:\n",
    "  def __init__(self):\n",
    "    self.root=None\n",
    "  \n",
    "  def insert(self,value):\n",
    "    if self.root: # if root node exist that tree has atleast one node\n",
    "      #recursively calling the insert function from the Node class\n",
    "      return self.root.insert(value)\n",
    "    else:\n",
    "      self.root=Node(value)\n",
    "      return True\n",
    "\n",
    "  def find(self,value):\n",
    "    if self.root:\n",
    "      return self.root.find(value)\n",
    "    else:\n",
    "      return False\n",
    "\n",
    "  def preorder(self):\n",
    "    print('preorder')\n",
    "    self.root.preorder()\n",
    "\n",
    "  def inorder(self):\n",
    "    print('inorder')\n",
    "    self.root.inorder()\n",
    "\n",
    "  def postorder(self):\n",
    "    print('postorder')\n",
    "    self.root.postorder()\n"
   ]
  },
  {
   "cell_type": "code",
   "execution_count": null,
   "metadata": {
    "colab": {
     "base_uri": "https://localhost:8080/"
    },
    "id": "gS6DPnDgxJIl",
    "outputId": "407b5be2-16c0-49c9-acac-5100e2338b3e"
   },
   "outputs": [
    {
     "data": {
      "text/plain": [
       "True"
      ]
     },
     "execution_count": 18,
     "metadata": {},
     "output_type": "execute_result"
    }
   ],
   "source": [
    "bst=Tree()\n",
    "bst.insert(1)\n",
    "bst.insert(2)\n",
    "bst.insert(3)\n",
    "bst.insert(4)\n",
    "bst.insert(5)\n",
    "\n"
   ]
  },
  {
   "cell_type": "code",
   "execution_count": null,
   "metadata": {
    "id": "Wk_y_AgwzY0F"
   },
   "outputs": [],
   "source": [
    "# Python program to for tree traversals\n",
    "\n",
    "# A class that represents an individual node in a\n",
    "# Binary Tree\n",
    "\n",
    "\n",
    "class Node:\n",
    "\tdef __init__(self, key):\n",
    "\t\tself.left = None\n",
    "\t\tself.right = None\n",
    "\t\tself.val = key\n",
    "\n",
    "\n",
    "# A function to do inorder tree traversal\n",
    "def printInorder(root):\n",
    "\n",
    "\tif root:\n",
    "\n",
    "\t\t# First recur on left child\n",
    "\t\tprintInorder(root.left)\n",
    "\n",
    "\t\t# then print the data of node\n",
    "\t\tprint(root.val),\n",
    "\n",
    "\t\t# now recur on right child\n",
    "\t\tprintInorder(root.right)\n",
    "\n",
    "\n",
    "# A function to do postorder tree traversal\n",
    "def printPostorder(root):\n",
    "\n",
    "\tif root:\n",
    "\n",
    "\t\t# First recur on left child\n",
    "\t\tprintPostorder(root.left)\n",
    "\n",
    "\t\t# the recur on right child\n",
    "\t\tprintPostorder(root.right)\n",
    "\n",
    "\t\t# now print the data of node\n",
    "\t\tprint(root.val),\n",
    "\n",
    "\n",
    "# A function to do preorder tree traversal\n",
    "def printPreorder(root):\n",
    "\n",
    "\tif root:\n",
    "\n",
    "\t\t# First print the data of node\n",
    "\t\tprint(root.val),\n",
    "\n",
    "\t\t# Then recur on left child\n",
    "\t\tprintPreorder(root.left)\n",
    "\n",
    "\t\t# Finally recur on right child\n",
    "\t\tprintPreorder(root.right)\n",
    "\n",
    "\n",
    "# Driver code\n",
    "root = Node(1)\n",
    "root.left = Node(2)\n",
    "root.right = Node(3)\n",
    "root.left.left = Node(4)\n",
    "root.left.right = Node(5)\n",
    "print (\"Preorder traversal of binary tree is\")\n",
    "printPreorder(root)\n",
    "\n",
    "print (\"\\nInorder traversal of binary tree is\")\n",
    "printInorder(root)\n",
    "\n",
    "print (\"\\nPostorder traversal of binary tree is\")\n",
    "printPostorder(root)\n"
   ]
  },
  {
   "cell_type": "code",
   "execution_count": null,
   "metadata": {
    "colab": {
     "base_uri": "https://localhost:8080/",
     "height": 146
    },
    "id": "nI-1zUVMP1p9",
    "outputId": "27044ed8-9d8e-40a8-dca6-2ddd6c6d5c6e"
   },
   "outputs": [
    {
     "ename": "SyntaxError",
     "evalue": "ignored",
     "output_type": "error",
     "traceback": [
      "\u001b[0;36m  File \u001b[0;32m\"<ipython-input-22-fed4bda8ef8e>\"\u001b[0;36m, line \u001b[0;32m1\u001b[0m\n\u001b[0;31m    data=TreeNode{val: 10, left: TreeNode{val: 5, left: TreeNode{val: 3, left: None, right: None}, right: TreeNode{val: 7, left: None, right: None}}, right: TreeNode{val: 15, left: None, right: TreeNode{val: 18, left: None, right: None}}}\u001b[0m\n\u001b[0m                 ^\u001b[0m\n\u001b[0;31mSyntaxError\u001b[0m\u001b[0;31m:\u001b[0m invalid syntax\n"
     ]
    }
   ],
   "source": []
  },
  {
   "cell_type": "code",
   "execution_count": null,
   "metadata": {
    "id": "laldDQGdP65A"
   },
   "outputs": [],
   "source": [
    "data=TreeNode(val=10, left=TreeNode(val=5, left=TreeNode(val=3, left=None, right=None), right=TreeNode(val=7, left=None, right=None)), right= TreeNode(val =15 , left=None, right= TreeNode(val= 18, left=None, right= None)))\n"
   ]
  },
  {
   "cell_type": "markdown",
   "metadata": {
    "id": "uS4R883dinco"
   },
   "source": []
  },
  {
   "cell_type": "code",
   "execution_count": null,
   "metadata": {
    "id": "Ueb5j-nj0gmT"
   },
   "outputs": [],
   "source": [
    "# Definition for a binary tree node.\n",
    "#Final Solution\n",
    "class TreeNode:\n",
    "     def __init__(self, val=0, left=None, right=None):\n",
    "         self.val = val\n",
    "         self.left = left\n",
    "         self.right = right\n",
    "from typing import List\n",
    "class Solution:\n",
    "    \n",
    "    def rangeSumBST(self, root,low,high):\n",
    "        temp=[]\n",
    "        def traverse(root):\n",
    "            if root:\n",
    "              traverse(root.left)\n",
    "              temp.append(root.val)\n",
    "              traverse(root.right)\n",
    "        traverse(root)\n",
    "        temp.sort()\n",
    "        return sum(temp[temp.index(low):temp.index(high)+1])"
   ]
  },
  {
   "cell_type": "code",
   "execution_count": null,
   "metadata": {
    "colab": {
     "base_uri": "https://localhost:8080/"
    },
    "id": "RrebCyx70rbX",
    "outputId": "4c5970c0-7fb7-4243-d6dc-f32811fe743e"
   },
   "outputs": [
    {
     "data": {
      "text/plain": [
       "32"
      ]
     },
     "execution_count": 105,
     "metadata": {},
     "output_type": "execute_result"
    }
   ],
   "source": [
    "obj=Solution()\n",
    "obj.rangeSumBST(data,7,15)"
   ]
  },
  {
   "cell_type": "markdown",
   "metadata": {
    "id": "5dXvMNnEGE3b"
   },
   "source": [
    "**Sum of all odd sublength array**"
   ]
  },
  {
   "cell_type": "code",
   "execution_count": null,
   "metadata": {
    "colab": {
     "base_uri": "https://localhost:8080/"
    },
    "id": "mESGEDiHRrn8",
    "outputId": "aab70afa-d3be-4e6a-d120-a206455c50a6"
   },
   "outputs": [
    {
     "name": "stdout",
     "output_type": "stream",
     "text": [
      "1\n",
      "3\n",
      "5\n"
     ]
    }
   ],
   "source": [
    "class Solution:\n",
    "    def sumOddLengthSubarrays(self, arr: List[int]) -> int:\n",
    "        temp=[]\n",
    "        for i in range(1,len(arr)+1,2):            \n",
    "            for j in range(len(arr)):\n",
    "                temp.append(sum(arr[j:j+i]))\n",
    "                if arr[j:j+i][-1]==arr[-1]:\n",
    "                    break\n",
    "                \n",
    "        return sum(temp)\n",
    "                "
   ]
  },
  {
   "cell_type": "markdown",
   "metadata": {
    "id": "IO-1qGRXLq3V"
   },
   "source": [
    "**1290. Convert Binary Number in a Linked List to Integer**\n"
   ]
  },
  {
   "cell_type": "code",
   "execution_count": null,
   "metadata": {
    "colab": {
     "base_uri": "https://localhost:8080/"
    },
    "id": "xS_fj22U9KaP",
    "outputId": "2886d563-9090-409f-b1f9-e20baed7403d"
   },
   "outputs": [
    {
     "data": {
      "text/plain": [
       "5"
      ]
     },
     "execution_count": 44,
     "metadata": {},
     "output_type": "execute_result"
    }
   ],
   "source": [
    "from typing import List\n",
    "class Solution:\n",
    "    def maxProductDifference(self, nums: List[int]) -> int:\n",
    "        from itertools import combinations as cb\n",
    "        possiblePairs=list(cb(num,2))\n",
    "        a=list(cb(possiblePairs,2))\n",
    "        return max([ i[0][0]*i[0][1] - i[1][0]*i[1][1]  for i in PossibleProductFormat ])\n",
    "        \n"
   ]
  },
  {
   "cell_type": "code",
   "execution_count": null,
   "metadata": {
    "id": "b115_LEAFBV1"
   },
   "outputs": [],
   "source": [
    "#optimised solution\n",
    "from typing import List\n",
    "class Solution:\n",
    "    def maxProductDifference(self, nums: List[int]) -> int:\n",
    "        nums=sorted(nums)\n",
    "        return nums[-1]*nums[-2] - nums[0]*nums[1]\n",
    "        \n"
   ]
  },
  {
   "cell_type": "markdown",
   "metadata": {
    "id": "A59h79LVfLTj"
   },
   "source": [
    "**Count Good Triplets**"
   ]
  },
  {
   "cell_type": "code",
   "execution_count": null,
   "metadata": {
    "colab": {
     "base_uri": "https://localhost:8080/"
    },
    "id": "nBeByaIvVBUA",
    "outputId": "071b856c-80f8-43a6-e3d2-0769f4a97c24"
   },
   "outputs": [
    {
     "name": "stdout",
     "output_type": "stream",
     "text": [
      "12\n"
     ]
    }
   ],
   "source": [
    "class Solution:\n",
    "    def countGoodTriplets(self, arr: List[int], a: int, b: int, c: int) -> int:\n",
    "        from itertools import combinations as cb\n",
    "        return len([ i for i in list(cb(arr,3)) if abs(i[0]-i[1]) <= a and abs(i[1]-i[2])<=b and abs(i[0]-i[2])<=c ])\n",
    "                "
   ]
  },
  {
   "cell_type": "markdown",
   "metadata": {
    "id": "UA5BqoUDGqki"
   },
   "source": [
    "**Replace all digits with char**"
   ]
  },
  {
   "cell_type": "code",
   "execution_count": null,
   "metadata": {
    "colab": {
     "base_uri": "https://localhost:8080/"
    },
    "id": "i3f6y5arVGvD",
    "outputId": "ec96b9aa-d7da-465a-80ce-b9e96bbac66d"
   },
   "outputs": [
    {
     "data": {
      "text/plain": [
       "[('a', '1'), ('b', '2'), ('c', '3'), ('d', '4')]"
      ]
     },
     "execution_count": 10,
     "metadata": {},
     "output_type": "execute_result"
    }
   ],
   "source": [
    "class Solution:\n",
    "    def replaceDigits(self, s: str) -> str:\n",
    "        \n",
    "        def shift(a,b):\n",
    "            data='abcdefghijklmnopqrstuvwxyz'\n",
    "            if int(b)==0:\n",
    "                return a+a\n",
    "            else:\n",
    "                return a+data[data.index(a)+int(b)]\n",
    "\n",
    "        if len(s)%2==0:\n",
    "            \n",
    "             return ''.join([shift(s[i-1],s[i]) for i in range(len(s)) if s[i].isdigit()])\n",
    "        else:\n",
    "             return ''.join([shift(s[i-1],s[i]) for i in range(len(s)) if s[i].isdigit()]) +s[-1]\n",
    "            "
   ]
  },
  {
   "cell_type": "code",
   "execution_count": null,
   "metadata": {
    "colab": {
     "base_uri": "https://localhost:8080/"
    },
    "id": "xAsRxAi0WV0J",
    "outputId": "321c8794-38dc-430b-dd2a-df9304f356f7"
   },
   "outputs": [
    {
     "data": {
      "text/plain": [
       "3"
      ]
     },
     "execution_count": 1,
     "metadata": {},
     "output_type": "execute_result"
    }
   ],
   "source": [
    "from typing import List\n",
    "class Solution:\n",
    "    def removeOuterParentheses(self, s: str) -> str:\n",
    "        def productList(s):\n",
    "          open=0\n",
    "          temp1=[]\n",
    "          for i in range(len(s)):\n",
    "            if s[i]=='(':\n",
    "              open+=1\n",
    "            else:\n",
    "              open-=1\n",
    "            if open==0:\n",
    "              temp=list(s[:i])\n",
    "\n",
    "          return temp1\n",
    "\n",
    "\n",
    "        data=produceList(s)\n",
    "        return ''.join([removeOuter(i) for i in data])"
   ]
  },
  {
   "cell_type": "markdown",
   "metadata": {
    "id": "ZmaS-Tufjc5G"
   },
   "source": [
    "**Remove outmost paranthesis**"
   ]
  },
  {
   "cell_type": "code",
   "execution_count": null,
   "metadata": {
    "colab": {
     "base_uri": "https://localhost:8080/",
     "height": 35
    },
    "id": "zZpx1A5eIgEz",
    "outputId": "c03ed413-5402-4e77-99f0-f5cfe7b9a656"
   },
   "outputs": [
    {
     "data": {
      "application/vnd.google.colaboratory.intrinsic+json": {
       "type": "string"
      },
      "text/plain": [
       "'()()()'"
      ]
     },
     "execution_count": 18,
     "metadata": {},
     "output_type": "execute_result"
    }
   ],
   "source": [
    "class Solution:\n",
    "    def removeOuterParentheses(self, s: str) -> str:\n",
    "          open=0\n",
    "          temp1=[]\n",
    "          s=list(s)\n",
    "          i=0\n",
    "          while i<len(s):\n",
    "            if s[i]=='(':\n",
    "              open+=1\n",
    "            else:\n",
    "              open-=1\n",
    "            if open==0:\n",
    "              temp=s[:i+1]\n",
    "              del temp[0]\n",
    "              del temp[-1]\n",
    "              temp1.append(''.join(temp))\n",
    "              del s[:i+1]\n",
    "              i=0\n",
    "              continue\n",
    "            i+=1\n",
    "\n",
    "          return ''.join(temp1)"
   ]
  },
  {
   "cell_type": "markdown",
   "metadata": {
    "id": "3lnAH2dtmdRc"
   },
   "source": [
    "**Unique Morse Code Words**"
   ]
  },
  {
   "cell_type": "code",
   "execution_count": null,
   "metadata": {
    "id": "SEruwNTaOa_e"
   },
   "outputs": [],
   "source": [
    "class Solution:\n",
    "    def uniqueMorseRepresentations(self, words: List[str]) -> int:\n",
    "        \n",
    "        def value(s):\n",
    "          a=list('abcdefghijklmnopqrstuvwxyz')\n",
    "          b=[\".-\",\"-...\",\"-.-.\",\"-..\",\".\",\"..-.\",\"--.\",\"....\",\"..\",\".---\",\"-.-\",\".-..\",\"--\",\"-.\",\"---\",\".--.\",\"--.-\",\".-.\",\"...\",\"-\",\"..-\",\"...-\",\".--\",\"-..-\",\"-.--\",\"--..\"]\n",
    "          c=dict(zip(a,b))\n",
    "          return ''.join([c[i] for i in s])\n",
    "        \n",
    "        return len(set(map(value,words)))\n"
   ]
  },
  {
   "cell_type": "markdown",
   "metadata": {
    "id": "LAfSEgNPTTuh"
   },
   "source": [
    "**Find the highest Altitude**"
   ]
  },
  {
   "cell_type": "code",
   "execution_count": null,
   "metadata": {
    "colab": {
     "base_uri": "https://localhost:8080/"
    },
    "id": "ut_jz83Lhy_y",
    "outputId": "1b596840-06b7-4e41-e55c-81a663439e04"
   },
   "outputs": [
    {
     "data": {
      "text/plain": [
       "[-4, -7, -9, -10, -6, -3, -1]"
      ]
     },
     "execution_count": 19,
     "metadata": {},
     "output_type": "execute_result"
    }
   ],
   "source": [
    "gain = [-4,-3,-2,-1,4,3,2]\n",
    "temp=[0]\n",
    "a=0\n",
    "for i in gain:\n",
    "  a+=i\n",
    "  temp.append(a)\n",
    "temp"
   ]
  },
  {
   "cell_type": "markdown",
   "metadata": {
    "id": "x6PUaFwnT8S9"
   },
   "source": [
    "**Flipping an image**"
   ]
  },
  {
   "cell_type": "code",
   "execution_count": null,
   "metadata": {
    "id": "I7jkDs2VmAbz"
   },
   "outputs": [],
   "source": [
    "from typing import List \n",
    "class Solution:\n",
    "    def flipAndInvertImage(self, image: List[List[int]]) -> List[List[int]]:\n",
    "\n",
    "        def reverse(num):\n",
    "          return num[::-1]\n",
    "\n",
    "        def flip(image):\n",
    "          return [reverse(i) for i in image]\n",
    "        \n",
    "        def invertTo(num):\n",
    "          temp=[]\n",
    "          for i in num:\n",
    "            if i==1:\n",
    "              temp.append(0)\n",
    "            else:\n",
    "              temp.append(1)\n",
    "          return temp\n",
    "\n",
    "        def invert(image):\n",
    "          return [invertTo(i) for i in image]\n",
    "\n",
    "\n",
    "\n",
    "        flippedImage=flip(image)\n",
    "        invertedImage=invert(flippedImage)\n",
    "        return invertedImage"
   ]
  },
  {
   "cell_type": "code",
   "execution_count": null,
   "metadata": {
    "colab": {
     "base_uri": "https://localhost:8080/"
    },
    "id": "pdrX1fNDUF5n",
    "outputId": "dbd67b8e-fe79-4360-c4e1-472f1de3c025"
   },
   "outputs": [
    {
     "data": {
      "text/plain": [
       "[[1, 0, 0], [0, 1, 0], [1, 1, 1]]"
      ]
     },
     "execution_count": 32,
     "metadata": {},
     "output_type": "execute_result"
    }
   ],
   "source": [
    "obj=Solution()\n",
    "image=[[1,1,0],[1,0,1],[0,0,0]]\n",
    "obj.flipAndInvertImage(image)"
   ]
  },
  {
   "cell_type": "markdown",
   "metadata": {
    "id": "2149gAacaiP-"
   },
   "source": [
    "**Number of Rectangles**"
   ]
  },
  {
   "cell_type": "code",
   "execution_count": null,
   "metadata": {
    "id": "dhdUVedlUkk4"
   },
   "outputs": [],
   "source": [
    "class Solution:\n",
    "    def countGoodRectangles(self, rectangles: List[List[int]]) -> int:\n",
    "        return len([i for i in rectangles if max([min(i) for i in rectangles])== min(i)])"
   ]
  },
  {
   "cell_type": "code",
   "execution_count": null,
   "metadata": {
    "colab": {
     "base_uri": "https://localhost:8080/"
    },
    "id": "jdIqCi6PUpnA",
    "outputId": "f4c3dfd5-2804-4cf4-d52f-9d22b5b2787c"
   },
   "outputs": [
    {
     "data": {
      "text/plain": [
       "3"
      ]
     },
     "execution_count": 34,
     "metadata": {},
     "output_type": "execute_result"
    }
   ],
   "source": [
    "obj=Solution()\n",
    "rec=[[5,8],[3,9],[5,12],[16,5]]\n",
    "obj.countGoodRectangles(rec)"
   ]
  },
  {
   "cell_type": "code",
   "execution_count": null,
   "metadata": {
    "id": "t4KytPjIZNTm"
   },
   "outputs": [],
   "source": [
    "from typing import List\n",
    "class Solution:\n",
    "    def halvesAreAlike(self, s: str) -> bool:\n",
    "        s=s.lower()\n",
    "        a=s[:int(len(s)/2)]\n",
    "        b=s[int(len(s)/2):]\n",
    "\n",
    "        def countV(text):\n",
    "            count=0\n",
    "            for i in text:\n",
    "                if i == 'a' or i == 'e' or i == 'i' or i == 'o' or i ==  'u':\n",
    "                    count+=1\n",
    "            return count\n",
    "    \n",
    "        return countV(a)==countV(b)"
   ]
  },
  {
   "cell_type": "code",
   "execution_count": null,
   "metadata": {},
   "outputs": [],
   "source": []
  },
  {
   "cell_type": "code",
   "execution_count": null,
   "metadata": {
    "colab": {
     "base_uri": "https://localhost:8080/"
    },
    "id": "cV06kFt0Mr2_",
    "outputId": "94834bfb-00b9-4c87-e688-4e172675de0f"
   },
   "outputs": [
    {
     "data": {
      "text/plain": [
       "True"
      ]
     },
     "execution_count": 30,
     "metadata": {},
     "output_type": "execute_result"
    }
   ],
   "source": [
    "obj=Solution()\n",
    "s='aeiouu'\n",
    "obj.halvesAreAlike(s)"
   ]
  },
  {
   "cell_type": "markdown",
   "metadata": {
    "id": "PMoqLYJzYiy8"
   },
   "source": [
    "**Cell with odd values in a matrix**\n"
   ]
  },
  {
   "cell_type": "code",
   "execution_count": null,
   "metadata": {
    "id": "u-ZtvPKUSP8H"
   },
   "outputs": [],
   "source": [
    "from typing import List\n",
    "class Solution:\n",
    "    def oddCells(self, m: int, n: int, indices: List[List[int]]) -> int:\n",
    "      zeroMat=[[0 for i in range(n)] for i in range(m)]\n",
    "      def increment(nums,Mat):\n",
    "        Mat[nums[0]]=[i+1 for i in Mat[nums[0]]]\n",
    "        for i in Mat:\n",
    "          i[nums[1]]=i[nums[1]]+1\n",
    "        return Mat\n",
    "      \n",
    "      for i in indices:\n",
    "        zeroMat=increment(i,zeroMat)\n",
    "\n",
    "      return len([0 for i in zeroMat for j in i if j%2!=0])\n",
    "        "
   ]
  },
  {
   "cell_type": "code",
   "execution_count": null,
   "metadata": {
    "colab": {
     "base_uri": "https://localhost:8080/"
    },
    "id": "19qKkle9Yo8p",
    "outputId": "a39ac2d9-e1a9-4dd3-e062-1877b00c5504"
   },
   "outputs": [
    {
     "data": {
      "text/plain": [
       "6"
      ]
     },
     "execution_count": 11,
     "metadata": {},
     "output_type": "execute_result"
    }
   ],
   "source": [
    "m=2\n",
    "n=3\n",
    "indices=[[0,1],[1,1]]\n",
    "obj=Solution()\n",
    "obj.oddCells(m,n,indices)"
   ]
  },
  {
   "cell_type": "code",
   "execution_count": null,
   "metadata": {
    "colab": {
     "base_uri": "https://localhost:8080/"
    },
    "id": "qCmWzaOMZTOs",
    "outputId": "04874567-d869-485e-eaf1-da3a68700ada"
   },
   "outputs": [
    {
     "data": {
      "text/plain": [
       "[[0, 0, 0], [0, 0, 0]]"
      ]
     },
     "execution_count": 2,
     "metadata": {},
     "output_type": "execute_result"
    }
   ],
   "source": [
    "class Solution:\n",
    "    def diagonalSum(self, mat: List[List[int]]) -> int:\n",
    "        \n",
    "        diagA=0\n",
    "        diagB=0\n",
    "        for j in range(len(mat)):\n",
    "            diagA=diagA+mat[j][j]\n",
    "            diagB=diagB+mat[j][-j]\n",
    "        if len(mat)%2!=0:\n",
    "            diagA=diagA-mat[len(mat)//2]\n",
    "        \n",
    "        \n",
    "        return diagA+diagB"
   ]
  },
  {
   "cell_type": "code",
   "execution_count": null,
   "metadata": {
    "colab": {
     "base_uri": "https://localhost:8080/"
    },
    "id": "wk1X7z-xZVVe",
    "outputId": "cb2656c1-3c37-4ce7-fe7e-00748c5466cb"
   },
   "outputs": [
    {
     "data": {
      "text/plain": [
       "[4, 5, 6]"
      ]
     },
     "execution_count": 8,
     "metadata": {},
     "output_type": "execute_result"
    }
   ],
   "source": [
    "mat=[[1,2,3],[4,5,6],[7,8,9]]\n",
    "mat[len(mat)//2]"
   ]
  },
  {
   "cell_type": "markdown",
   "metadata": {
    "id": "VjfuP0WZwMhu"
   },
   "source": [
    "**Subset xor sum**"
   ]
  },
  {
   "cell_type": "code",
   "execution_count": null,
   "metadata": {
    "colab": {
     "base_uri": "https://localhost:8080/"
    },
    "id": "akaYYIHaasCd",
    "outputId": "cd6e1454-9623-4bb2-9be4-85b0c32c3a93"
   },
   "outputs": [
    {
     "name": "stdout",
     "output_type": "stream",
     "text": [
      "(5, 1)\n",
      "(5, 6)\n",
      "(1, 6)\n"
     ]
    }
   ],
   "source": [
    "class Solution:\n",
    "    def subsetXORSum(self, nums: List[int]) -> int:\n",
    "        from itertools import combinations as pm\n",
    "        sum=0\n",
    "        def xor(nums):\n",
    "            temp=0\n",
    "            for i in nums:\n",
    "                temp^=i\n",
    "            return temp\n",
    "        \n",
    "        for i in range(1,len(nums)+1):\n",
    "            data=list(pm(nums,i))\n",
    "            for j in data:\n",
    "                sum+=xor(j)\n",
    "        return sum\n",
    "            \n",
    "            "
   ]
  },
  {
   "cell_type": "code",
   "execution_count": null,
   "metadata": {
    "colab": {
     "base_uri": "https://localhost:8080/"
    },
    "id": "Vm7CJKrVSy9R",
    "outputId": "fa3b0bb7-cc89-4b28-8a11-7d4cff7cea0e"
   },
   "outputs": [
    {
     "name": "stdout",
     "output_type": "stream",
     "text": [
      "jkab\n"
     ]
    }
   ],
   "source": [
    "a=list('abcdefghijklmnopqrstuvwxyz')\n",
    "b=[1,2,3,4,5,6,7,8,9,10,11,12,13,14,15,16,17,18,19,20,21,22,23,24,25,26]\n",
    "data=dict(zip(b,a))\n",
    "s = list(\"10#11#12\")\n",
    "temp=[]\n",
    "i=0\n",
    "while i<len(s):\n",
    "    if len(s)<=2:\n",
    "        temp.append(data[int(s[i])])\n",
    "        del s[i]\n",
    "        continue\n",
    "    \n",
    "    if s[i+2]!='#':\n",
    "        temp.append(data[int(s[i])])\n",
    "        del s[i]\n",
    "    else:\n",
    "        temp.append(data[int(s[i]+s[i+1])])\n",
    "        del s[i:3]\n",
    "\n",
    "print(''.join(temp))"
   ]
  },
  {
   "cell_type": "code",
   "execution_count": 2,
   "metadata": {
    "colab": {
     "base_uri": "https://localhost:8080/",
     "height": 179
    },
    "id": "vcQMBqpGzjCi",
    "outputId": "f59778cf-3fa8-4dbb-d2a2-0f3961f2c673"
   },
   "outputs": [],
   "source": [
    "class Solution:\n",
    "    def sortString(self, s: str) -> str:\n",
    "        result=[]\n",
    "        s=list(s)\n",
    "        while len(s)!=0:\n",
    "            s1=list(set(s))\n",
    "            s1.sort()\n",
    "            result+=s1\n",
    "            for i in s1:\n",
    "                s.remove(i)\n",
    "            s2=list(set(s))\n",
    "            s2.sort()\n",
    "            result+=s2[::-1]\n",
    "            for i in s2:\n",
    "                s.remove(i)\n",
    "        \n",
    "        return ''.join(result)"
   ]
  },
  {
   "cell_type": "code",
   "execution_count": 3,
   "metadata": {
    "id": "ynsNqHDK2kjJ"
   },
   "outputs": [
    {
     "data": {
      "text/plain": [
       "'abccb'"
      ]
     },
     "execution_count": 3,
     "metadata": {},
     "output_type": "execute_result"
    }
   ],
   "source": [
    "obj=Solution()\n",
    "obj.sortString('abbcc')\n",
    "\n"
   ]
  },
  {
   "cell_type": "markdown",
   "metadata": {},
   "source": [
    "Max Product of two element in an array"
   ]
  },
  {
   "cell_type": "code",
   "execution_count": 7,
   "metadata": {
    "tags": []
   },
   "outputs": [],
   "source": [
    "from typing import List\n",
    "class Solution:\n",
    "    def maxProduct(self, nums: List[int]) -> int:\n",
    "        from itertools import combinations as pm\n",
    "        data=list(pm(nums,2))\n",
    "        def product(n):\n",
    "            return (n[0]-1)* (n[1]-1)\n",
    "        return max([product(i) for i in data])\n",
    "        "
   ]
  },
  {
   "cell_type": "code",
   "execution_count": 18,
   "metadata": {},
   "outputs": [],
   "source": [
    "# more optimised solution\n",
    "from typing import List\n",
    "class Solution:\n",
    "    def maxProduct(self, nums: List[int]) -> int:\n",
    "        nums.sort()\n",
    "        def product(n,m):\n",
    "            return (n-1)* (m-1)\n",
    "        return product(nums[-1],nums[-2])\n",
    "        "
   ]
  },
  {
   "cell_type": "code",
   "execution_count": 19,
   "metadata": {},
   "outputs": [
    {
     "data": {
      "text/plain": [
       "12"
      ]
     },
     "execution_count": 19,
     "metadata": {},
     "output_type": "execute_result"
    }
   ],
   "source": [
    "obj=Solution()\n",
    "nums = [3,4,5,2]\n",
    "obj.maxProduct(nums)"
   ]
  },
  {
   "cell_type": "code",
   "execution_count": 15,
   "metadata": {},
   "outputs": [],
   "source": [
    "from typing import List\n",
    "class Solution:\n",
    "    def findNumbers(self, nums: List[int]) -> int:\n",
    "        return len([i for i in nums if len(list(str(i)))%2==0])"
   ]
  },
  {
   "cell_type": "code",
   "execution_count": 16,
   "metadata": {},
   "outputs": [
    {
     "data": {
      "text/plain": [
       "2"
      ]
     },
     "execution_count": 16,
     "metadata": {},
     "output_type": "execute_result"
    }
   ],
   "source": [
    "obj=Solution()\n",
    "nums = [12,345,2,6,7896]\n",
    "obj.findNumbers(nums)"
   ]
  },
  {
   "cell_type": "markdown",
   "metadata": {},
   "source": [
    "Destination City "
   ]
  },
  {
   "cell_type": "code",
   "execution_count": 82,
   "metadata": {},
   "outputs": [],
   "source": [
    "from typing import List\n",
    "class Solution:\n",
    "    def destCity(self, paths: List[List[str]]) -> str:\n",
    "        if len(paths)<=1:\n",
    "            return paths[0][1]\n",
    "        keys=list(set([j for i in paths for j in i]))\n",
    "        alpha='ABCDEFGHIJKLMNOPQRSTUVWXYZ'\n",
    "        value=list(alpha[:len(keys)])\n",
    "        data=dict(zip(keys,value))\n",
    "        dataRev=dict(zip(value,keys))\n",
    "        for i in range(len(paths)):\n",
    "            for j in range(len(paths[i])):\n",
    "                paths[i][j]=data[paths[i][j]]\n",
    "\n",
    "        paths.sort()\n",
    "\n",
    "        start=paths[0][1]\n",
    "        del paths[0]\n",
    "        \n",
    "        for i in paths:\n",
    "            if start in i:\n",
    "                start=i[1]\n",
    "        \n",
    "        return dataRev[start]"
   ]
  },
  {
   "cell_type": "code",
   "execution_count": 95,
   "metadata": {},
   "outputs": [],
   "source": [
    "from typing import List\n",
    "class Solution:\n",
    "    def destCity(self, paths: List[List[str]]) -> str:\n",
    "        if len(paths)<=1:\n",
    "            return paths[0][1]\n",
    "        A=[]\n",
    "        B=[]\n",
    "        for i in paths:\n",
    "            A.append(i[0])\n",
    "            B.append(i[1])\n",
    "        \n",
    "        sample=list(set(A+B)-set(A).intersection(set(B)))\n",
    "        if sample[0] in set(B):\n",
    "            return sample[0]\n",
    "        else:\n",
    "            return sample[1]"
   ]
  },
  {
   "cell_type": "code",
   "execution_count": 97,
   "metadata": {},
   "outputs": [
    {
     "data": {
      "text/plain": [
       "'A'"
      ]
     },
     "execution_count": 97,
     "metadata": {},
     "output_type": "execute_result"
    }
   ],
   "source": [
    "c=[[\"B\",\"C\"],[\"D\",\"B\"],[\"C\",\"A\"]]\n",
    "obj=Solution()\n",
    "obj.destCity(c)\n",
    "\n",
    "\n"
   ]
  },
  {
   "cell_type": "markdown",
   "metadata": {},
   "source": [
    "**Determine color of chess board**"
   ]
  },
  {
   "cell_type": "code",
   "execution_count": 109,
   "metadata": {},
   "outputs": [],
   "source": [
    "from typing import List\n",
    "class Solution:\n",
    "    def squareIsWhite(self, coordinates: str) -> bool:\n",
    "        if int(coordinates[1])%2==0 and coordinates[0] in 'aceg':\n",
    "            return True\n",
    "        elif int(coordinates[1])%2!=0  and coordinates[0] in 'bdfh':\n",
    "            return True\n",
    "        else:\n",
    "            return False"
   ]
  },
  {
   "cell_type": "code",
   "execution_count": 110,
   "metadata": {},
   "outputs": [
    {
     "data": {
      "text/plain": [
       "True"
      ]
     },
     "execution_count": 110,
     "metadata": {},
     "output_type": "execute_result"
    }
   ],
   "source": [
    "coordinates = \"h3\"\n",
    "obj=Solution()\n",
    "obj.squareIsWhite(coordinates)"
   ]
  },
  {
   "cell_type": "raw",
   "metadata": {},
   "source": [
    "Find N Unique Integers Sum up to Zero"
   ]
  },
  {
   "cell_type": "code",
   "execution_count": 116,
   "metadata": {},
   "outputs": [
    {
     "data": {
      "text/plain": [
       "{(1, 'a'), (2, 'b'), (3, 'c'), (4, 'd')}"
      ]
     },
     "execution_count": 116,
     "metadata": {},
     "output_type": "execute_result"
    }
   ],
   "source": [
    "class Solution:\n",
    "    def sumZero(self, n: int) -> List[int]:\n",
    "        if n%2==0:\n",
    "            return [i for i in range(1,int(n/2)+1)] + [-i for i in range(1,int(n/2)+1)]\n",
    "        else:\n",
    "            return [i for i in range(1,int((n-1)/2)+1)] + [-i for i in range(1,int((n-1)/2)+1)] +[0]"
   ]
  },
  {
   "cell_type": "code",
   "execution_count": 14,
   "metadata": {},
   "outputs": [
    {
     "data": {
      "text/plain": [
       "2"
      ]
     },
     "execution_count": 14,
     "metadata": {},
     "output_type": "execute_result"
    }
   ],
   "source": [
    "class Solution:\n",
    "    def deleteNode(self, node):\n",
    "        \n",
    "        while head!=None:\n",
    "            if head.next==node:\n",
    "                self.next=self.next.next\n",
    "                break"
   ]
  },
  {
   "cell_type": "code",
   "execution_count": 16,
   "metadata": {},
   "outputs": [
    {
     "ename": "NameError",
     "evalue": "name 'Optional' is not defined",
     "output_type": "error",
     "traceback": [
      "\u001b[0;31m---------------------------------------------------------------------------\u001b[0m",
      "\u001b[0;31mNameError\u001b[0m                                 Traceback (most recent call last)",
      "\u001b[0;32m<ipython-input-16-97473625d209>\u001b[0m in \u001b[0;36m<module>\u001b[0;34m\u001b[0m\n\u001b[1;32m      4\u001b[0m \u001b[0;31m#         self.val = val\u001b[0m\u001b[0;34m\u001b[0m\u001b[0;34m\u001b[0m\u001b[0;34m\u001b[0m\u001b[0m\n\u001b[1;32m      5\u001b[0m \u001b[0;31m#         self.next = next\u001b[0m\u001b[0;34m\u001b[0m\u001b[0;34m\u001b[0m\u001b[0;34m\u001b[0m\u001b[0m\n\u001b[0;32m----> 6\u001b[0;31m \u001b[0;32mclass\u001b[0m \u001b[0mSolution\u001b[0m\u001b[0;34m:\u001b[0m\u001b[0;34m\u001b[0m\u001b[0;34m\u001b[0m\u001b[0m\n\u001b[0m\u001b[1;32m      7\u001b[0m     \u001b[0;32mdef\u001b[0m \u001b[0mreverseList\u001b[0m\u001b[0;34m(\u001b[0m\u001b[0mself\u001b[0m\u001b[0;34m,\u001b[0m \u001b[0mhead\u001b[0m\u001b[0;34m:\u001b[0m \u001b[0mOptional\u001b[0m\u001b[0;34m[\u001b[0m\u001b[0mListNode\u001b[0m\u001b[0;34m]\u001b[0m\u001b[0;34m)\u001b[0m \u001b[0;34m->\u001b[0m \u001b[0mOptional\u001b[0m\u001b[0;34m[\u001b[0m\u001b[0mListNode\u001b[0m\u001b[0;34m]\u001b[0m\u001b[0;34m:\u001b[0m\u001b[0;34m\u001b[0m\u001b[0;34m\u001b[0m\u001b[0m\n\u001b[1;32m      8\u001b[0m         \u001b[0mtemp\u001b[0m\u001b[0;34m=\u001b[0m\u001b[0;34m[\u001b[0m\u001b[0;34m]\u001b[0m\u001b[0;34m\u001b[0m\u001b[0;34m\u001b[0m\u001b[0m\n",
      "\u001b[0;32m<ipython-input-16-97473625d209>\u001b[0m in \u001b[0;36mSolution\u001b[0;34m()\u001b[0m\n\u001b[1;32m      5\u001b[0m \u001b[0;31m#         self.next = next\u001b[0m\u001b[0;34m\u001b[0m\u001b[0;34m\u001b[0m\u001b[0;34m\u001b[0m\u001b[0m\n\u001b[1;32m      6\u001b[0m \u001b[0;32mclass\u001b[0m \u001b[0mSolution\u001b[0m\u001b[0;34m:\u001b[0m\u001b[0;34m\u001b[0m\u001b[0;34m\u001b[0m\u001b[0m\n\u001b[0;32m----> 7\u001b[0;31m     \u001b[0;32mdef\u001b[0m \u001b[0mreverseList\u001b[0m\u001b[0;34m(\u001b[0m\u001b[0mself\u001b[0m\u001b[0;34m,\u001b[0m \u001b[0mhead\u001b[0m\u001b[0;34m:\u001b[0m \u001b[0mOptional\u001b[0m\u001b[0;34m[\u001b[0m\u001b[0mListNode\u001b[0m\u001b[0;34m]\u001b[0m\u001b[0;34m)\u001b[0m \u001b[0;34m->\u001b[0m \u001b[0mOptional\u001b[0m\u001b[0;34m[\u001b[0m\u001b[0mListNode\u001b[0m\u001b[0;34m]\u001b[0m\u001b[0;34m:\u001b[0m\u001b[0;34m\u001b[0m\u001b[0;34m\u001b[0m\u001b[0m\n\u001b[0m\u001b[1;32m      8\u001b[0m         \u001b[0mtemp\u001b[0m\u001b[0;34m=\u001b[0m\u001b[0;34m[\u001b[0m\u001b[0;34m]\u001b[0m\u001b[0;34m\u001b[0m\u001b[0;34m\u001b[0m\u001b[0m\n\u001b[1;32m      9\u001b[0m         \u001b[0;32mwhile\u001b[0m \u001b[0mhead\u001b[0m\u001b[0;34m!=\u001b[0m\u001b[0;32mNone\u001b[0m\u001b[0;34m:\u001b[0m\u001b[0;34m\u001b[0m\u001b[0;34m\u001b[0m\u001b[0m\n",
      "\u001b[0;31mNameError\u001b[0m: name 'Optional' is not defined"
     ]
    }
   ],
   "source": [
    "# Definition for singly-linked list.\n",
    "# class ListNode:\n",
    "#     def __init__(self, val=0, next=None):\n",
    "#         self.val = val\n",
    "#         self.next = next\n",
    "class Solution:\n",
    "    def reverseList(self, head: Optional[ListNode]) -> Optional[ListNode]:\n",
    "        temp=[]\n",
    "        while head!=None:\n",
    "            temp.append(head.val)\n",
    "            head=head.next\n",
    "        l=len(temp)\n",
    "        if len(temp)==0:\n",
    "            return head\n",
    "        node=ListNode(temp.pop())\n",
    "        t=node\n",
    "        for i in range(l-1):\n",
    "            node.next=ListNode(temp.pop())\n",
    "            node=node.next\n",
    "        return t\n",
    "            "
   ]
  },
  {
   "cell_type": "code",
   "execution_count": null,
   "metadata": {},
   "outputs": [],
   "source": [
    "#intersection in linked list\n",
    "        while headA!=None:\n",
    "            tB=headB\n",
    "            while tB!=None:\n",
    "                if headA==tB:\n",
    "                    return tB\n",
    "                tB=tB.next\n",
    "            headA=headA.next\n",
    "        return None"
   ]
  },
  {
   "cell_type": "code",
   "execution_count": null,
   "metadata": {},
   "outputs": [],
   "source": [
    "# Definition for singly-linked list.\n",
    "# class ListNode:\n",
    "#     def __init__(self, val=0, next=None):\n",
    "#         self.val = val\n",
    "#         self.next = next\n",
    "class Solution:\n",
    "    def removeElements(self, head: Optional[ListNode], val: int) -> Optional[ListNode]:\n",
    "        if head is None:\n",
    "            return None\n",
    "        temp=head\n",
    "        while temp!=None:\n",
    "            \n",
    "            if head.val==val and temp.val==val:\n",
    "                head=head.next\n",
    "                temp=head\n",
    "                continue\n",
    "                \n",
    "            if temp.val==val:\n",
    "                prev.next=temp.next\n",
    "                temp=prev\n",
    "                temp=temp.next\n",
    "                continue\n",
    "\n",
    "            prev=temp\n",
    "            temp=temp.next\n",
    "            \n",
    "        return head\n",
    "            \n",
    "                \n",
    "\n",
    "\n",
    "                "
   ]
  },
  {
   "cell_type": "code",
   "execution_count": 40,
   "metadata": {},
   "outputs": [],
   "source": [
    "from typing import List\n",
    "class Solution:\n",
    "    def minCostClimbingStairs(self, cost: List[int]) -> int:\n",
    "            temp0=[]\n",
    "            temp1=[]\n",
    "            #min steps\n",
    "            for i in range(0,len(cost),2):\n",
    "                if i+1==len(cost):\n",
    "                    break\n",
    "                temp0.append(cost[i]) \n",
    "                temp1.append(cost[i+1])\n",
    "            #max steps\n",
    "            tempM0=sum(cost)\n",
    "            tempM1=sum(cost[1:])\n",
    "            print(sum(temp0))\n",
    "            print(sum(temp1))\n",
    "            print(tempM0)\n",
    "            print(tempM1)\n",
    "            \n",
    "            def possibleJumps(cost):\n",
    "                i=0\n",
    "                temp=[]\n",
    "                while i<len(cost):\n",
    "                    temp.append(cost[i])\n",
    "                    \n",
    "                    \n",
    "            \n",
    "            data=possibleJumps(cost)\n",
    "            return None\n",
    "            "
   ]
  },
  {
   "cell_type": "code",
   "execution_count": 41,
   "metadata": {},
   "outputs": [
    {
     "name": "stdout",
     "output_type": "stream",
     "text": [
      "30\n",
      "20\n",
      "56\n",
      "46\n"
     ]
    }
   ],
   "source": [
    "obj=Solution()\n",
    "cost=[10,15,20,5,6]\n",
    "obj.minCostClimbingStairs(cost)\n"
   ]
  },
  {
   "cell_type": "code",
   "execution_count": 53,
   "metadata": {},
   "outputs": [
    {
     "ename": "ZeroDivisionError",
     "evalue": "integer division or modulo by zero",
     "output_type": "error",
     "traceback": [
      "\u001b[0;31m---------------------------------------------------------------------------\u001b[0m",
      "\u001b[0;31mZeroDivisionError\u001b[0m                         Traceback (most recent call last)",
      "\u001b[0;32m<ipython-input-53-ec5a01e59b87>\u001b[0m in \u001b[0;36m<module>\u001b[0;34m\u001b[0m\n\u001b[0;32m----> 1\u001b[0;31m \u001b[0;36m2\u001b[0m\u001b[0;34m%\u001b[0m\u001b[0;36m0\u001b[0m\u001b[0;34m\u001b[0m\u001b[0;34m\u001b[0m\u001b[0m\n\u001b[0m",
      "\u001b[0;31mZeroDivisionError\u001b[0m: integer division or modulo by zero"
     ]
    }
   ],
   "source": [
    "class Solution:\n",
    "    def selfDividingNumbers(self, left: int, right: int) -> List[int]:\n",
    "        data=list(range(left,right+1))\n",
    "        def approve(num):\n",
    "            temp=list(str(num))\n",
    "            count=0\n",
    "            for i in temp:\n",
    "                if i!='0':\n",
    "                    if num%int(i)==0:\n",
    "                        count+=1\n",
    "            if count==len(temp):\n",
    "                return True\n",
    "            \n",
    "        return [i for i in data if approve(i)]\n",
    "                "
   ]
  },
  {
   "cell_type": "code",
   "execution_count": 10,
   "metadata": {},
   "outputs": [
    {
     "data": {
      "text/plain": [
       "[1, 0, 1, 0, 0]"
      ]
     },
     "execution_count": 10,
     "metadata": {},
     "output_type": "execute_result"
    }
   ],
   "source": [
    "n=20\n",
    "b=2\n",
    "temp=[]\n",
    "while n!=0:\n",
    "    temp.append(n%b)\n",
    "    n=n//b\n",
    "temp[::-1]"
   ]
  },
  {
   "cell_type": "code",
   "execution_count": null,
   "metadata": {},
   "outputs": [],
   "source": [
    "from itertools import permutations as pm\n",
    "a=list(pm([1,2,3,4,5,6,7,8,9,0]))\n",
    "len(a)"
   ]
  },
  {
   "cell_type": "code",
   "execution_count": 77,
   "metadata": {},
   "outputs": [],
   "source": [
    "from typing import List\n",
    "class Solution:\n",
    "    def diStringMatch(self, s: str) -> List[int]:\n",
    "        num=list(range(len(s)+1))\n",
    "        num.sort()\n",
    "        temp=[]\n",
    "        print(num)\n",
    "        for i in s:\n",
    "            if i==\"D\":\n",
    "                temp.append(num[-1])\n",
    "                del num[-1]\n",
    "            else:\n",
    "                temp.append(num[0])\n",
    "                del num[0]\n",
    "        temp.append(num[0]) \n",
    "                    \n",
    "        return temp\n",
    "        "
   ]
  },
  {
   "cell_type": "code",
   "execution_count": 78,
   "metadata": {},
   "outputs": [
    {
     "name": "stdout",
     "output_type": "stream",
     "text": [
      "[0, 1, 2, 3, 4]\n"
     ]
    },
    {
     "data": {
      "text/plain": [
       "[0, 4, 1, 3, 2]"
      ]
     },
     "execution_count": 78,
     "metadata": {},
     "output_type": "execute_result"
    }
   ],
   "source": [
    "obj=Solution()\n",
    "s=\"IDID\"\n",
    "obj.diStringMatch(s)"
   ]
  },
  {
   "cell_type": "code",
   "execution_count": 119,
   "metadata": {},
   "outputs": [],
   "source": [
    "class Solution:\n",
    "    def arrayPairSum(self, nums: List[int]) -> int:\n",
    "        from itertools import combinations as cb\n",
    "        data= list(cb(nums,2))\n",
    "        temp=[]\n",
    "        print(data)\n",
    "        while len(data)!=0:\n",
    "            a=min(data[0])+min(data[-1])\n",
    "            del data[0]\n",
    "            del data[-1]\n",
    "            temp.append(a)\n",
    "            \n",
    "        return data"
   ]
  },
  {
   "cell_type": "code",
   "execution_count": 120,
   "metadata": {},
   "outputs": [
    {
     "name": "stdout",
     "output_type": "stream",
     "text": [
      "[(6, 2), (6, 6), (6, 5), (6, 1), (6, 2), (2, 6), (2, 5), (2, 1), (2, 2), (6, 5), (6, 1), (6, 2), (5, 1), (5, 2), (1, 2)]\n"
     ]
    },
    {
     "ename": "IndexError",
     "evalue": "list assignment index out of range",
     "output_type": "error",
     "traceback": [
      "\u001b[0;31m---------------------------------------------------------------------------\u001b[0m",
      "\u001b[0;31mIndexError\u001b[0m                                Traceback (most recent call last)",
      "\u001b[0;32m<ipython-input-120-0034d48da1ca>\u001b[0m in \u001b[0;36m<module>\u001b[0;34m\u001b[0m\n\u001b[1;32m      1\u001b[0m \u001b[0mobj\u001b[0m\u001b[0;34m=\u001b[0m\u001b[0mSolution\u001b[0m\u001b[0;34m(\u001b[0m\u001b[0;34m)\u001b[0m\u001b[0;34m\u001b[0m\u001b[0;34m\u001b[0m\u001b[0m\n\u001b[1;32m      2\u001b[0m \u001b[0mnums\u001b[0m\u001b[0;34m=\u001b[0m\u001b[0;34m[\u001b[0m\u001b[0;36m6\u001b[0m\u001b[0;34m,\u001b[0m\u001b[0;36m2\u001b[0m\u001b[0;34m,\u001b[0m\u001b[0;36m6\u001b[0m\u001b[0;34m,\u001b[0m\u001b[0;36m5\u001b[0m\u001b[0;34m,\u001b[0m\u001b[0;36m1\u001b[0m\u001b[0;34m,\u001b[0m\u001b[0;36m2\u001b[0m\u001b[0;34m]\u001b[0m\u001b[0;34m\u001b[0m\u001b[0;34m\u001b[0m\u001b[0m\n\u001b[0;32m----> 3\u001b[0;31m \u001b[0mobj\u001b[0m\u001b[0;34m.\u001b[0m\u001b[0marrayPairSum\u001b[0m\u001b[0;34m(\u001b[0m\u001b[0mnums\u001b[0m\u001b[0;34m)\u001b[0m\u001b[0;34m\u001b[0m\u001b[0;34m\u001b[0m\u001b[0m\n\u001b[0m",
      "\u001b[0;32m<ipython-input-119-dde8588d639b>\u001b[0m in \u001b[0;36marrayPairSum\u001b[0;34m(self, nums)\u001b[0m\n\u001b[1;32m      9\u001b[0m             \u001b[0ma\u001b[0m\u001b[0;34m=\u001b[0m\u001b[0mmin\u001b[0m\u001b[0;34m(\u001b[0m\u001b[0mdata\u001b[0m\u001b[0;34m[\u001b[0m\u001b[0;36m0\u001b[0m\u001b[0;34m]\u001b[0m\u001b[0;34m)\u001b[0m\u001b[0;34m+\u001b[0m\u001b[0mmin\u001b[0m\u001b[0;34m(\u001b[0m\u001b[0mdata\u001b[0m\u001b[0;34m[\u001b[0m\u001b[0;34m-\u001b[0m\u001b[0;36m1\u001b[0m\u001b[0;34m]\u001b[0m\u001b[0;34m)\u001b[0m\u001b[0;34m\u001b[0m\u001b[0;34m\u001b[0m\u001b[0m\n\u001b[1;32m     10\u001b[0m             \u001b[0;32mdel\u001b[0m \u001b[0mdata\u001b[0m\u001b[0;34m[\u001b[0m\u001b[0;36m0\u001b[0m\u001b[0;34m]\u001b[0m\u001b[0;34m\u001b[0m\u001b[0;34m\u001b[0m\u001b[0m\n\u001b[0;32m---> 11\u001b[0;31m             \u001b[0;32mdel\u001b[0m \u001b[0mdata\u001b[0m\u001b[0;34m[\u001b[0m\u001b[0;34m-\u001b[0m\u001b[0;36m1\u001b[0m\u001b[0;34m]\u001b[0m\u001b[0;34m\u001b[0m\u001b[0;34m\u001b[0m\u001b[0m\n\u001b[0m\u001b[1;32m     12\u001b[0m             \u001b[0mtemp\u001b[0m\u001b[0;34m.\u001b[0m\u001b[0mappend\u001b[0m\u001b[0;34m(\u001b[0m\u001b[0ma\u001b[0m\u001b[0;34m)\u001b[0m\u001b[0;34m\u001b[0m\u001b[0;34m\u001b[0m\u001b[0m\n\u001b[1;32m     13\u001b[0m \u001b[0;34m\u001b[0m\u001b[0m\n",
      "\u001b[0;31mIndexError\u001b[0m: list assignment index out of range"
     ]
    }
   ],
   "source": [
    "obj=Solution()\n",
    "nums=[6,2,6,5,1,2]\n",
    "obj.arrayPairSum(nums)"
   ]
  },
  {
   "cell_type": "code",
   "execution_count": 121,
   "metadata": {},
   "outputs": [
    {
     "data": {
      "text/plain": [
       "[1, 2, 6]"
      ]
     },
     "execution_count": 121,
     "metadata": {},
     "output_type": "execute_result"
    }
   ],
   "source": [
    "class Solution:\n",
    "    def judgeCircle(self, moves: str) -> bool:\n",
    "        countx=0\n",
    "        county=0\n",
    "        for i in moves:\n",
    "            if i ==\"R\":\n",
    "                countx+=1\n",
    "            elif i==\"L\":\n",
    "                countx-=1\n",
    "            elif i==\"U\":\n",
    "                county+=1\n",
    "            elif i==\"D\":\n",
    "                county-=1\n",
    "                    \n",
    "        if countx==0 and county==0:\n",
    "            return True\n",
    "        else:\n",
    "            return False"
   ]
  },
  {
   "cell_type": "code",
   "execution_count": null,
   "metadata": {},
   "outputs": [],
   "source": [
    "class Solution:\n",
    "    def kthDistinct(self, arr: List[str], k: int) -> str:\n",
    "        temp=[i for i in arr if arr.count(i)==1]\n",
    "        if len(temp)<k:\n",
    "            return \"\"\n",
    "        else:\n",
    "            return temp[k-1]\n",
    "                "
   ]
  }
 ],
 "metadata": {
  "colab": {
   "authorship_tag": "ABX9TyOEN2vOLMfrGiPI37RJNlG+",
   "collapsed_sections": [],
   "include_colab_link": true,
   "name": "EasyAlgoLeetCode",
   "provenance": []
  },
  "kernelspec": {
   "display_name": "Python 3",
   "language": "python",
   "name": "python3"
  },
  "language_info": {
   "codemirror_mode": {
    "name": "ipython",
    "version": 3
   },
   "file_extension": ".py",
   "mimetype": "text/x-python",
   "name": "python",
   "nbconvert_exporter": "python",
   "pygments_lexer": "ipython3",
   "version": "3.8.8"
  },
  "toc-autonumbering": true,
  "toc-showmarkdowntxt": true
 },
 "nbformat": 4,
 "nbformat_minor": 4
}
