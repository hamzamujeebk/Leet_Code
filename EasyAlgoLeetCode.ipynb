{
  "nbformat": 4,
  "nbformat_minor": 0,
  "metadata": {
    "colab": {
      "name": "EasyAlgoLeetCode",
      "provenance": [],
      "collapsed_sections": [],
      "authorship_tag": "ABX9TyNoOC2AttQrN5gWjvJOEMI/",
      "include_colab_link": true
    },
    "kernelspec": {
      "name": "python3",
      "display_name": "Python 3"
    },
    "language_info": {
      "name": "python"
    }
  },
  "cells": [
    {
      "cell_type": "markdown",
      "metadata": {
        "id": "view-in-github",
        "colab_type": "text"
      },
      "source": [
        "<a href=\"https://colab.research.google.com/github/hamzamujeebk/Leet_Code/blob/main/EasyAlgoLeetCode.ipynb\" target=\"_parent\"><img src=\"https://colab.research.google.com/assets/colab-badge.svg\" alt=\"Open In Colab\"/></a>"
      ]
    },
    {
      "cell_type": "markdown",
      "metadata": {
        "id": "c74guRi7LN9s"
      },
      "source": [
        "**1 Remove Dubplicates from Sorted Array**\n",
        "\n",
        "\n",
        "Given an integer array nums sorted in non-decreasing order, remove the duplicates in-place such that each unique element appears only once. The relative order of the elements should be kept the same.\n",
        "\n",
        "Since it is impossible to change the length of the array in some languages, you must instead have the result be placed in the first part of the array nums. More formally, if there are k elements after removing the duplicates, then the first k elements of nums should hold the final result. It does not matter what you leave beyond the first k elements.\n",
        "\n",
        "Return k after placing the final result in the first k slots of nums.\n",
        "\n",
        "Do not allocate extra space for another array. You must do this by modifying the input array in-place with O(1) extra memory.\n",
        "\n",
        "Custom Judge:\n",
        "\n",
        "The judge will test your solution with the following code:\n",
        "\n",
        "int[] nums = [...]; // Input array\n",
        "int[] expectedNums = [...]; // The expected answer with correct length\n",
        "\n",
        "int k = removeDuplicates(nums); // Calls your implementation\n",
        "\n",
        "assert k == expectedNums.length;\n",
        "for (int i = 0; i < k; i++) {\n",
        "    assert nums[i] == expectedNums[i];\n",
        "}\n",
        "If all assertions pass, then your solution will be accepted.\n",
        "\n",
        " \n",
        "\n",
        "Example 1:\n",
        "\n",
        "Input: nums = [1,1,2]\n",
        "Output: 2, nums = [1,2,_]\n",
        "Explanation: Your function should return k = 2, with the first two elements of nums being 1 and 2 respectively.\n",
        "It does not matter what you leave beyond the returned k (hence they are underscores).\n",
        "Example 2:\n",
        "\n",
        "Input: nums = [0,0,1,1,1,2,2,3,3,4]\n",
        "Output: 5, nums = [0,1,2,3,4,_,_,_,_,_]\n",
        "Explanation: Your function should return k = 5, with the first five elements of nums being 0, 1, 2, 3, and 4 respectively.\n",
        "It does not matter what you leave beyond the returned k (hence they are underscores).\n",
        " \n",
        "\n",
        "Constraints:\n",
        "\n",
        "0 <= nums.length <= 3 * 104\n",
        "-100 <= nums[i] <= 100\n",
        "nums is sorted in non-decreasing order."
      ]
    },
    {
      "cell_type": "code",
      "metadata": {
        "id": "rpccKaR5LBK9"
      },
      "source": [
        "#Final Solution O(n)\n",
        "from typing import List\n",
        "class Solution:\n",
        "    def removeDuplicates(self, nums: List[int]) -> int:\n",
        "        newL=sorted(list(set(nums)),reverse=True)\n",
        "        l=len(newL)\n",
        "        for i in newL:\n",
        "            nums.insert(0,i)\n",
        "\n",
        "        return l\n",
        "        "
      ],
      "execution_count": null,
      "outputs": []
    },
    {
      "cell_type": "code",
      "metadata": {
        "colab": {
          "base_uri": "https://localhost:8080/"
        },
        "id": "RhcsexzWL-vG",
        "outputId": "c17786af-1533-4bb4-8fdc-4dbdf9a60212"
      },
      "source": [
        "obj=Solution()\n",
        "obj.removeDuplicates([1,1,2])"
      ],
      "execution_count": null,
      "outputs": [
        {
          "output_type": "stream",
          "name": "stdout",
          "text": [
            "[1, 2, 1, 1, 2]\n"
          ]
        },
        {
          "output_type": "execute_result",
          "data": {
            "text/plain": [
              "2"
            ]
          },
          "metadata": {},
          "execution_count": 19
        }
      ]
    },
    {
      "cell_type": "markdown",
      "metadata": {
        "id": "g1zyzQ6_ouRA"
      },
      "source": [
        "** 2 Plus One**\n",
        "\n",
        "\n",
        "You are given a large integer represented as an integer array digits, where each digits[i] is the ith digit of the integer. The digits are ordered from most significant to least significant in left-to-right order. The large integer does not contain any leading 0's.\n",
        "\n",
        "Increment the large integer by one and return the resulting array of digits.\n",
        "\n",
        " \n",
        "\n",
        "Example 1:\n",
        "\n",
        "Input: digits = [1,2,3]\n",
        "Output: [1,2,4]\n",
        "Explanation: The array represents the integer 123.\n",
        "Incrementing by one gives 123 + 1 = 124.\n",
        "Thus, the result should be [1,2,4].\n",
        "Example 2:\n",
        "\n",
        "Input: digits = [4,3,2,1]\n",
        "Output: [4,3,2,2]\n",
        "Explanation: The array represents the integer 4321.\n",
        "Incrementing by one gives 4321 + 1 = 4322.\n",
        "Thus, the result should be [4,3,2,2].\n",
        "Example 3:\n",
        "\n",
        "Input: digits = [0]\n",
        "Output: [1]\n",
        "Explanation: The array represents the integer 0.\n",
        "Incrementing by one gives 0 + 1 = 1.\n",
        "Thus, the result should be [1].\n",
        "Example 4:\n",
        "\n",
        "Input: digits = [9]\n",
        "Output: [1,0]\n",
        "Explanation: The array represents the integer 9.\n",
        "Incrementing by one gives 9 + 1 = 10.\n",
        "Thus, the result should be [1,0].\n",
        " \n",
        "\n",
        "Constraints:\n",
        "\n",
        "1 <= digits.length <= 100\n",
        "0 <= digits[i] <= 9\n",
        "digits does not contain any leading 0's."
      ]
    },
    {
      "cell_type": "code",
      "metadata": {
        "id": "kym2zc2TME-2"
      },
      "source": [
        "from typing import List\n",
        "class Solution:\n",
        "    def plusOne(self, digits: List[int]) -> List[int]:\n",
        "        \n",
        "        return list(map(int,list(str(int(''.join(list(map(str,digits)))) + 1))))\n",
        "        "
      ],
      "execution_count": null,
      "outputs": []
    },
    {
      "cell_type": "code",
      "metadata": {
        "colab": {
          "base_uri": "https://localhost:8080/"
        },
        "id": "kqRIwaURMZEw",
        "outputId": "1eb17fdd-885c-466e-da51-56139bdde006"
      },
      "source": [
        "obj=Solution()\n",
        "obj.plusOne([1,2,3])"
      ],
      "execution_count": null,
      "outputs": [
        {
          "output_type": "stream",
          "name": "stdout",
          "text": [
            "[1, 2, 4]\n"
          ]
        }
      ]
    },
    {
      "cell_type": "markdown",
      "metadata": {
        "id": "Xh9qTa0brbb9"
      },
      "source": [
        "**3 Power of two**\n",
        "\n",
        "\n",
        "Given an integer n, return true if it is a power of two. Otherwise, return false.\n",
        "\n",
        "An integer n is a power of two, if there exists an integer x such that n == 2x.\n",
        "\n",
        " \n",
        "\n",
        "Example 1:\n",
        "\n",
        "Input: n = 1\n",
        "Output: true\n",
        "Explanation: 20 = 1\n",
        "Example 2:\n",
        "\n",
        "Input: n = 16\n",
        "Output: true\n",
        "Explanation: 24 = 16\n",
        "Example 3:\n",
        "\n",
        "Input: n = 3\n",
        "Output: false\n",
        "Example 4:\n",
        "\n",
        "Input: n = 4\n",
        "Output: true\n",
        "Example 5:\n",
        "\n",
        "Input: n = 5\n",
        "Output: false\n",
        " \n",
        "\n",
        "Constraints:\n",
        "\n",
        "-231 <= n <= 231 - 1\n"
      ]
    },
    {
      "cell_type": "code",
      "metadata": {
        "id": "FUxhtHZCpXEh"
      },
      "source": [
        "from typing import List\n",
        "\n",
        "class Solution:\n",
        "    def isPowerOfTwo(self, n: int) -> bool:\n",
        "      if n==1:\n",
        "        return True\n",
        "      if n==0:\n",
        "            return False\n",
        "      elif n%2==0:\n",
        "\n",
        "        return self.isPowerOfTwo(int(n/2))\n",
        "      else:\n",
        "        return False\n",
        "        "
      ],
      "execution_count": null,
      "outputs": []
    },
    {
      "cell_type": "code",
      "metadata": {
        "id": "tZtdoBWPvxdA"
      },
      "source": [
        "#Solution for power of four\n",
        "from typing import List\n",
        "\n",
        "class Solution:\n",
        "    def isPowerOfFour(self, n: int) -> bool:\n",
        "      if n==1:\n",
        "        return True\n",
        "      if n==0:\n",
        "            return False\n",
        "      elif n%4==0:\n",
        "\n",
        "        return self.isPowerOfFour(int(n/4))\n",
        "      else:\n",
        "        return False\n",
        "        "
      ],
      "execution_count": null,
      "outputs": []
    },
    {
      "cell_type": "code",
      "metadata": {
        "colab": {
          "base_uri": "https://localhost:8080/",
          "height": 354
        },
        "id": "5iDv_g0gpbFT",
        "outputId": "cea62a93-4f6f-4175-8bb8-97e8188016ee"
      },
      "source": [
        "obj=Solution()\n",
        "print(obj.isPowerOfTwo(0))"
      ],
      "execution_count": null,
      "outputs": [
        {
          "output_type": "error",
          "ename": "RecursionError",
          "evalue": "ignored",
          "traceback": [
            "\u001b[0;31m---------------------------------------------------------------------------\u001b[0m",
            "\u001b[0;31mRecursionError\u001b[0m                            Traceback (most recent call last)",
            "\u001b[0;32m<ipython-input-70-98423aed3ed2>\u001b[0m in \u001b[0;36m<module>\u001b[0;34m()\u001b[0m\n\u001b[1;32m      1\u001b[0m \u001b[0mobj\u001b[0m\u001b[0;34m=\u001b[0m\u001b[0mSolution\u001b[0m\u001b[0;34m(\u001b[0m\u001b[0;34m)\u001b[0m\u001b[0;34m\u001b[0m\u001b[0;34m\u001b[0m\u001b[0m\n\u001b[0;32m----> 2\u001b[0;31m \u001b[0mprint\u001b[0m\u001b[0;34m(\u001b[0m\u001b[0mobj\u001b[0m\u001b[0;34m.\u001b[0m\u001b[0misPowerOfTwo\u001b[0m\u001b[0;34m(\u001b[0m\u001b[0;36m0\u001b[0m\u001b[0;34m)\u001b[0m\u001b[0;34m)\u001b[0m\u001b[0;34m\u001b[0m\u001b[0;34m\u001b[0m\u001b[0m\n\u001b[0m",
            "\u001b[0;32m<ipython-input-68-59d482b1bd39>\u001b[0m in \u001b[0;36misPowerOfTwo\u001b[0;34m(self, n)\u001b[0m\n\u001b[1;32m      8\u001b[0m \u001b[0;34m\u001b[0m\u001b[0m\n\u001b[1;32m      9\u001b[0m \u001b[0;34m\u001b[0m\u001b[0m\n\u001b[0;32m---> 10\u001b[0;31m         \u001b[0;32mreturn\u001b[0m \u001b[0mself\u001b[0m\u001b[0;34m.\u001b[0m\u001b[0misPowerOfTwo\u001b[0m\u001b[0;34m(\u001b[0m\u001b[0mint\u001b[0m\u001b[0;34m(\u001b[0m\u001b[0mn\u001b[0m\u001b[0;34m/\u001b[0m\u001b[0;36m2\u001b[0m\u001b[0;34m)\u001b[0m\u001b[0;34m)\u001b[0m\u001b[0;34m\u001b[0m\u001b[0;34m\u001b[0m\u001b[0m\n\u001b[0m\u001b[1;32m     11\u001b[0m       \u001b[0;32melse\u001b[0m\u001b[0;34m:\u001b[0m\u001b[0;34m\u001b[0m\u001b[0;34m\u001b[0m\u001b[0m\n\u001b[1;32m     12\u001b[0m         \u001b[0;32mreturn\u001b[0m \u001b[0;32mFalse\u001b[0m\u001b[0;34m\u001b[0m\u001b[0;34m\u001b[0m\u001b[0m\n",
            "... last 1 frames repeated, from the frame below ...\n",
            "\u001b[0;32m<ipython-input-68-59d482b1bd39>\u001b[0m in \u001b[0;36misPowerOfTwo\u001b[0;34m(self, n)\u001b[0m\n\u001b[1;32m      8\u001b[0m \u001b[0;34m\u001b[0m\u001b[0m\n\u001b[1;32m      9\u001b[0m \u001b[0;34m\u001b[0m\u001b[0m\n\u001b[0;32m---> 10\u001b[0;31m         \u001b[0;32mreturn\u001b[0m \u001b[0mself\u001b[0m\u001b[0;34m.\u001b[0m\u001b[0misPowerOfTwo\u001b[0m\u001b[0;34m(\u001b[0m\u001b[0mint\u001b[0m\u001b[0;34m(\u001b[0m\u001b[0mn\u001b[0m\u001b[0;34m/\u001b[0m\u001b[0;36m2\u001b[0m\u001b[0;34m)\u001b[0m\u001b[0;34m)\u001b[0m\u001b[0;34m\u001b[0m\u001b[0;34m\u001b[0m\u001b[0m\n\u001b[0m\u001b[1;32m     11\u001b[0m       \u001b[0;32melse\u001b[0m\u001b[0;34m:\u001b[0m\u001b[0;34m\u001b[0m\u001b[0;34m\u001b[0m\u001b[0m\n\u001b[1;32m     12\u001b[0m         \u001b[0;32mreturn\u001b[0m \u001b[0;32mFalse\u001b[0m\u001b[0;34m\u001b[0m\u001b[0;34m\u001b[0m\u001b[0m\n",
            "\u001b[0;31mRecursionError\u001b[0m: maximum recursion depth exceeded in comparison"
          ]
        }
      ]
    },
    {
      "cell_type": "markdown",
      "metadata": {
        "id": "xYGm6mFhzB3t"
      },
      "source": [
        "** 5 Jewels and Stones**\n",
        "\n",
        "\n",
        "You're given strings jewels representing the types of stones that are jewels, and stones representing the stones you have. Each character in stones is a type of stone you have. You want to know how many of the stones you have are also jewels.\n",
        "\n",
        "Letters are case sensitive, so \"a\" is considered a different type of stone from \"A\".\n",
        "\n",
        " \n",
        "\n",
        "Example 1:\n",
        "\n",
        "Input: jewels = \"aA\", stones = \"aAAbbbb\"\n",
        "Output: 3\n",
        "Example 2:\n",
        "\n",
        "Input: jewels = \"z\", stones = \"ZZ\"\n",
        "Output: 0\n",
        " \n",
        "\n",
        "Constraints:\n",
        "\n",
        "1 <= jewels.length, stones.length <= 50\n",
        "jewels and stones consist of only English letters.\n",
        "All the characters of jewels are unique."
      ]
    },
    {
      "cell_type": "code",
      "metadata": {
        "colab": {
          "base_uri": "https://localhost:8080/"
        },
        "id": "FJBfWHwirx65",
        "outputId": "803d49a9-660b-41af-e58e-d75091e4d21a"
      },
      "source": [
        "from typing import List\n",
        "class Solution:\n",
        "    def numJewelsInStones(self, jewels: str, stones: str) -> int:\n",
        "      jewels=list(jewels)\n",
        "      stones=list(stones)\n",
        "      output=sum([stones.count(i) for i in jewels])\n",
        "      return output\n",
        "        "
      ],
      "execution_count": null,
      "outputs": [
        {
          "output_type": "execute_result",
          "data": {
            "text/plain": [
              "0"
            ]
          },
          "metadata": {},
          "execution_count": 71
        }
      ]
    },
    {
      "cell_type": "markdown",
      "metadata": {
        "id": "Ysqvlcfk0gjq"
      },
      "source": [
        "**6 Defanging an IP Address**\n",
        "\n",
        "\n",
        "Given a valid (IPv4) IP address, return a defanged version of that IP address.\n",
        "\n",
        "A defanged IP address replaces every period \".\" with \"[.]\".\n",
        "\n",
        " \n",
        "\n",
        "Example 1:\n",
        "\n",
        "Input: address = \"1.1.1.1\"\n",
        "Output: \"1[.]1[.]1[.]1\"\n",
        "Example 2:\n",
        "\n",
        "Input: address = \"255.100.50.0\"\n",
        "Output: \"255[.]100[.]50[.]0\"\n",
        " \n",
        "\n",
        "Constraints:\n",
        "\n",
        "The given address is a valid IPv4 address."
      ]
    },
    {
      "cell_type": "code",
      "metadata": {
        "id": "Mv2JYrsluZVS"
      },
      "source": [
        "from typing import List\n",
        "class Solution:\n",
        "    def defangIPaddr(self, address: str) -> str:\n",
        "      return address.replace('.','[.]')\n",
        "        "
      ],
      "execution_count": null,
      "outputs": []
    },
    {
      "cell_type": "markdown",
      "metadata": {
        "id": "PP1Gj7nU1IyN"
      },
      "source": [
        "**7 Subtract the Product and Sum of Digits of an Integer**\n",
        "\n",
        "Given an integer number n, return the difference between the product of its digits and the sum of its digits.\n",
        " \n",
        "\n",
        "Example 1:\n",
        "\n",
        "Input: n = 234\n",
        "Output: 15 \n",
        "Explanation: \n",
        "Product of digits = 2 * 3 * 4 = 24 \n",
        "Sum of digits = 2 + 3 + 4 = 9 \n",
        "Result = 24 - 9 = 15\n",
        "Example 2:\n",
        "\n",
        "Input: n = 4421\n",
        "Output: 21\n",
        "Explanation: \n",
        "Product of digits = 4 * 4 * 2 * 1 = 32 \n",
        "Sum of digits = 4 + 4 + 2 + 1 = 11 \n",
        "Result = 32 - 11 = 21\n",
        " \n",
        "\n",
        "Constraints:\n",
        "\n",
        "1 <= n <= 10^5"
      ]
    },
    {
      "cell_type": "code",
      "metadata": {
        "colab": {
          "base_uri": "https://localhost:8080/",
          "height": 35
        },
        "id": "g8WvnZvmzjYu",
        "outputId": "3ad21b25-2c82-4b6b-da54-a300ab3eff05"
      },
      "source": [
        "from typing import List\n",
        "import math\n",
        "class Solution:\n",
        "    def subtractProductAndSum(self, n: int) -> int:\n",
        "        data=list(map(int,list(str(n))))\n",
        "        return math.prod(data)-sum(data)\n",
        "\n",
        "        "
      ],
      "execution_count": null,
      "outputs": [
        {
          "output_type": "execute_result",
          "data": {
            "application/vnd.google.colaboratory.intrinsic+json": {
              "type": "string"
            },
            "text/plain": [
              "'htmzt'"
            ]
          },
          "metadata": {},
          "execution_count": 74
        }
      ]
    },
    {
      "cell_type": "markdown",
      "metadata": {
        "id": "by_5h_Hs2P8v"
      },
      "source": [
        "**8  Decompress Run-Length Encoded List**\n",
        "\n",
        "We are given a list nums of integers representing a list compressed with run-length encoding.\n",
        "\n",
        "Consider each adjacent pair of elements [freq, val] = [nums[2*i], nums[2*i+1]] (with i >= 0).  For each such pair, there are freq elements with value val concatenated in a sublist. Concatenate all the sublists from left to right to generate the decompressed list.\n",
        "\n",
        "Return the decompressed list.\n",
        "\n",
        " \n",
        "\n",
        "Example 1:\n",
        "\n",
        "Input: nums = [1,2,3,4]\n",
        "Output: [2,4,4,4]\n",
        "Explanation: The first pair [1,2] means we have freq = 1 and val = 2 so we generate the array [2].\n",
        "The second pair [3,4] means we have freq = 3 and val = 4 so we generate [4,4,4].\n",
        "At the end the concatenation [2] + [4,4,4] is [2,4,4,4].\n",
        "Example 2:\n",
        "\n",
        "Input: nums = [1,1,2,3]\n",
        "Output: [1,3,3]\n",
        " \n",
        "\n",
        "Constraints:\n",
        "\n",
        "2 <= nums.length <= 100\n",
        "nums.length % 2 == 0\n",
        "1 <= nums[i] <= 100"
      ]
    },
    {
      "cell_type": "code",
      "metadata": {
        "id": "3_JX5grrzmKl"
      },
      "source": [
        "\n",
        "from typing import List\n",
        "class Solution:\n",
        "    def decompressRLElist(self, nums: List[int]) -> List[int]:\n",
        "\n",
        "        data=[[nums[i+1]] * nums[i] for i in range(0,len(nums),2)]\n",
        "        return [j for i in data for j in i]\n"
      ],
      "execution_count": null,
      "outputs": []
    },
    {
      "cell_type": "code",
      "metadata": {
        "colab": {
          "base_uri": "https://localhost:8080/"
        },
        "id": "W0KHIJCN5kW8",
        "outputId": "5fd02877-6d3e-414e-cba9-8f1cdc6caaba"
      },
      "source": [
        "obj=Solution()\n",
        "nums = [1,2,3,4]\n",
        "obj.decompressRLElist(nums)"
      ],
      "execution_count": null,
      "outputs": [
        {
          "output_type": "execute_result",
          "data": {
            "text/plain": [
              "[2, 4, 4, 4]"
            ]
          },
          "metadata": {},
          "execution_count": 108
        }
      ]
    },
    {
      "cell_type": "markdown",
      "metadata": {
        "id": "ZLU6KZVvA4GL"
      },
      "source": [
        "**9  Number of Steps to Reduce a Number to Zero**\n",
        "\n",
        "Given an integer num, return the number of steps to reduce it to zero.\n",
        "\n",
        "In one step, if the current number is even, you have to divide it by 2, otherwise, you have to subtract 1 from it.\n",
        "\n",
        " \n",
        "\n",
        "Example 1:\n",
        "\n",
        "Input: num = 14\n",
        "Output: 6\n",
        "Explanation: \n",
        "Step 1) 14 is even; divide by 2 and obtain 7. \n",
        "Step 2) 7 is odd; subtract 1 and obtain 6.\n",
        "Step 3) 6 is even; divide by 2 and obtain 3. \n",
        "Step 4) 3 is odd; subtract 1 and obtain 2. \n",
        "Step 5) 2 is even; divide by 2 and obtain 1. \n",
        "Step 6) 1 is odd; subtract 1 and obtain 0.\n",
        "Example 2:\n",
        "\n",
        "Input: num = 8\n",
        "Output: 4\n",
        "Explanation: \n",
        "Step 1) 8 is even; divide by 2 and obtain 4. \n",
        "Step 2) 4 is even; divide by 2 and obtain 2. \n",
        "Step 3) 2 is even; divide by 2 and obtain 1. \n",
        "Step 4) 1 is odd; subtract 1 and obtain 0.\n",
        "Example 3:\n",
        "\n",
        "Input: num = 123\n",
        "Output: 12\n",
        " \n",
        "\n",
        "Constraints:\n",
        "\n",
        "0 <= num <= 106"
      ]
    },
    {
      "cell_type": "code",
      "metadata": {
        "id": "n__8XXNP5o6x"
      },
      "source": [
        "from typing import List\n",
        "class Solution:\n",
        "    def numberOfSteps(self, num: int) -> int:\n",
        "      self.count=0\n",
        "      def counting(num):\n",
        "        self.count+=1\n",
        "        if num==1:\n",
        "          return self.count\n",
        "        if num%2==0:\n",
        "          return counting(num/2)\n",
        "        elif num%2!=0:\n",
        "          return counting(num-1)\n",
        "\n",
        "      return counting(num)\n",
        "      \n",
        "  \n",
        "        "
      ],
      "execution_count": null,
      "outputs": []
    },
    {
      "cell_type": "code",
      "metadata": {
        "colab": {
          "base_uri": "https://localhost:8080/"
        },
        "id": "XD2xGXYB6nXv",
        "outputId": "aaf694b4-0013-4a7e-acdf-846e8dd07f78"
      },
      "source": [
        "obj=Solution()\n",
        "obj.numberOfSteps(14)"
      ],
      "execution_count": null,
      "outputs": [
        {
          "output_type": "execute_result",
          "data": {
            "text/plain": [
              "6"
            ]
          },
          "metadata": {},
          "execution_count": 7
        }
      ]
    },
    {
      "cell_type": "markdown",
      "metadata": {
        "id": "hxDu7meIC6gC"
      },
      "source": [
        "**10 How Many Numbers Are Smaller Than the Current Number**\n",
        "\n",
        "Given the array nums, for each nums[i] find out how many numbers in the array are smaller than it. That is, for each nums[i] you have to count the number of valid j's such that j != i and nums[j] < nums[i].\n",
        "\n",
        "Return the answer in an array.\n",
        "\n",
        " \n",
        "\n",
        "Example 1:\n",
        "\n",
        "Input: nums = [8,1,2,2,3]\n",
        "Output: [4,0,1,1,3]\n",
        "Explanation: \n",
        "For nums[0]=8 there exist four smaller numbers than it (1, 2, 2 and 3). \n",
        "For nums[1]=1 does not exist any smaller number than it.\n",
        "For nums[2]=2 there exist one smaller number than it (1). \n",
        "For nums[3]=2 there exist one smaller number than it (1). \n",
        "For nums[4]=3 there exist three smaller numbers than it (1, 2 and 2).\n",
        "Example 2:\n",
        "\n",
        "Input: nums = [6,5,4,8]\n",
        "Output: [2,1,0,3]\n",
        "Example 3:\n",
        "\n",
        "Input: nums = [7,7,7,7]\n",
        "Output: [0,0,0,0]\n",
        " \n",
        "\n",
        "Constraints:\n",
        "\n",
        "2 <= nums.length <= 500\n",
        "0 <= nums[i] <= 100"
      ]
    },
    {
      "cell_type": "code",
      "metadata": {
        "id": "R24cU9OZ6oBw"
      },
      "source": [
        "from typing import List\n",
        "class Solution:\n",
        "    def smallerNumbersThanCurrent(self, nums: List[int]) -> List[int]:\n",
        "      temp=[]\n",
        "      for i in nums:\n",
        "        count=0\n",
        "        for j nums:\n",
        "          if i>j:\n",
        "            count+=1\n",
        "        temp.append(count)\n",
        "      return temp\n",
        "        "
      ],
      "execution_count": null,
      "outputs": []
    },
    {
      "cell_type": "markdown",
      "metadata": {
        "id": "7Uc3w6TGFDvl"
      },
      "source": [
        "**11 Create Target array in the given order**\n",
        "\n",
        "Given two arrays of integers nums and index. Your task is to create target array under the following rules:\n",
        "\n",
        "Initially target array is empty.\n",
        "From left to right read nums[i] and index[i], insert at index index[i] the value nums[i] in target array.\n",
        "Repeat the previous step until there are no elements to read in nums and index.\n",
        "Return the target array.\n",
        "\n",
        "It is guaranteed that the insertion operations will be valid.\n",
        "\n",
        " \n",
        "\n",
        "Example 1:\n",
        "\n",
        "Input: nums = [0,1,2,3,4], index = [0,1,2,2,1]\n",
        "Output: [0,4,1,3,2]\n",
        "Explanation:\n",
        "nums       index     target\n",
        "0            0        [0]\n",
        "1            1        [0,1]\n",
        "2            2        [0,1,2]\n",
        "3            2        [0,1,3,2]\n",
        "4            1        [0,4,1,3,2]\n",
        "Example 2:\n",
        "\n",
        "Input: nums = [1,2,3,4,0], index = [0,1,2,3,0]\n",
        "Output: [0,1,2,3,4]\n",
        "Explanation:\n",
        "nums       index     target\n",
        "1            0        [1]\n",
        "2            1        [1,2]\n",
        "3            2        [1,2,3]\n",
        "4            3        [1,2,3,4]\n",
        "0            0        [0,1,2,3,4]\n",
        "Example 3:\n",
        "\n",
        "Input: nums = [1], index = [0]\n",
        "Output: [1]\n",
        " \n",
        "\n",
        "Constraints:\n",
        "\n",
        "1 <= nums.length, index.length <= 100\n",
        "nums.length == index.length\n",
        "0 <= nums[i] <= 100\n",
        "0 <= index[i] <= i"
      ]
    },
    {
      "cell_type": "code",
      "metadata": {
        "id": "w5MiF3C7FJ9d"
      },
      "source": [
        "from typing import List\n",
        "class Solution:\n",
        "    def createTargetArray(self, nums: List[int], index: List[int]) -> List[int]:\n",
        "        temp=[]\n",
        "        for i,j in enumerate(index):\n",
        "          temp.insert(j,nums[i])\n",
        "        return temp"
      ],
      "execution_count": null,
      "outputs": []
    },
    {
      "cell_type": "markdown",
      "metadata": {
        "id": "GFQUVUsDGKsg"
      },
      "source": [
        "**12 Kids with Greatest number of candies**\n",
        "\n",
        "There are n kids with candies. You are given an integer array candies, where each candies[i] represents the number of candies the ith kid has, and an integer extraCandies, denoting the number of extra candies that you have.\n",
        "\n",
        "Return a boolean array result of length n, where result[i] is true if, after giving the ith kid all the extraCandies, they will have the greatest number of candies among all the kids, or false otherwise.\n",
        "\n",
        "Note that multiple kids can have the greatest number of candies.\n",
        "\n",
        " \n",
        "\n",
        "Example 1:\n",
        "\n",
        "Input: candies = [2,3,5,1,3], extraCandies = 3\n",
        "Output: [true,true,true,false,true] \n",
        "Explanation: If you give all extraCandies to:\n",
        "- Kid 1, they will have 2 + 3 = 5 candies, which is the greatest among the kids.\n",
        "- Kid 2, they will have 3 + 3 = 6 candies, which is the greatest among the kids.\n",
        "- Kid 3, they will have 5 + 3 = 8 candies, which is the greatest among the kids.\n",
        "- Kid 4, they will have 1 + 3 = 4 candies, which is not the greatest among the kids.\n",
        "- Kid 5, they will have 3 + 3 = 6 candies, which is the greatest among the kids.\n",
        "Example 2:\n",
        "\n",
        "Input: candies = [4,2,1,1,2], extraCandies = 1\n",
        "Output: [true,false,false,false,false] \n",
        "Explanation: There is only 1 extra candy.\n",
        "Kid 1 will always have the greatest number of candies, even if a different kid is given the extra candy.\n",
        "Example 3:\n",
        "\n",
        "Input: candies = [12,1,12], extraCandies = 10\n",
        "Output: [true,false,true]\n",
        " \n",
        "\n",
        "Constraints:\n",
        "\n",
        "n == candies.length\n",
        "2 <= n <= 100\n",
        "1 <= candies[i] <= 100\n",
        "1 <= extraCandies <= 50"
      ]
    },
    {
      "cell_type": "code",
      "metadata": {
        "colab": {
          "base_uri": "https://localhost:8080/"
        },
        "id": "Y7mGDwQrFvEo",
        "outputId": "5ab94968-31e8-41ea-89f8-d02258cf4f58"
      },
      "source": [
        "from typing import List\n",
        "class Solution:\n",
        "    def kidsWithCandies(self, candies: List[int], extraCandies: int) -> List[bool]:\n",
        "        temp=[]\n",
        "        for i in range(len(candies)):\n",
        "          candies[i]=candies[i]+extraCandies\n",
        "          if max(candies)==candies[i]:\n",
        "            temp.append(True)\n",
        "          else:\n",
        "            temp.append(False)\n",
        "          candies[i]=candies[i]-extraCandies\n",
        "          \n",
        "        return temp"
      ],
      "execution_count": null,
      "outputs": [
        {
          "output_type": "execute_result",
          "data": {
            "text/plain": [
              "[(0, 2), (1, 3), (2, 3), (3, 4)]"
            ]
          },
          "metadata": {},
          "execution_count": 9
        }
      ]
    },
    {
      "cell_type": "markdown",
      "metadata": {
        "id": "31FLGMtmJMWR"
      },
      "source": [
        "**13 shuffle the array**\n",
        "\n",
        "\n",
        "Given the array nums consisting of 2n elements in the form [x1,x2,...,xn,y1,y2,...,yn].\n",
        "\n",
        "Return the array in the form [x1,y1,x2,y2,...,xn,yn].\n",
        "\n",
        " \n",
        "\n",
        "Example 1:\n",
        "\n",
        "Input: nums = [2,5,1,3,4,7], n = 3\n",
        "Output: [2,3,5,4,1,7] \n",
        "Explanation: Since x1=2, x2=5, x3=1, y1=3, y2=4, y3=7 then the answer is [2,3,5,4,1,7].\n",
        "Example 2:\n",
        "\n",
        "Input: nums = [1,2,3,4,4,3,2,1], n = 4\n",
        "Output: [1,4,2,3,3,2,4,1]\n",
        "Example 3:\n",
        "\n",
        "Input: nums = [1,1,2,2], n = 2\n",
        "Output: [1,2,1,2]\n"
      ]
    },
    {
      "cell_type": "code",
      "metadata": {
        "id": "Z9VA6kn5FyAN"
      },
      "source": [
        "from typing import List\n",
        "class Solution:\n",
        "    def shuffle(self, nums: List[int], n: int) -> List[int]:\n",
        "        x=nums[:n+1]\n",
        "        y=nums[n:]\n",
        "        temp=[]\n",
        "        for i in range(len(x)-1):\n",
        "          temp.append(x[i])\n",
        "          temp.append(y[i])\n",
        "        return temp\n"
      ],
      "execution_count": null,
      "outputs": []
    },
    {
      "cell_type": "code",
      "metadata": {
        "colab": {
          "base_uri": "https://localhost:8080/"
        },
        "id": "Xit7VcDNHUmg",
        "outputId": "17abb911-3329-4b9a-c1f6-36df0f8eedea"
      },
      "source": [
        "obj=Solution()\n",
        "nums= [2,5,1,3,4,7]\n",
        "n = 3\n",
        "obj.shuffle(nums,n)"
      ],
      "execution_count": null,
      "outputs": [
        {
          "output_type": "execute_result",
          "data": {
            "text/plain": [
              "[2, 3, 5, 4, 1, 7]"
            ]
          },
          "metadata": {},
          "execution_count": 25
        }
      ]
    },
    {
      "cell_type": "markdown",
      "metadata": {
        "id": "zAz1FXchLngi"
      },
      "source": [
        "**Running Sum of 1d Array**"
      ]
    },
    {
      "cell_type": "code",
      "metadata": {
        "id": "dL0eLtIqJcvw"
      },
      "source": [
        "from typing import List\n",
        "class Solution:\n",
        "    def runningSum(self, nums: List[int]) -> List[int]:\n",
        "     return [sum(nums[:i]) for i in range(1,len(nums)+1)]\n"
      ],
      "execution_count": null,
      "outputs": []
    },
    {
      "cell_type": "markdown",
      "metadata": {
        "id": "MUs2FzXSMbEp"
      },
      "source": [
        "**Number of Good pairs**\n",
        "\n"
      ]
    },
    {
      "cell_type": "code",
      "metadata": {
        "id": "dyhVwb-mMjHP"
      },
      "source": [
        "from typing import List\n",
        "from itertools import combinations as pm\n",
        "class Solution:\n",
        "    def numIdenticalPairs(self, nums: List[int]) -> int:\n",
        "      return sum([len(list(pm([1]*nums.count(i),2))) for i in set(nums)])\n",
        "\n",
        "\n",
        "\n",
        "\n",
        "\n",
        "\n",
        "        "
      ],
      "execution_count": 15,
      "outputs": []
    },
    {
      "cell_type": "code",
      "metadata": {
        "colab": {
          "base_uri": "https://localhost:8080/"
        },
        "id": "ONHmbpbF8P-c",
        "outputId": "7b2976f5-d791-478c-ff2a-2bd7b88c4cf0"
      },
      "source": [
        "obj=Solution()\n",
        "obj.numIdenticalPairs([1,2,3])"
      ],
      "execution_count": 19,
      "outputs": [
        {
          "output_type": "execute_result",
          "data": {
            "text/plain": [
              "0"
            ]
          },
          "metadata": {},
          "execution_count": 19
        }
      ]
    },
    {
      "cell_type": "markdown",
      "metadata": {
        "id": "_S-yw3bWo_bL"
      },
      "source": [
        "**Suffle String**\n"
      ]
    },
    {
      "cell_type": "code",
      "metadata": {
        "id": "H-t-0J3t8WYT"
      },
      "source": [
        "from typing import List\n",
        "class Solution:\n",
        "    def restoreString(self,s,indices):\n",
        "          temp=[]\n",
        "          for i in range(len(s)):\n",
        "\n",
        "            #temp.insert(indices[i],s[i])\n",
        "            temp.append((indices[i],s[i]))\n",
        "          temp.sort()\n",
        "\n",
        "          return ''.join([j for i,j in temp])\n"
      ],
      "execution_count": 23,
      "outputs": []
    },
    {
      "cell_type": "code",
      "metadata": {
        "colab": {
          "base_uri": "https://localhost:8080/",
          "height": 35
        },
        "id": "fS1zmTdP-Uv_",
        "outputId": "cfba1239-3178-4c51-8b53-3b890d6cc559"
      },
      "source": [
        "obj=Solution()\n",
        "s = \"codeleet\"\n",
        "indices = [4,5,6,7,0,2,1,3]\n",
        "obj.restoreString(s,indices)"
      ],
      "execution_count": 24,
      "outputs": [
        {
          "output_type": "execute_result",
          "data": {
            "application/vnd.google.colaboratory.intrinsic+json": {
              "type": "string"
            },
            "text/plain": [
              "'leetcode'"
            ]
          },
          "metadata": {},
          "execution_count": 24
        }
      ]
    },
    {
      "cell_type": "code",
      "metadata": {
        "colab": {
          "base_uri": "https://localhost:8080/",
          "height": 179
        },
        "id": "_WuM-EV1-W4l",
        "outputId": "1df650f6-8354-49a3-9b73-cbeead8a26c6"
      },
      "source": [
        "a=[1,2,3,4]\n",
        "a.replace(1,2)"
      ],
      "execution_count": 12,
      "outputs": [
        {
          "output_type": "error",
          "ename": "AttributeError",
          "evalue": "ignored",
          "traceback": [
            "\u001b[0;31m---------------------------------------------------------------------------\u001b[0m",
            "\u001b[0;31mAttributeError\u001b[0m                            Traceback (most recent call last)",
            "\u001b[0;32m<ipython-input-12-946f89b7f1e0>\u001b[0m in \u001b[0;36m<module>\u001b[0;34m()\u001b[0m\n\u001b[1;32m      1\u001b[0m \u001b[0ma\u001b[0m\u001b[0;34m=\u001b[0m\u001b[0;34m[\u001b[0m\u001b[0;36m1\u001b[0m\u001b[0;34m,\u001b[0m\u001b[0;36m2\u001b[0m\u001b[0;34m,\u001b[0m\u001b[0;36m3\u001b[0m\u001b[0;34m,\u001b[0m\u001b[0;36m4\u001b[0m\u001b[0;34m]\u001b[0m\u001b[0;34m\u001b[0m\u001b[0;34m\u001b[0m\u001b[0m\n\u001b[0;32m----> 2\u001b[0;31m \u001b[0ma\u001b[0m\u001b[0;34m.\u001b[0m\u001b[0mreplace\u001b[0m\u001b[0;34m(\u001b[0m\u001b[0;36m1\u001b[0m\u001b[0;34m,\u001b[0m\u001b[0;36m2\u001b[0m\u001b[0;34m)\u001b[0m\u001b[0;34m\u001b[0m\u001b[0;34m\u001b[0m\u001b[0m\n\u001b[0m",
            "\u001b[0;31mAttributeError\u001b[0m: 'list' object has no attribute 'replace'"
          ]
        }
      ]
    },
    {
      "cell_type": "code",
      "metadata": {
        "id": "LDMmFvWUrZCo"
      },
      "source": [
        ""
      ],
      "execution_count": null,
      "outputs": []
    }
  ]
}