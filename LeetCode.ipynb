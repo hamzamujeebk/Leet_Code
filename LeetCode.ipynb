{
  "nbformat": 4,
  "nbformat_minor": 0,
  "metadata": {
    "colab": {
      "name": "LeetCode.ipynb",
      "provenance": [],
      "authorship_tag": "ABX9TyPOL9o7V0VOjThqjElhkgQa",
      "include_colab_link": true
    },
    "kernelspec": {
      "name": "python3",
      "display_name": "Python 3"
    },
    "language_info": {
      "name": "python"
    }
  },
  "cells": [
    {
      "cell_type": "markdown",
      "metadata": {
        "id": "view-in-github",
        "colab_type": "text"
      },
      "source": [
        "<a href=\"https://colab.research.google.com/github/hamzamujeebk/Leet_Code/blob/main/LeetCode.ipynb\" target=\"_parent\"><img src=\"https://colab.research.google.com/assets/colab-badge.svg\" alt=\"Open In Colab\"/></a>"
      ]
    },
    {
      "cell_type": "code",
      "metadata": {
        "id": "fCDFjgI6z9J9",
        "colab": {
          "base_uri": "https://localhost:8080/"
        },
        "outputId": "35608ef1-07c4-4b0f-ac62-16aeee7aeb3b"
      },
      "source": [
        "from itertools import permutations as pm\n",
        "nums=[3,3]\n",
        "target=6\n",
        "#a=list(pm(nums,2))\n",
        "def  Solutions(nums, target):\n",
        "  possiblePairs=list(set(pm(nums,2)))\n",
        "  for i in possiblePairs:\n",
        "    if sum(i)==target:\n",
        "      return [nums.index(i[0]), nums.index(i[1])]\n",
        "\n",
        "output=Solutions(nums, target)\n",
        "print(output)"
      ],
      "execution_count": 16,
      "outputs": [
        {
          "output_type": "stream",
          "name": "stdout",
          "text": [
            "[0, 0]\n"
          ]
        }
      ]
    },
    {
      "cell_type": "code",
      "metadata": {
        "colab": {
          "base_uri": "https://localhost:8080/"
        },
        "id": "nOSFlSFF1TJK",
        "outputId": "e78ff157-02aa-4802-de38-ac108464e86a"
      },
      "source": [
        "possiblePairs=list(set(pm(nums,2)))\n",
        "sum(possiblePairs[0])"
      ],
      "execution_count": 18,
      "outputs": [
        {
          "output_type": "execute_result",
          "data": {
            "text/plain": [
              "6"
            ]
          },
          "metadata": {},
          "execution_count": 18
        }
      ]
    },
    {
      "cell_type": "code",
      "metadata": {
        "colab": {
          "base_uri": "https://localhost:8080/"
        },
        "id": "WmQCWzJb11PP",
        "outputId": "6f2866a6-da4b-41c3-f647-c42e5ce013e7"
      },
      "source": [
        "a\n"
      ],
      "execution_count": null,
      "outputs": [
        {
          "output_type": "execute_result",
          "data": {
            "text/plain": [
              "['[', '1', ',', '3', ',', '4', ']']"
            ]
          },
          "metadata": {},
          "execution_count": 14
        }
      ]
    },
    {
      "cell_type": "code",
      "metadata": {
        "id": "Fp6VCP4I2D1O"
      },
      "source": [
        ""
      ],
      "execution_count": null,
      "outputs": []
    }
  ]
}