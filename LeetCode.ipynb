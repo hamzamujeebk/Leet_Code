{
  "nbformat": 4,
  "nbformat_minor": 0,
  "metadata": {
    "colab": {
      "name": "LeetCode.ipynb",
      "provenance": [],
      "collapsed_sections": [],
      "authorship_tag": "ABX9TyOYjyBQ9+7xG4tN8isueHe+"
    },
    "kernelspec": {
      "name": "python3",
      "display_name": "Python 3"
    },
    "language_info": {
      "name": "python"
    }
  },
  "cells": [
    {
      "cell_type": "markdown",
      "metadata": {
        "id": "HyTG2te_N4IG"
      },
      "source": [
        "**The 2 Sum**\n",
        "\n",
        "Given an array of integers nums and an integer target, return indices of the two numbers such that they add up to target.\n",
        "\n",
        "You may assume that each input would have exactly one solution, and you may not use the same element twice.\n",
        "\n",
        "You can return the answer in any order.\n",
        "\n",
        " \n",
        "\n",
        "Example 1:\n",
        "\n",
        "Input: nums = [2,7,11,15], target = 9\n",
        "Output: [0,1]\n",
        "Output: Because nums[0] + nums[1] == 9, we return [0, 1].\n",
        "Example 2:\n",
        "\n",
        "Input: nums = [3,2,4], target = 6\n",
        "Output: [1,2]\n",
        "Example 3:\n",
        "\n",
        "Input: nums = [3,3], target = 6\n",
        "Output: [0,1]\n",
        " \n",
        "\n",
        "Constraints:\n",
        "\n",
        "2 <= nums.length <= 104\n",
        "-109 <= nums[i] <= 109\n",
        "-109 <= target <= 109\n",
        "Only one valid answer exists.\n",
        " \n",
        "\n",
        "Follow-up: Can you come up with an algorithm that is less than O(n2) time complexity?"
      ]
    },
    {
      "cell_type": "code",
      "metadata": {
        "id": "fCDFjgI6z9J9"
      },
      "source": [
        "from typing import List\n",
        "class Solution:\n",
        "    def twoSum(self, nums: List[int], target: int) -> List[int]:\n",
        "\n",
        "        def indexOfPair(value):\n",
        "          if value[0]==value[1]:\n",
        "            temp1= nums.index(value[0])\n",
        "            temp2=nums.index(value[0],temp1+1)\n",
        "            return [temp1,temp2]\n",
        "          else:\n",
        "            return [nums.index(value[0]), nums.index(value[1])]\n",
        "        \n",
        "        def findPair(nums,target):\n",
        "                return [(i,target-i) for i in nums if target-i in nums]\n",
        "\n",
        "        def  Solutions(nums, target):\n",
        "\n",
        "            filtered_test=findPair(nums,target)\n",
        "            removed_dub=list(set([tuple(sorted(i)) for i in filtered_test]))\n",
        "            return indexOfPair(removed_dub[0])\n",
        "\n",
        "        return Solutions(nums, target)\n",
        "\n",
        "\n",
        "       \n",
        "        "
      ],
      "execution_count": null,
      "outputs": []
    },
    {
      "cell_type": "code",
      "metadata": {
        "colab": {
          "base_uri": "https://localhost:8080/"
        },
        "id": "e2a_WQ_9EkIL",
        "outputId": "be1b969a-10d6-450c-c97c-730d9c04537f"
      },
      "source": [
        "Solution().twoSum([3,2,3],6)"
      ],
      "execution_count": null,
      "outputs": [
        {
          "output_type": "execute_result",
          "data": {
            "text/plain": [
              "[0, 2]"
            ]
          },
          "metadata": {},
          "execution_count": 52
        }
      ]
    },
    {
      "cell_type": "markdown",
      "metadata": {
        "id": "HyyH4PFR1C2n"
      },
      "source": [
        "**Valid Parameters**\n",
        "\n",
        "Given a string s containing just the characters '(', ')', '{', '}', '[' and ']', determine if the input string is valid.\n",
        "\n",
        "An input string is valid if:\n",
        "\n",
        "Open brackets must be closed by the same type of brackets.\n",
        "Open brackets must be closed in the correct order.\n",
        " \n",
        "\n",
        "Example 1:\n",
        "\n",
        "Input: s = \"()\"\n",
        "Output: true\n",
        "Example 2:\n",
        "\n",
        "Input: s = \"()[]{}\"\n",
        "Output: true\n",
        "Example 3:\n",
        "\n",
        "Input: s = \"(]\"\n",
        "Output: false\n",
        "Example 4:\n",
        "\n",
        "Input: s = \"([)]\"\n",
        "Output: false\n",
        "Example 5:\n",
        "\n",
        "Input: s = \"{[]}\"\n",
        "Output: true\n",
        " \n",
        "\n",
        "Constraints:\n",
        "\n",
        "1 <= s.length <= 104\n",
        "s consists of parentheses only '()[]{}'."
      ]
    },
    {
      "cell_type": "code",
      "metadata": {
        "id": "Fp6VCP4I2D1O"
      },
      "source": [
        "#Final Solution \n",
        "class Solution:\n",
        "    def isValid(self, s: str) -> bool:\n",
        "        def matchCondition(value):\n",
        "          return (s[value]=='(' and s[value+1]==')') or (s[value]=='[' and s[value+1]==']') or ( s[value]=='{' and s[value+1]=='}')\n",
        "    \n",
        "        s=list(s)\n",
        "        l=len(s)\n",
        "        i=0\n",
        "        count=0\n",
        "        if len(s)==1:\n",
        "          return False\n",
        "\n",
        "        while i<=len(s)-2:\n",
        "\n",
        "          if matchCondition(i):\n",
        "            count+=1\n",
        "            del s[i:i+2]\n",
        "            i=0\n",
        "            continue\n",
        "          elif matchCondition(i)==False and len(s)==2:\n",
        "            return False\n",
        "          i+=1\n",
        "        if count==l/2:\n",
        "          return True\n",
        "\n"
      ],
      "execution_count": null,
      "outputs": []
    },
    {
      "cell_type": "code",
      "metadata": {
        "colab": {
          "base_uri": "https://localhost:8080/"
        },
        "id": "N3EfDZp9k1MT",
        "outputId": "8fdc2744-c597-4932-9d5b-c284b684ba44"
      },
      "source": [
        "Solution().isValid(\"()\")"
      ],
      "execution_count": null,
      "outputs": [
        {
          "output_type": "execute_result",
          "data": {
            "text/plain": [
              "True"
            ]
          },
          "metadata": {},
          "execution_count": 72
        }
      ]
    },
    {
      "cell_type": "markdown",
      "metadata": {
        "id": "tGJsrsrgZ3-T"
      },
      "source": [
        "** 3. Merge two sorted Linked list **\n",
        "\n",
        "Merge two sorted linked lists and return it as a sorted list. The list should be made by splicing together the nodes of the first two lists.\n",
        "\n",
        " \n",
        "\n",
        "Example 1:\n",
        "\n",
        "\n",
        "Input: l1 = [1,2,4], l2 = [1,3,4]\n",
        "Output: [1,1,2,3,4,4]\n",
        "Example 2:\n",
        "\n",
        "Input: l1 = [], l2 = []\n",
        "Output: []\n",
        "Example 3:\n",
        "\n",
        "Input: l1 = [], l2 = [0]\n",
        "Output: [0]\n",
        " \n",
        "\n",
        "Constraints:\n",
        "\n",
        "The number of nodes in both lists is in the range [0, 50].\n",
        "-100 <= Node.val <= 100\n",
        "Both l1 and l2 are sorted in non-decreasing order."
      ]
    },
    {
      "cell_type": "code",
      "metadata": {
        "colab": {
          "base_uri": "https://localhost:8080/"
        },
        "id": "HGT0GCNDm_kQ",
        "outputId": "74b8d273-c966-4e2f-8f09-b0298f5646aa"
      },
      "source": [
        "lambda x: 5 if 5 >2 else 8"
      ],
      "execution_count": null,
      "outputs": [
        {
          "output_type": "execute_result",
          "data": {
            "text/plain": [
              "<function __main__.<lambda>>"
            ]
          },
          "metadata": {},
          "execution_count": 136
        }
      ]
    },
    {
      "cell_type": "code",
      "metadata": {
        "id": "RiirdGntRnGV"
      },
      "source": [
        "# Definition for singly-linked list.\n",
        "class ListNode:\n",
        "    def __init__(self, val=0, next=None):\n",
        "        self.val = val\n",
        "        self.next = next\n",
        "        \n",
        "class Solution:\n",
        "    def mergeTwoLists(self, l1: ListNode, l2: ListNode) -> ListNode:\n",
        "\n",
        "        l3=ListNode(None) \n",
        "\n",
        "        def length(llOne):\n",
        "            currentNode=llOne\n",
        "            count=0\n",
        "            while currentNode is not None:\n",
        "                count+=1\n",
        "                currentNode=currentNode.next\n",
        "            return count\n",
        "\n",
        "        def elementAt(index,LinkedList):\n",
        "\n",
        "            if index>=length(LinkedList) or index<0:\n",
        "              return 'Index out of Range'\n",
        "            else:\n",
        "              if index==0:\n",
        "                return LinkedList.val\n",
        "              currentNode=LinkedList\n",
        "              for i in range(index):\n",
        "                currentNode=currentNode.next\n",
        "              return currentNode.val\n",
        "\n",
        "        def removef(LinkedList):\n",
        "             return LinkedList.next\n",
        "\n",
        "        def insert(LinkedList,value):\n",
        "            if LinkedList.val is None:\n",
        "              LinkedList.val=value\n",
        "              return \n",
        "            currentNode=LinkedList\n",
        "            while True:\n",
        "              if currentNode.next is  None:\n",
        "                currentNode.next=ListNode(value)\n",
        "                break\n",
        "              currentNode=currentNode.next\n",
        "\n",
        "\n",
        "        def printLinkedList(LinkedList):\n",
        "            currentNode=LinkedList\n",
        "            while currentNode is not None:\n",
        "              print(currentNode.val , end='-->')\n",
        "              currentNode=currentNode.next\n",
        "            print('None')\n",
        "\n",
        "        def lengthIsEqual(l1,l2,l3):\n",
        "            l=length(l1)\n",
        "            for i in range(l):\n",
        "                if elementAt(0,l1)<=elementAt(0,l2):\n",
        "                    insert(l3,elementAt(0,l1))      \n",
        "                    l1=removef(l1)\n",
        "                    insert(l3,elementAt(0,l2))\n",
        "                    l2=removef(l2)\n",
        "                else:\n",
        "                    insert(l3,elementAt(0,l2))\n",
        "                    l2=removef(l2)\n",
        "                    insert(l3,elementAt(0,l1))\n",
        "                    l1=removef(l1)\n",
        "            return l3  \n",
        "\n",
        "        def lengthIsUnequal(l1,l2):\n",
        "          currentNode=l2\n",
        "          l=length(l1)\n",
        "          for i in range(l):\n",
        "            if elementAt(0,l1)<=currentNode.val:\n",
        "              node=ListNode(elementAt(0,l1),currentNode)\n",
        "              l1=removef(l1)\n",
        "              \n",
        "            else:\n",
        "              currentNode=l2\n",
        "              while elementAt(0,l1) > currentNode.next.val:\n",
        "                currentNode=currentNode.next\n",
        "                if currentNode.next==None:\n",
        "                  break\n",
        "              node=ListNode(elementAt(0,l1),currentNode.next)\n",
        "              currentNode.next=node\n",
        "              \n",
        "            return l2\n",
        "\n",
        "        \n",
        "        def main(l1,l2):\n",
        "\n",
        "            if l1 is None and l2 is None:\n",
        "                return ListNode('')\n",
        "\n",
        "            elif l1 is None or l2 is None:\n",
        "                a=lambda x, y: x if x is not None else y\n",
        "                return a(l1,l2)\n",
        "\n",
        "            elif length(l1)< length(l2):\n",
        "              return lengthIsUnequal(l1,l2)\n",
        "            elif length(l2) <length(l1):\n",
        "              return lengthIsUnequal(l2,l1)\n",
        "\n",
        "            elif length(l1)==length(l2):\n",
        "                return lengthIsEqual(l1,l2,l3)\n",
        "\n",
        "        def new_sol(l1,l2):\n",
        "          l3=ListNode()\n",
        "          while l1!= None and l2!=None:\n",
        "            if l1.val < l2.val:\n",
        "              l3=l1\n",
        "              l1=l1.next\n",
        "            elif l1.val==l2.val:\n",
        "              l3=l2\n",
        "              l3.next=l1\n",
        "              l2=l2.next\n",
        "              l1=l1.next\n",
        "            else:\n",
        "              l3=l2\n",
        "              l2=le.next\n",
        "\n",
        "          return l3\n",
        "\n",
        "\n",
        "\n",
        "                          \n",
        "\n",
        "        #return main(l1,l2)\n",
        "        #print(elementAt(0,l1))\n",
        "        #print(l2.next.val)\n",
        "        \n",
        "        return new_sol(l1,l2)\n",
        "       \n",
        "\n",
        "        \n",
        "        \n",
        "    "
      ],
      "execution_count": null,
      "outputs": []
    },
    {
      "cell_type": "code",
      "metadata": {
        "id": "0Ta6gQBi0OjM"
      },
      "source": [
        "b=ListNode(val=2, next=ListNode(val=3,next=ListNode(val=5, next=None)))\n",
        "a=ListNode(val=5, next=ListNode(val=7, next=None))\n",
        "\n"
      ],
      "execution_count": null,
      "outputs": []
    },
    {
      "cell_type": "code",
      "metadata": {
        "colab": {
          "base_uri": "https://localhost:8080/"
        },
        "id": "hPYEaDL63cRs",
        "outputId": "5f75673a-5d39-4ca6-dee0-1fc0991748c3"
      },
      "source": [
        "obj=Solution()\n",
        "obj.mergeTwoLists(a,b)"
      ],
      "execution_count": null,
      "outputs": [
        {
          "output_type": "stream",
          "name": "stdout",
          "text": [
            "5\n",
            "2\n"
          ]
        }
      ]
    },
    {
      "cell_type": "code",
      "metadata": {
        "colab": {
          "base_uri": "https://localhost:8080/"
        },
        "id": "QIPNM_PYKViE",
        "outputId": "67121023-2fb5-4dac-e017-cf65c31905ed"
      },
      "source": [
        "def printLinkedList(LinkedList):\n",
        "  currentNode=LinkedList\n",
        "  while currentNode is not None:\n",
        "    print(currentNode.val , end='-->')\n",
        "    currentNode=currentNode.next\n",
        "  print('None')\n",
        "\n",
        "obj=Solution()\n",
        "output=obj.mergeTwoLists(a,b)\n",
        "printLinkedList(output)"
      ],
      "execution_count": null,
      "outputs": [
        {
          "output_type": "stream",
          "name": "stdout",
          "text": [
            "2-->3-->5-->5-->None\n"
          ]
        }
      ]
    },
    {
      "cell_type": "code",
      "metadata": {
        "id": "iVlPE1-iotzP",
        "colab": {
          "base_uri": "https://localhost:8080/"
        },
        "outputId": "871dcfd0-2aaf-4a46-f6ec-87117f3f6a5e"
      },
      "source": [
        "''' As the Question is related to LinkedList I'm brushing my linked list understanding the first \n",
        "couple of code blocks '''\n",
        "class Node:\n",
        "  def __init__(self,value, next=None):\n",
        "    self.value=value\n",
        "    self.next=next\n",
        "\n",
        "# 3-->7-->10-->23\n",
        "\n",
        "node1=Node('3')\n",
        "node2=Node('7')\n",
        "node3=Node('10')\n",
        "node4=Node('23')\n",
        "\n",
        "node1.next=node2\n",
        "node2.next=node3\n",
        "node3.next=node4\n",
        "\n",
        "currentNode=node1\n",
        "#print(node1.value)\n",
        "while True:\n",
        "  print(currentNode.value,end='-->')\n",
        "  if currentNode.next is None:\n",
        "    print('None')\n",
        "    break\n",
        "  currentNode=currentNode.next"
      ],
      "execution_count": null,
      "outputs": [
        {
          "output_type": "stream",
          "name": "stdout",
          "text": [
            "3-->7-->10-->23-->None\n"
          ]
        }
      ]
    },
    {
      "cell_type": "code",
      "metadata": {
        "id": "scObNwmcyYBf"
      },
      "source": [
        "class Node:\n",
        "  def __init__(self,value, next=None):\n",
        "    self.value=value\n",
        "    self.next=next\n",
        "\n",
        "class ListNode:\n",
        "\n",
        "  def __init__(self, head=None):\n",
        "    self.head=head\n",
        "\n",
        "  def insert(self, value):\n",
        "    node=Node(value)\n",
        "    if self.head is None:\n",
        "      self.head=node\n",
        "      return\n",
        "    currentNode=self.head\n",
        "    while True:\n",
        "      if currentNode.next is None:\n",
        "        currentNode.next=node\n",
        "        break\n",
        "      currentNode=currentNode.next\n",
        "  \n",
        "  def length(self,llOne):\n",
        "    currentNode=llOne\n",
        "    count=0\n",
        "    while currentNode is not None:\n",
        "      count+=1\n",
        "      currentNode=currentNode.next\n",
        "    return count\n",
        "\n",
        "  def valueAtIndex(self,index):\n",
        "\n",
        "    if index>=self.length() or index<0:\n",
        "      return 'Index out of Range'\n",
        "    else:\n",
        "      \n",
        "      if index==0:\n",
        "        return self.head.value\n",
        "      currentNode=self.head \n",
        "      for i in range(index):\n",
        "        currentNode=currentNode.next\n",
        "      print(currentNode.value)\n",
        " \n",
        "  def insertAt(self, index, value):\n",
        "\n",
        "    if self.head is None and index==0:\n",
        "      self.head =Node(value)\n",
        "    elif self.head is not None and index==0:\n",
        "      currentNode=self.head\n",
        "      self.head=Node(value,currentNode)\n",
        "\n",
        "    elif self.length()<index or index<0:\n",
        "      return 'Index doesn\\'t exist'\n",
        "    else:\n",
        "      currentNode=self.head\n",
        "      for i in range(index-1):\n",
        "        currentNode=currentNode.next\n",
        "\n",
        "      temp=currentNode.next\n",
        "      currentNode.next=Node(value,temp)\n",
        "      #print(currentNode.next.value)\n",
        "\n",
        "        \n",
        "\n",
        "\n",
        "  def printLinkedList(self):\n",
        "    currentNode=self.head\n",
        "    while currentNode is not None:\n",
        "      print(currentNode.value , end='-->')\n",
        "      currentNode=currentNode.next\n",
        "    print('None')\n",
        "\n"
      ],
      "execution_count": null,
      "outputs": []
    },
    {
      "cell_type": "code",
      "metadata": {
        "colab": {
          "base_uri": "https://localhost:8080/"
        },
        "id": "NxKoCk2O3EFP",
        "outputId": "93117a8c-0756-469b-cf5d-04f6c7a32bbf"
      },
      "source": [
        "ll=ListNode()\n",
        "ll.printLinkedList()\n",
        "print(ll.length())\n",
        "ll.insert(2)\n",
        "ll.insert(4)\n",
        "ll.insert(13)\n",
        "ll.insert(88)\n",
        "ll.insert(7)\n",
        "ll.insert(3)\n",
        "ll.printLinkedList()\n",
        "ll.insertAt(0,10)\n",
        "ll.printLinkedList()\n",
        "ll.valueAtIndex(3)"
      ],
      "execution_count": null,
      "outputs": [
        {
          "output_type": "stream",
          "name": "stdout",
          "text": [
            "None\n",
            "0\n",
            "2-->4-->13-->88-->7-->3-->None\n",
            "10-->2-->4-->13-->88-->7-->3-->None\n",
            "13\n"
          ]
        }
      ]
    },
    {
      "cell_type": "code",
      "metadata": {
        "colab": {
          "base_uri": "https://localhost:8080/",
          "height": 129
        },
        "id": "D5WESakD3Kaa",
        "outputId": "a800f77a-aedd-443a-927b-ec6d8377ee9b"
      },
      "source": [
        ""
      ],
      "execution_count": null,
      "outputs": [
        {
          "output_type": "error",
          "ename": "SyntaxError",
          "evalue": "ignored",
          "traceback": [
            "\u001b[0;36m  File \u001b[0;32m\"<ipython-input-121-266f662cb370>\"\u001b[0;36m, line \u001b[0;32m1\u001b[0m\n\u001b[0;31m    ListNode{val: 1, next: ListNode{val: 2, next: ListNode{val: 4, next: None}}}\u001b[0m\n\u001b[0m            ^\u001b[0m\n\u001b[0;31mSyntaxError\u001b[0m\u001b[0;31m:\u001b[0m invalid syntax\n"
          ]
        }
      ]
    },
    {
      "cell_type": "code",
      "metadata": {
        "colab": {
          "base_uri": "https://localhost:8080/"
        },
        "id": "3B44kfxY7Ov4",
        "outputId": "a165c964-cb5a-47f6-c7b8-e81632664b21"
      },
      "source": [
        ""
      ],
      "execution_count": null,
      "outputs": [
        {
          "output_type": "execute_result",
          "data": {
            "text/plain": [
              "[1, 2, 3]"
            ]
          },
          "metadata": {},
          "execution_count": 56
        }
      ]
    },
    {
      "cell_type": "code",
      "metadata": {
        "id": "2Td6ilm3Dx-M"
      },
      "source": [
        ""
      ],
      "execution_count": null,
      "outputs": []
    }
  ]
}