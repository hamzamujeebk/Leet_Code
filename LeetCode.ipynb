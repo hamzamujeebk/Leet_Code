{
  "nbformat": 4,
  "nbformat_minor": 0,
  "metadata": {
    "colab": {
      "name": "LeetCode.ipynb",
      "provenance": [],
      "collapsed_sections": [],
      "authorship_tag": "ABX9TyOASNfeMGFMoIiZBdSiupg1",
      "include_colab_link": true
    },
    "kernelspec": {
      "name": "python3",
      "display_name": "Python 3"
    },
    "language_info": {
      "name": "python"
    }
  },
  "cells": [
    {
      "cell_type": "markdown",
      "metadata": {
        "id": "view-in-github",
        "colab_type": "text"
      },
      "source": [
        "<a href=\"https://colab.research.google.com/github/hamzamujeebk/Leet_Code/blob/main/LeetCode.ipynb\" target=\"_parent\"><img src=\"https://colab.research.google.com/assets/colab-badge.svg\" alt=\"Open In Colab\"/></a>"
      ]
    },
    {
      "cell_type": "markdown",
      "metadata": {
        "id": "HyTG2te_N4IG"
      },
      "source": [
        "**The 2 Sum**\n",
        "\n",
        "Given an array of integers nums and an integer target, return indices of the two numbers such that they add up to target.\n",
        "\n",
        "You may assume that each input would have exactly one solution, and you may not use the same element twice.\n",
        "\n",
        "You can return the answer in any order.\n",
        "\n",
        " \n",
        "\n",
        "Example 1:\n",
        "\n",
        "Input: nums = [2,7,11,15], target = 9\n",
        "Output: [0,1]\n",
        "Output: Because nums[0] + nums[1] == 9, we return [0, 1].\n",
        "Example 2:\n",
        "\n",
        "Input: nums = [3,2,4], target = 6\n",
        "Output: [1,2]\n",
        "Example 3:\n",
        "\n",
        "Input: nums = [3,3], target = 6\n",
        "Output: [0,1]\n",
        " \n",
        "\n",
        "Constraints:\n",
        "\n",
        "2 <= nums.length <= 104\n",
        "-109 <= nums[i] <= 109\n",
        "-109 <= target <= 109\n",
        "Only one valid answer exists.\n",
        " \n",
        "\n",
        "Follow-up: Can you come up with an algorithm that is less than O(n2) time complexity?"
      ]
    },
    {
      "cell_type": "code",
      "metadata": {
        "id": "fCDFjgI6z9J9"
      },
      "source": [
        "from typing import List\n",
        "class Solution:\n",
        "    def twoSum(self, nums: List[int], target: int) -> List[int]:\n",
        "\n",
        "        def indexOfPair(value):\n",
        "          if value[0]==value[1]:\n",
        "            temp1= nums.index(value[0])\n",
        "            temp2=nums.index(value[0],temp1+1)\n",
        "            return [temp1,temp2]\n",
        "          else:\n",
        "            return [nums.index(value[0]), nums.index(value[1])]\n",
        "        \n",
        "        def findPair(nums,target):\n",
        "                return [(i,target-i) for i in nums if target-i in nums]\n",
        "\n",
        "        def  Solutions(nums, target):\n",
        "\n",
        "            filtered_test=findPair(nums,target)\n",
        "            removed_dub=list(set([tuple(sorted(i)) for i in filtered_test]))\n",
        "            return indexOfPair(removed_dub[0])\n",
        "\n",
        "        return Solutions(nums, target)\n",
        "\n",
        "\n",
        "       \n",
        "        "
      ],
      "execution_count": null,
      "outputs": []
    },
    {
      "cell_type": "code",
      "metadata": {
        "colab": {
          "base_uri": "https://localhost:8080/"
        },
        "id": "e2a_WQ_9EkIL",
        "outputId": "be1b969a-10d6-450c-c97c-730d9c04537f"
      },
      "source": [
        "Solution().twoSum([3,2,3],6)"
      ],
      "execution_count": null,
      "outputs": [
        {
          "output_type": "execute_result",
          "data": {
            "text/plain": [
              "[0, 2]"
            ]
          },
          "metadata": {},
          "execution_count": 52
        }
      ]
    },
    {
      "cell_type": "markdown",
      "metadata": {
        "id": "HyyH4PFR1C2n"
      },
      "source": [
        "**Valid Parameters**\n",
        "\n",
        "Given a string s containing just the characters '(', ')', '{', '}', '[' and ']', determine if the input string is valid.\n",
        "\n",
        "An input string is valid if:\n",
        "\n",
        "Open brackets must be closed by the same type of brackets.\n",
        "Open brackets must be closed in the correct order.\n",
        " \n",
        "\n",
        "Example 1:\n",
        "\n",
        "Input: s = \"()\"\n",
        "Output: true\n",
        "Example 2:\n",
        "\n",
        "Input: s = \"()[]{}\"\n",
        "Output: true\n",
        "Example 3:\n",
        "\n",
        "Input: s = \"(]\"\n",
        "Output: false\n",
        "Example 4:\n",
        "\n",
        "Input: s = \"([)]\"\n",
        "Output: false\n",
        "Example 5:\n",
        "\n",
        "Input: s = \"{[]}\"\n",
        "Output: true\n",
        " \n",
        "\n",
        "Constraints:\n",
        "\n",
        "1 <= s.length <= 104\n",
        "s consists of parentheses only '()[]{}'."
      ]
    },
    {
      "cell_type": "code",
      "metadata": {
        "id": "Fp6VCP4I2D1O"
      },
      "source": [
        "#Final Solution \n",
        "class Solution:\n",
        "    def isValid(self, s: str) -> bool:\n",
        "        def matchCondition(value):\n",
        "          return (s[value]=='(' and s[value+1]==')') or (s[value]=='[' and s[value+1]==']') or ( s[value]=='{' and s[value+1]=='}')\n",
        "    \n",
        "        s=list(s)\n",
        "        l=len(s)\n",
        "        i=0\n",
        "        count=0\n",
        "        if len(s)==1:\n",
        "          return False\n",
        "\n",
        "        while i<=len(s)-2:\n",
        "\n",
        "          if matchCondition(i):\n",
        "            count+=1\n",
        "            del s[i:i+2]\n",
        "            i=0\n",
        "            continue\n",
        "          elif matchCondition(i)==False and len(s)==2:\n",
        "            return False\n",
        "          i+=1\n",
        "        if count==l/2:\n",
        "          return True\n",
        "\n"
      ],
      "execution_count": null,
      "outputs": []
    },
    {
      "cell_type": "code",
      "metadata": {
        "colab": {
          "base_uri": "https://localhost:8080/"
        },
        "id": "N3EfDZp9k1MT",
        "outputId": "8fdc2744-c597-4932-9d5b-c284b684ba44"
      },
      "source": [
        "Solution().isValid(\"()\")"
      ],
      "execution_count": null,
      "outputs": [
        {
          "output_type": "execute_result",
          "data": {
            "text/plain": [
              "True"
            ]
          },
          "metadata": {},
          "execution_count": 72
        }
      ]
    },
    {
      "cell_type": "markdown",
      "metadata": {
        "id": "tGJsrsrgZ3-T"
      },
      "source": [
        "** 3. Merge two sorted Linked list **\n",
        "\n",
        "Merge two sorted linked lists and return it as a sorted list. The list should be made by splicing together the nodes of the first two lists.\n",
        "\n",
        " \n",
        "\n",
        "Example 1:\n",
        "\n",
        "\n",
        "Input: l1 = [1,2,4], l2 = [1,3,4]\n",
        "Output: [1,1,2,3,4,4]\n",
        "Example 2:\n",
        "\n",
        "Input: l1 = [], l2 = []\n",
        "Output: []\n",
        "Example 3:\n",
        "\n",
        "Input: l1 = [], l2 = [0]\n",
        "Output: [0]\n",
        " \n",
        "\n",
        "Constraints:\n",
        "\n",
        "The number of nodes in both lists is in the range [0, 50].\n",
        "-100 <= Node.val <= 100\n",
        "Both l1 and l2 are sorted in non-decreasing order."
      ]
    },
    {
      "cell_type": "code",
      "metadata": {
        "colab": {
          "base_uri": "https://localhost:8080/"
        },
        "id": "HGT0GCNDm_kQ",
        "outputId": "74b8d273-c966-4e2f-8f09-b0298f5646aa"
      },
      "source": [
        "lambda x: 5 if 5 >2 else 8"
      ],
      "execution_count": null,
      "outputs": [
        {
          "output_type": "execute_result",
          "data": {
            "text/plain": [
              "<function __main__.<lambda>>"
            ]
          },
          "metadata": {},
          "execution_count": 136
        }
      ]
    },
    {
      "cell_type": "code",
      "metadata": {
        "id": "RiirdGntRnGV"
      },
      "source": [
        "# Definition for singly-linked list.\n",
        "class ListNode:\n",
        "    def __init__(self, val=0, next=None):\n",
        "        self.val = val\n",
        "        self.next = next\n",
        "        \n",
        "class Solution:\n",
        "    def mergeTwoLists(self, l1: ListNode, l2: ListNode) -> ListNode:\n",
        "\n",
        "        l3=ListNode(None) \n",
        "\n",
        "        def length(llOne):\n",
        "            currentNode=llOne\n",
        "            count=0\n",
        "            while currentNode is not None:\n",
        "                count+=1\n",
        "                currentNode=currentNode.next\n",
        "            return count\n",
        "\n",
        "        def elementAt(index,LinkedList):\n",
        "\n",
        "            if index>=length(LinkedList) or index<0:\n",
        "              return 'Index out of Range'\n",
        "            else:\n",
        "              if index==0:\n",
        "                return LinkedList.val\n",
        "              currentNode=LinkedList\n",
        "              for i in range(index):\n",
        "                currentNode=currentNode.next\n",
        "              return currentNode.val\n",
        "\n",
        "        def removef(LinkedList):\n",
        "             return LinkedList.next\n",
        "\n",
        "        def insert(LinkedList,value):\n",
        "            if LinkedList.val is None:\n",
        "              LinkedList.val=value\n",
        "              return \n",
        "            currentNode=LinkedList\n",
        "            while True:\n",
        "              if currentNode.next is  None:\n",
        "                currentNode.next=ListNode(value)\n",
        "                break\n",
        "              currentNode=currentNode.next\n",
        "\n",
        "\n",
        "        def printLinkedList(LinkedList):\n",
        "            currentNode=LinkedList\n",
        "            while currentNode is not None:\n",
        "              print(currentNode.val , end='-->')\n",
        "              currentNode=currentNode.next\n",
        "            print('None')\n",
        "\n",
        "        def lengthIsEqual(l1,l2,l3):\n",
        "            l=length(l1)\n",
        "            for i in range(l):\n",
        "                if elementAt(0,l1)<=elementAt(0,l2):\n",
        "                    insert(l3,elementAt(0,l1))      \n",
        "                    l1=removef(l1)\n",
        "                    insert(l3,elementAt(0,l2))\n",
        "                    l2=removef(l2)\n",
        "                else:\n",
        "                    insert(l3,elementAt(0,l2))\n",
        "                    l2=removef(l2)\n",
        "                    insert(l3,elementAt(0,l1))\n",
        "                    l1=removef(l1)\n",
        "            return l3  \n",
        "\n",
        "        def lengthIsUnequal(l1,l2):\n",
        "          currentNode=l2\n",
        "          l=length(l1)\n",
        "          for i in range(l):\n",
        "            if elementAt(0,l1)<=currentNode.val:\n",
        "              node=ListNode(elementAt(0,l1),currentNode)\n",
        "              l1=removef(l1)\n",
        "              \n",
        "            else:\n",
        "              currentNode=l2\n",
        "              while elementAt(0,11) > currentNode.next.val:\n",
        "                currentNode=currentNode.next\n",
        "                if currentNode.next==None:\n",
        "                  break\n",
        "              node=ListNode(elementAt(0,11),currentNode.next)\n",
        "              currentNode.next=node\n",
        "              \n",
        "            return l2\n",
        "\n",
        "          \n",
        "          \n",
        "\n",
        "\n",
        "        def main(l1,l2):\n",
        "\n",
        "            if l1 is None and l2 is None:\n",
        "                return ListNode('')\n",
        "\n",
        "            elif l1 is None or l2 is None:\n",
        "                a=lambda x, y: x if x is not None else y\n",
        "                return a(l1,l2)\n",
        "\n",
        "            elif length(l1)< length(l2):\n",
        "              return lengthIsUnequal(l1,l2)\n",
        "\n",
        "            elif length(l1)==length(l2):\n",
        "                return lengthIsEqual(l1,l2,l3)\n",
        "                          \n",
        "\n",
        "        return main(l1,l2)\n",
        "        #print(length(l1))\n",
        "        \n",
        "        #return None\n",
        "       \n",
        "\n",
        "        \n",
        "        \n",
        "    "
      ],
      "execution_count": 30,
      "outputs": []
    },
    {
      "cell_type": "code",
      "metadata": {
        "id": "0Ta6gQBi0OjM"
      },
      "source": [
        "a=ListNode(val=5, next=None)\n",
        "b=ListNode(val=1, next=ListNode(val=2, next=ListNode(val=4, next=None)))\n",
        "\n"
      ],
      "execution_count": 31,
      "outputs": []
    },
    {
      "cell_type": "code",
      "metadata": {
        "id": "hPYEaDL63cRs"
      },
      "source": [
        ""
      ],
      "execution_count": null,
      "outputs": []
    },
    {
      "cell_type": "code",
      "metadata": {
        "colab": {
          "base_uri": "https://localhost:8080/",
          "height": 825
        },
        "id": "QIPNM_PYKViE",
        "outputId": "2de5ed45-9b88-4498-c268-bd9fabc927d8"
      },
      "source": [
        "def printLinkedList(LinkedList):\n",
        "  currentNode=LinkedList\n",
        "  while currentNode is not None:\n",
        "    print(currentNode.val , end='-->')\n",
        "    currentNode=currentNode.next\n",
        "  print('None')\n",
        "\n",
        "obj=Solution()\n",
        "output=obj.mergeTwoLists(a,b)\n",
        "printLinkedList(output)"
      ],
      "execution_count": 32,
      "outputs": [
        {
          "output_type": "error",
          "ename": "AttributeError",
          "evalue": "ignored",
          "traceback": [
            "\u001b[0;31m---------------------------------------------------------------------------\u001b[0m",
            "\u001b[0;31mAttributeError\u001b[0m                            Traceback (most recent call last)",
            "\u001b[0;32m<ipython-input-32-6a866beb693d>\u001b[0m in \u001b[0;36m<module>\u001b[0;34m()\u001b[0m\n\u001b[1;32m      7\u001b[0m \u001b[0;34m\u001b[0m\u001b[0m\n\u001b[1;32m      8\u001b[0m \u001b[0mobj\u001b[0m\u001b[0;34m=\u001b[0m\u001b[0mSolution\u001b[0m\u001b[0;34m(\u001b[0m\u001b[0;34m)\u001b[0m\u001b[0;34m\u001b[0m\u001b[0;34m\u001b[0m\u001b[0m\n\u001b[0;32m----> 9\u001b[0;31m \u001b[0moutput\u001b[0m\u001b[0;34m=\u001b[0m\u001b[0mobj\u001b[0m\u001b[0;34m.\u001b[0m\u001b[0mmergeTwoLists\u001b[0m\u001b[0;34m(\u001b[0m\u001b[0ma\u001b[0m\u001b[0;34m,\u001b[0m\u001b[0mb\u001b[0m\u001b[0;34m)\u001b[0m\u001b[0;34m\u001b[0m\u001b[0;34m\u001b[0m\u001b[0m\n\u001b[0m\u001b[1;32m     10\u001b[0m \u001b[0mprintLinkedList\u001b[0m\u001b[0;34m(\u001b[0m\u001b[0moutput\u001b[0m\u001b[0;34m)\u001b[0m\u001b[0;34m\u001b[0m\u001b[0;34m\u001b[0m\u001b[0m\n",
            "\u001b[0;32m<ipython-input-30-5410f0e0a8f5>\u001b[0m in \u001b[0;36mmergeTwoLists\u001b[0;34m(self, l1, l2)\u001b[0m\n\u001b[1;32m    106\u001b[0m \u001b[0;34m\u001b[0m\u001b[0m\n\u001b[1;32m    107\u001b[0m \u001b[0;34m\u001b[0m\u001b[0m\n\u001b[0;32m--> 108\u001b[0;31m         \u001b[0;32mreturn\u001b[0m \u001b[0mmain\u001b[0m\u001b[0;34m(\u001b[0m\u001b[0ml1\u001b[0m\u001b[0;34m,\u001b[0m\u001b[0ml2\u001b[0m\u001b[0;34m)\u001b[0m\u001b[0;34m\u001b[0m\u001b[0;34m\u001b[0m\u001b[0m\n\u001b[0m\u001b[1;32m    109\u001b[0m         \u001b[0;31m#print(length(l1))\u001b[0m\u001b[0;34m\u001b[0m\u001b[0;34m\u001b[0m\u001b[0;34m\u001b[0m\u001b[0m\n\u001b[1;32m    110\u001b[0m \u001b[0;34m\u001b[0m\u001b[0m\n",
            "\u001b[0;32m<ipython-input-30-5410f0e0a8f5>\u001b[0m in \u001b[0;36mmain\u001b[0;34m(l1, l2)\u001b[0m\n\u001b[1;32m    100\u001b[0m \u001b[0;34m\u001b[0m\u001b[0m\n\u001b[1;32m    101\u001b[0m             \u001b[0;32melif\u001b[0m \u001b[0mlength\u001b[0m\u001b[0;34m(\u001b[0m\u001b[0ml1\u001b[0m\u001b[0;34m)\u001b[0m\u001b[0;34m<\u001b[0m \u001b[0mlength\u001b[0m\u001b[0;34m(\u001b[0m\u001b[0ml2\u001b[0m\u001b[0;34m)\u001b[0m\u001b[0;34m:\u001b[0m\u001b[0;34m\u001b[0m\u001b[0;34m\u001b[0m\u001b[0m\n\u001b[0;32m--> 102\u001b[0;31m               \u001b[0;32mreturn\u001b[0m \u001b[0mlengthIsUnequal\u001b[0m\u001b[0;34m(\u001b[0m\u001b[0ml1\u001b[0m\u001b[0;34m,\u001b[0m\u001b[0ml2\u001b[0m\u001b[0;34m)\u001b[0m\u001b[0;34m\u001b[0m\u001b[0;34m\u001b[0m\u001b[0m\n\u001b[0m\u001b[1;32m    103\u001b[0m \u001b[0;34m\u001b[0m\u001b[0m\n\u001b[1;32m    104\u001b[0m             \u001b[0;32melif\u001b[0m \u001b[0mlength\u001b[0m\u001b[0;34m(\u001b[0m\u001b[0ml1\u001b[0m\u001b[0;34m)\u001b[0m\u001b[0;34m==\u001b[0m\u001b[0mlength\u001b[0m\u001b[0;34m(\u001b[0m\u001b[0ml2\u001b[0m\u001b[0;34m)\u001b[0m\u001b[0;34m:\u001b[0m\u001b[0;34m\u001b[0m\u001b[0;34m\u001b[0m\u001b[0m\n",
            "\u001b[0;32m<ipython-input-30-5410f0e0a8f5>\u001b[0m in \u001b[0;36mlengthIsUnequal\u001b[0;34m(l1, l2)\u001b[0m\n\u001b[1;32m     77\u001b[0m             \u001b[0;32melse\u001b[0m\u001b[0;34m:\u001b[0m\u001b[0;34m\u001b[0m\u001b[0;34m\u001b[0m\u001b[0m\n\u001b[1;32m     78\u001b[0m               \u001b[0mcurrentNode\u001b[0m\u001b[0;34m=\u001b[0m\u001b[0ml2\u001b[0m\u001b[0;34m\u001b[0m\u001b[0;34m\u001b[0m\u001b[0m\n\u001b[0;32m---> 79\u001b[0;31m               \u001b[0;32mwhile\u001b[0m \u001b[0melementAt\u001b[0m\u001b[0;34m(\u001b[0m\u001b[0;36m0\u001b[0m\u001b[0;34m,\u001b[0m\u001b[0;36m11\u001b[0m\u001b[0;34m)\u001b[0m \u001b[0;34m>\u001b[0m \u001b[0mcurrentNode\u001b[0m\u001b[0;34m.\u001b[0m\u001b[0mnext\u001b[0m\u001b[0;34m.\u001b[0m\u001b[0mval\u001b[0m\u001b[0;34m:\u001b[0m\u001b[0;34m\u001b[0m\u001b[0;34m\u001b[0m\u001b[0m\n\u001b[0m\u001b[1;32m     80\u001b[0m                 \u001b[0mcurrentNode\u001b[0m\u001b[0;34m=\u001b[0m\u001b[0mcurrentNode\u001b[0m\u001b[0;34m.\u001b[0m\u001b[0mnext\u001b[0m\u001b[0;34m\u001b[0m\u001b[0;34m\u001b[0m\u001b[0m\n\u001b[1;32m     81\u001b[0m                 \u001b[0;32mif\u001b[0m \u001b[0mcurrentNode\u001b[0m\u001b[0;34m.\u001b[0m\u001b[0mnext\u001b[0m\u001b[0;34m==\u001b[0m\u001b[0;32mNone\u001b[0m\u001b[0;34m:\u001b[0m\u001b[0;34m\u001b[0m\u001b[0;34m\u001b[0m\u001b[0m\n",
            "\u001b[0;32m<ipython-input-30-5410f0e0a8f5>\u001b[0m in \u001b[0;36melementAt\u001b[0;34m(index, LinkedList)\u001b[0m\n\u001b[1;32m     20\u001b[0m         \u001b[0;32mdef\u001b[0m \u001b[0melementAt\u001b[0m\u001b[0;34m(\u001b[0m\u001b[0mindex\u001b[0m\u001b[0;34m,\u001b[0m\u001b[0mLinkedList\u001b[0m\u001b[0;34m)\u001b[0m\u001b[0;34m:\u001b[0m\u001b[0;34m\u001b[0m\u001b[0;34m\u001b[0m\u001b[0m\n\u001b[1;32m     21\u001b[0m \u001b[0;34m\u001b[0m\u001b[0m\n\u001b[0;32m---> 22\u001b[0;31m             \u001b[0;32mif\u001b[0m \u001b[0mindex\u001b[0m\u001b[0;34m>=\u001b[0m\u001b[0mlength\u001b[0m\u001b[0;34m(\u001b[0m\u001b[0mLinkedList\u001b[0m\u001b[0;34m)\u001b[0m \u001b[0;32mor\u001b[0m \u001b[0mindex\u001b[0m\u001b[0;34m<\u001b[0m\u001b[0;36m0\u001b[0m\u001b[0;34m:\u001b[0m\u001b[0;34m\u001b[0m\u001b[0;34m\u001b[0m\u001b[0m\n\u001b[0m\u001b[1;32m     23\u001b[0m               \u001b[0;32mreturn\u001b[0m \u001b[0;34m'Index out of Range'\u001b[0m\u001b[0;34m\u001b[0m\u001b[0;34m\u001b[0m\u001b[0m\n\u001b[1;32m     24\u001b[0m             \u001b[0;32melse\u001b[0m\u001b[0;34m:\u001b[0m\u001b[0;34m\u001b[0m\u001b[0;34m\u001b[0m\u001b[0m\n",
            "\u001b[0;32m<ipython-input-30-5410f0e0a8f5>\u001b[0m in \u001b[0;36mlength\u001b[0;34m(llOne)\u001b[0m\n\u001b[1;32m     15\u001b[0m             \u001b[0;32mwhile\u001b[0m \u001b[0mcurrentNode\u001b[0m \u001b[0;32mis\u001b[0m \u001b[0;32mnot\u001b[0m \u001b[0;32mNone\u001b[0m\u001b[0;34m:\u001b[0m\u001b[0;34m\u001b[0m\u001b[0;34m\u001b[0m\u001b[0m\n\u001b[1;32m     16\u001b[0m                 \u001b[0mcount\u001b[0m\u001b[0;34m+=\u001b[0m\u001b[0;36m1\u001b[0m\u001b[0;34m\u001b[0m\u001b[0;34m\u001b[0m\u001b[0m\n\u001b[0;32m---> 17\u001b[0;31m                 \u001b[0mcurrentNode\u001b[0m\u001b[0;34m=\u001b[0m\u001b[0mcurrentNode\u001b[0m\u001b[0;34m.\u001b[0m\u001b[0mnext\u001b[0m\u001b[0;34m\u001b[0m\u001b[0;34m\u001b[0m\u001b[0m\n\u001b[0m\u001b[1;32m     18\u001b[0m             \u001b[0;32mreturn\u001b[0m \u001b[0mcount\u001b[0m\u001b[0;34m\u001b[0m\u001b[0;34m\u001b[0m\u001b[0m\n\u001b[1;32m     19\u001b[0m \u001b[0;34m\u001b[0m\u001b[0m\n",
            "\u001b[0;31mAttributeError\u001b[0m: 'int' object has no attribute 'next'"
          ]
        }
      ]
    },
    {
      "cell_type": "code",
      "metadata": {
        "id": "iVlPE1-iotzP",
        "colab": {
          "base_uri": "https://localhost:8080/"
        },
        "outputId": "871dcfd0-2aaf-4a46-f6ec-87117f3f6a5e"
      },
      "source": [
        "''' As the Question is related to LinkedList I'm brushing my linked list understanding the first \n",
        "couple of code blocks '''\n",
        "class Node:\n",
        "  def __init__(self,value, next=None):\n",
        "    self.value=value\n",
        "    self.next=next\n",
        "\n",
        "# 3-->7-->10-->23\n",
        "\n",
        "node1=Node('3')\n",
        "node2=Node('7')\n",
        "node3=Node('10')\n",
        "node4=Node('23')\n",
        "\n",
        "node1.next=node2\n",
        "node2.next=node3\n",
        "node3.next=node4\n",
        "\n",
        "currentNode=node1\n",
        "#print(node1.value)\n",
        "while True:\n",
        "  print(currentNode.value,end='-->')\n",
        "  if currentNode.next is None:\n",
        "    print('None')\n",
        "    break\n",
        "  currentNode=currentNode.next"
      ],
      "execution_count": null,
      "outputs": [
        {
          "output_type": "stream",
          "name": "stdout",
          "text": [
            "3-->7-->10-->23-->None\n"
          ]
        }
      ]
    },
    {
      "cell_type": "code",
      "metadata": {
        "id": "scObNwmcyYBf"
      },
      "source": [
        "class Node:\n",
        "  def __init__(self,value, next=None):\n",
        "    self.value=value\n",
        "    self.next=next\n",
        "\n",
        "class ListNode:\n",
        "\n",
        "  def __init__(self, head=None):\n",
        "    self.head=head\n",
        "\n",
        "  def insert(self, value):\n",
        "    node=Node(value)\n",
        "    if self.head is None:\n",
        "      self.head=node\n",
        "      return\n",
        "    currentNode=self.head\n",
        "    while True:\n",
        "      if currentNode.next is None:\n",
        "        currentNode.next=node\n",
        "        break\n",
        "      currentNode=currentNode.next\n",
        "  \n",
        "  def length(self,llOne):\n",
        "    currentNode=llOne\n",
        "    count=0\n",
        "    while currentNode is not None:\n",
        "      count+=1\n",
        "      currentNode=currentNode.next\n",
        "    return count\n",
        "\n",
        "  def valueAtIndex(self,index):\n",
        "\n",
        "    if index>=self.length() or index<0:\n",
        "      return 'Index out of Range'\n",
        "    else:\n",
        "      \n",
        "      if index==0:\n",
        "        return self.head.value\n",
        "      currentNode=self.head \n",
        "      for i in range(index):\n",
        "        currentNode=currentNode.next\n",
        "      print(currentNode.value)\n",
        " \n",
        "  def insertAt(self, index, value):\n",
        "\n",
        "    if self.head is None and index==0:\n",
        "      self.head =Node(value)\n",
        "    elif self.head is not None and index==0:\n",
        "      currentNode=self.head\n",
        "      self.head=Node(value,currentNode)\n",
        "\n",
        "    elif self.length()<index or index<0:\n",
        "      return 'Index doesn\\'t exist'\n",
        "    else:\n",
        "      currentNode=self.head\n",
        "      for i in range(index-1):\n",
        "        currentNode=currentNode.next\n",
        "\n",
        "      temp=currentNode.next\n",
        "      currentNode.next=Node(value,temp)\n",
        "      #print(currentNode.next.value)\n",
        "\n",
        "        \n",
        "\n",
        "\n",
        "  def printLinkedList(self):\n",
        "    currentNode=self.head\n",
        "    while currentNode is not None:\n",
        "      print(currentNode.value , end='-->')\n",
        "      currentNode=currentNode.next\n",
        "    print('None')\n",
        "\n"
      ],
      "execution_count": null,
      "outputs": []
    },
    {
      "cell_type": "code",
      "metadata": {
        "colab": {
          "base_uri": "https://localhost:8080/"
        },
        "id": "NxKoCk2O3EFP",
        "outputId": "93117a8c-0756-469b-cf5d-04f6c7a32bbf"
      },
      "source": [
        "ll=ListNode()\n",
        "ll.printLinkedList()\n",
        "print(ll.length())\n",
        "ll.insert(2)\n",
        "ll.insert(4)\n",
        "ll.insert(13)\n",
        "ll.insert(88)\n",
        "ll.insert(7)\n",
        "ll.insert(3)\n",
        "ll.printLinkedList()\n",
        "ll.insertAt(0,10)\n",
        "ll.printLinkedList()\n",
        "ll.valueAtIndex(3)"
      ],
      "execution_count": null,
      "outputs": [
        {
          "output_type": "stream",
          "name": "stdout",
          "text": [
            "None\n",
            "0\n",
            "2-->4-->13-->88-->7-->3-->None\n",
            "10-->2-->4-->13-->88-->7-->3-->None\n",
            "13\n"
          ]
        }
      ]
    },
    {
      "cell_type": "code",
      "metadata": {
        "colab": {
          "base_uri": "https://localhost:8080/",
          "height": 129
        },
        "id": "D5WESakD3Kaa",
        "outputId": "a800f77a-aedd-443a-927b-ec6d8377ee9b"
      },
      "source": [
        "ListNode{val: 1, next: ListNode{val: 2, next: ListNode{val: 4, next: None}}}"
      ],
      "execution_count": null,
      "outputs": [
        {
          "output_type": "error",
          "ename": "SyntaxError",
          "evalue": "ignored",
          "traceback": [
            "\u001b[0;36m  File \u001b[0;32m\"<ipython-input-121-266f662cb370>\"\u001b[0;36m, line \u001b[0;32m1\u001b[0m\n\u001b[0;31m    ListNode{val: 1, next: ListNode{val: 2, next: ListNode{val: 4, next: None}}}\u001b[0m\n\u001b[0m            ^\u001b[0m\n\u001b[0;31mSyntaxError\u001b[0m\u001b[0;31m:\u001b[0m invalid syntax\n"
          ]
        }
      ]
    },
    {
      "cell_type": "code",
      "metadata": {
        "colab": {
          "base_uri": "https://localhost:8080/"
        },
        "id": "3B44kfxY7Ov4",
        "outputId": "a165c964-cb5a-47f6-c7b8-e81632664b21"
      },
      "source": [
        "a=[1,2,3]\n",
        "b=[3,4,4]\n",
        "c=sorted(a)\n",
        "c"
      ],
      "execution_count": null,
      "outputs": [
        {
          "output_type": "execute_result",
          "data": {
            "text/plain": [
              "[1, 2, 3]"
            ]
          },
          "metadata": {},
          "execution_count": 56
        }
      ]
    },
    {
      "cell_type": "code",
      "metadata": {
        "id": "2Td6ilm3Dx-M"
      },
      "source": [
        ""
      ],
      "execution_count": null,
      "outputs": []
    }
  ]
}