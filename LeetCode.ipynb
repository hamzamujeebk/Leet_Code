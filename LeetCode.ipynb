{
  "nbformat": 4,
  "nbformat_minor": 0,
  "metadata": {
    "colab": {
      "name": "LeetCode.ipynb",
      "provenance": [],
      "collapsed_sections": [],
      "authorship_tag": "ABX9TyPvYHpGP8tZlSaWSwEPO/GB",
      "include_colab_link": true
    },
    "kernelspec": {
      "name": "python3",
      "display_name": "Python 3"
    },
    "language_info": {
      "name": "python"
    }
  },
  "cells": [
    {
      "cell_type": "markdown",
      "metadata": {
        "id": "view-in-github",
        "colab_type": "text"
      },
      "source": [
        "<a href=\"https://colab.research.google.com/github/hamzamujeebk/Leet_Code/blob/main/LeetCode.ipynb\" target=\"_parent\"><img src=\"https://colab.research.google.com/assets/colab-badge.svg\" alt=\"Open In Colab\"/></a>"
      ]
    },
    {
      "cell_type": "markdown",
      "metadata": {
        "id": "HyTG2te_N4IG"
      },
      "source": [
        "**The 2 Sum**\n",
        "\n",
        "Given an array of integers nums and an integer target, return indices of the two numbers such that they add up to target.\n",
        "\n",
        "You may assume that each input would have exactly one solution, and you may not use the same element twice.\n",
        "\n",
        "You can return the answer in any order.\n",
        "\n",
        " \n",
        "\n",
        "Example 1:\n",
        "\n",
        "Input: nums = [2,7,11,15], target = 9\n",
        "Output: [0,1]\n",
        "Output: Because nums[0] + nums[1] == 9, we return [0, 1].\n",
        "Example 2:\n",
        "\n",
        "Input: nums = [3,2,4], target = 6\n",
        "Output: [1,2]\n",
        "Example 3:\n",
        "\n",
        "Input: nums = [3,3], target = 6\n",
        "Output: [0,1]\n",
        " \n",
        "\n",
        "Constraints:\n",
        "\n",
        "2 <= nums.length <= 104\n",
        "-109 <= nums[i] <= 109\n",
        "-109 <= target <= 109\n",
        "Only one valid answer exists.\n",
        " \n",
        "\n",
        "Follow-up: Can you come up with an algorithm that is less than O(n2) time complexity?"
      ]
    },
    {
      "cell_type": "code",
      "metadata": {
        "id": "fCDFjgI6z9J9"
      },
      "source": [
        "from typing import List\n",
        "class Solution:\n",
        "    def twoSum(self, nums: List[int], target: int) -> List[int]:\n",
        "\n",
        "        def indexOfPair(value):\n",
        "          if value[0]==value[1]:\n",
        "            temp1= nums.index(value[0])\n",
        "            temp2=nums.index(value[0],temp1+1)\n",
        "            return [temp1,temp2]\n",
        "          else:\n",
        "            return [nums.index(value[0]), nums.index(value[1])]\n",
        "        \n",
        "        def findPair(nums,target):\n",
        "                return [(i,target-i) for i in nums if target-i in nums]\n",
        "\n",
        "        def  Solutions(nums, target):\n",
        "\n",
        "            filtered_test=findPair(nums,target)\n",
        "            removed_dub=list(set([tuple(sorted(i)) for i in filtered_test]))\n",
        "            return indexOfPair(removed_dub[0])\n",
        "\n",
        "        return Solutions(nums, target)\n",
        "\n",
        "\n",
        "       \n",
        "        "
      ],
      "execution_count": null,
      "outputs": []
    },
    {
      "cell_type": "code",
      "metadata": {
        "colab": {
          "base_uri": "https://localhost:8080/"
        },
        "id": "e2a_WQ_9EkIL",
        "outputId": "be1b969a-10d6-450c-c97c-730d9c04537f"
      },
      "source": [
        "Solution().twoSum([3,2,3],6)"
      ],
      "execution_count": null,
      "outputs": [
        {
          "output_type": "execute_result",
          "data": {
            "text/plain": [
              "[0, 2]"
            ]
          },
          "metadata": {},
          "execution_count": 52
        }
      ]
    },
    {
      "cell_type": "markdown",
      "metadata": {
        "id": "HyyH4PFR1C2n"
      },
      "source": [
        "**Valid Parameters**\n",
        "\n",
        "Given a string s containing just the characters '(', ')', '{', '}', '[' and ']', determine if the input string is valid.\n",
        "\n",
        "An input string is valid if:\n",
        "\n",
        "Open brackets must be closed by the same type of brackets.\n",
        "Open brackets must be closed in the correct order.\n",
        " \n",
        "\n",
        "Example 1:\n",
        "\n",
        "Input: s = \"()\"\n",
        "Output: true\n",
        "Example 2:\n",
        "\n",
        "Input: s = \"()[]{}\"\n",
        "Output: true\n",
        "Example 3:\n",
        "\n",
        "Input: s = \"(]\"\n",
        "Output: false\n",
        "Example 4:\n",
        "\n",
        "Input: s = \"([)]\"\n",
        "Output: false\n",
        "Example 5:\n",
        "\n",
        "Input: s = \"{[]}\"\n",
        "Output: true\n",
        " \n",
        "\n",
        "Constraints:\n",
        "\n",
        "1 <= s.length <= 104\n",
        "s consists of parentheses only '()[]{}'."
      ]
    },
    {
      "cell_type": "code",
      "metadata": {
        "id": "Fp6VCP4I2D1O"
      },
      "source": [
        "#Final Solution \n",
        "class Solution:\n",
        "    def isValid(self, s: str) -> bool:\n",
        "        def matchCondition(value):\n",
        "          return (s[value]=='(' and s[value+1]==')') or (s[value]=='[' and s[value+1]==']') or ( s[value]=='{' and s[value+1]=='}')\n",
        "    \n",
        "        s=list(s)\n",
        "        l=len(s)\n",
        "        i=0\n",
        "        count=0\n",
        "        if len(s)==1:\n",
        "          return False\n",
        "\n",
        "        while i<=len(s)-2:\n",
        "\n",
        "          if matchCondition(i):\n",
        "            count+=1\n",
        "            del s[i:i+2]\n",
        "            i=0\n",
        "            continue\n",
        "          elif matchCondition(i)==False and len(s)==2:\n",
        "            return False\n",
        "          i+=1\n",
        "        if count==l/2:\n",
        "          return True\n",
        "\n"
      ],
      "execution_count": null,
      "outputs": []
    },
    {
      "cell_type": "code",
      "metadata": {
        "colab": {
          "base_uri": "https://localhost:8080/"
        },
        "id": "N3EfDZp9k1MT",
        "outputId": "8fdc2744-c597-4932-9d5b-c284b684ba44"
      },
      "source": [
        "Solution().isValid(\"()\")"
      ],
      "execution_count": null,
      "outputs": [
        {
          "output_type": "execute_result",
          "data": {
            "text/plain": [
              "True"
            ]
          },
          "metadata": {},
          "execution_count": 72
        }
      ]
    },
    {
      "cell_type": "markdown",
      "metadata": {
        "id": "tGJsrsrgZ3-T"
      },
      "source": [
        "** 3. Merge two sorted Linked list **\n",
        "\n",
        "Merge two sorted linked lists and return it as a sorted list. The list should be made by splicing together the nodes of the first two lists.\n",
        "\n",
        " \n",
        "\n",
        "Example 1:\n",
        "\n",
        "\n",
        "Input: l1 = [1,2,4], l2 = [1,3,4]\n",
        "Output: [1,1,2,3,4,4]\n",
        "Example 2:\n",
        "\n",
        "Input: l1 = [], l2 = []\n",
        "Output: []\n",
        "Example 3:\n",
        "\n",
        "Input: l1 = [], l2 = [0]\n",
        "Output: [0]\n",
        " \n",
        "\n",
        "Constraints:\n",
        "\n",
        "The number of nodes in both lists is in the range [0, 50].\n",
        "-100 <= Node.val <= 100\n",
        "Both l1 and l2 are sorted in non-decreasing order."
      ]
    },
    {
      "cell_type": "code",
      "metadata": {
        "id": "iVlPE1-iotzP",
        "colab": {
          "base_uri": "https://localhost:8080/"
        },
        "outputId": "871dcfd0-2aaf-4a46-f6ec-87117f3f6a5e"
      },
      "source": [
        "''' As the Question is related to LinkedList I'm brushing my linked list understanding the first \n",
        "couple of code blocks '''\n",
        "class Node:\n",
        "  def __init__(self,value, next=None):\n",
        "    self.value=value\n",
        "    self.next=next\n",
        "\n",
        "# 3-->7-->10-->23\n",
        "\n",
        "node1=Node('3')\n",
        "node2=Node('7')\n",
        "node3=Node('10')\n",
        "node4=Node('23')\n",
        "\n",
        "node1.next=node2\n",
        "node2.next=node3\n",
        "node3.next=node4\n",
        "\n",
        "currentNode=node1\n",
        "#print(node1.value)\n",
        "while True:\n",
        "  print(currentNode.value,end='-->')\n",
        "  if currentNode.next is None:\n",
        "    print('None')\n",
        "    break\n",
        "  currentNode=currentNode.next"
      ],
      "execution_count": 1,
      "outputs": [
        {
          "output_type": "stream",
          "name": "stdout",
          "text": [
            "3-->7-->10-->23-->None\n"
          ]
        }
      ]
    },
    {
      "cell_type": "code",
      "metadata": {
        "id": "scObNwmcyYBf"
      },
      "source": [
        "class Node:\n",
        "  def __init__(self,value, next=None):\n",
        "    self.value=value\n",
        "    self.next=next\n",
        "\n",
        "class LinkedList:\n",
        "\n",
        "  def __init__(self, head=None):\n",
        "    self.head=head\n",
        "\n",
        "  def insert(self, value):\n",
        "    node=Node(value)\n",
        "    if self.head is None:\n",
        "      self.head=node\n",
        "      return\n",
        "    currentNode=self.head\n",
        "    while True:\n",
        "      if currentNode.next is None:\n",
        "        currentNode.next=node\n",
        "        break\n",
        "      currentNode=currentNode.next\n",
        "  \n",
        "  def length(self):\n",
        "    currentNode=self.head\n",
        "    count=0\n",
        "    while currentNode is not None:\n",
        "      count+=1\n",
        "      currentNode=currentNode.next\n",
        "    return count\n",
        "\n",
        "  def valueAtIndex(self,index):\n",
        "\n",
        "    if index>=self.length() or index<0:\n",
        "      return 'Index out of Range'\n",
        "    else:\n",
        "      \n",
        "      if index==0:\n",
        "        return self.head.value\n",
        "      currentNode=self.head \n",
        "      for i in range(index):\n",
        "        currentNode=currentNode.next\n",
        "      print(currentNode.value)\n",
        " \n",
        "  def insertAt(self, index, value):\n",
        "\n",
        "    if self.head is None and index==0:\n",
        "      self.head =Node(value)\n",
        "    elif self.head is not None and index==0:\n",
        "      currentNode=self.head\n",
        "      self.head=Node(value,currentNode)\n",
        "\n",
        "    elif self.length()<index or index<0:\n",
        "      return 'Index doesn\\'t exist'\n",
        "    else:\n",
        "      currentNode=self.head\n",
        "    \n",
        "      for i in range(index-1):\n",
        "        currentNode=currentNode.next\n",
        "\n",
        "      temp=currentNode.next\n",
        "      currentNode.next=Node(value,temp)\n",
        "      #print(currentNode.next.value)\n",
        "\n",
        "        \n",
        "\n",
        "\n",
        "  def printLinkedList(self):\n",
        "    currentNode=self.head\n",
        "    while currentNode is not None:\n",
        "      print(currentNode.value , end='-->')\n",
        "      currentNode=currentNode.next\n",
        "    print('None')\n",
        "\n"
      ],
      "execution_count": 110,
      "outputs": []
    },
    {
      "cell_type": "code",
      "metadata": {
        "colab": {
          "base_uri": "https://localhost:8080/"
        },
        "id": "NxKoCk2O3EFP",
        "outputId": "84e868c4-65a9-4376-c71f-ab6ddc1c3f17"
      },
      "source": [
        "ll=LinkedList()\n",
        "ll.printLinkedList()\n",
        "print(ll.length())\n",
        "ll.insert(2)\n",
        "ll.insert(4)\n",
        "ll.insert(13)\n",
        "ll.insert(88)\n",
        "ll.insert(7)\n",
        "ll.insert(3)\n",
        "ll.printLinkedList()\n",
        "ll.insertAt(0,10)\n",
        "ll.printLinkedList()"
      ],
      "execution_count": 113,
      "outputs": [
        {
          "output_type": "stream",
          "name": "stdout",
          "text": [
            "None\n",
            "0\n",
            "2-->4-->13-->88-->7-->3-->None\n",
            "10-->2-->4-->13-->88-->7-->3-->None\n"
          ]
        }
      ]
    },
    {
      "cell_type": "code",
      "metadata": {
        "colab": {
          "base_uri": "https://localhost:8080/"
        },
        "id": "D5WESakD3Kaa",
        "outputId": "800fdc79-a45b-4426-c62e-17a66b25fb5d"
      },
      "source": [
        "for i in range(1):\n",
        "  print(i)"
      ],
      "execution_count": 81,
      "outputs": [
        {
          "output_type": "stream",
          "name": "stdout",
          "text": [
            "0\n"
          ]
        }
      ]
    },
    {
      "cell_type": "code",
      "metadata": {
        "colab": {
          "base_uri": "https://localhost:8080/"
        },
        "id": "3B44kfxY7Ov4",
        "outputId": "a165c964-cb5a-47f6-c7b8-e81632664b21"
      },
      "source": [
        "a=[1,2,3]\n",
        "b=[3,4,4]\n",
        "c=sorted(a)\n",
        "c"
      ],
      "execution_count": 56,
      "outputs": [
        {
          "output_type": "execute_result",
          "data": {
            "text/plain": [
              "[1, 2, 3]"
            ]
          },
          "metadata": {},
          "execution_count": 56
        }
      ]
    },
    {
      "cell_type": "code",
      "metadata": {
        "id": "2Td6ilm3Dx-M"
      },
      "source": [
        ""
      ],
      "execution_count": null,
      "outputs": []
    }
  ]
}