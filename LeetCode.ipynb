{
  "nbformat": 4,
  "nbformat_minor": 0,
  "metadata": {
    "colab": {
      "name": "LeetCode.ipynb",
      "provenance": [],
      "collapsed_sections": [],
      "authorship_tag": "ABX9TyOz3U3+pVXA3oZm1ib3LOIs",
      "include_colab_link": true
    },
    "kernelspec": {
      "name": "python3",
      "display_name": "Python 3"
    },
    "language_info": {
      "name": "python"
    }
  },
  "cells": [
    {
      "cell_type": "markdown",
      "metadata": {
        "id": "view-in-github",
        "colab_type": "text"
      },
      "source": [
        "<a href=\"https://colab.research.google.com/github/hamzamujeebk/Leet_Code/blob/main/LeetCode.ipynb\" target=\"_parent\"><img src=\"https://colab.research.google.com/assets/colab-badge.svg\" alt=\"Open In Colab\"/></a>"
      ]
    },
    {
      "cell_type": "markdown",
      "metadata": {
        "id": "HyTG2te_N4IG"
      },
      "source": [
        "**The 2 Sum**\n",
        "\n",
        "Given an array of integers nums and an integer target, return indices of the two numbers such that they add up to target.\n",
        "\n",
        "You may assume that each input would have exactly one solution, and you may not use the same element twice.\n",
        "\n",
        "You can return the answer in any order.\n",
        "\n",
        " \n",
        "\n",
        "Example 1:\n",
        "\n",
        "Input: nums = [2,7,11,15], target = 9\n",
        "Output: [0,1]\n",
        "Output: Because nums[0] + nums[1] == 9, we return [0, 1].\n",
        "Example 2:\n",
        "\n",
        "Input: nums = [3,2,4], target = 6\n",
        "Output: [1,2]\n",
        "Example 3:\n",
        "\n",
        "Input: nums = [3,3], target = 6\n",
        "Output: [0,1]\n",
        " \n",
        "\n",
        "Constraints:\n",
        "\n",
        "2 <= nums.length <= 104\n",
        "-109 <= nums[i] <= 109\n",
        "-109 <= target <= 109\n",
        "Only one valid answer exists.\n",
        " \n",
        "\n",
        "Follow-up: Can you come up with an algorithm that is less than O(n2) time complexity?"
      ]
    },
    {
      "cell_type": "code",
      "metadata": {
        "id": "fCDFjgI6z9J9"
      },
      "source": [
        "from typing import List\n",
        "class Solution:\n",
        "    def twoSum(self, nums: List[int], target: int) -> List[int]:\n",
        "\n",
        "        def indexOfPair(value):\n",
        "          if value[0]==value[1]:\n",
        "            temp1= nums.index(value[0])\n",
        "            temp2=nums.index(value[0],temp1+1)\n",
        "            return [temp1,temp2]\n",
        "          else:\n",
        "            return [nums.index(value[0]), nums.index(value[1])]\n",
        "        \n",
        "        def findPair(nums,target):\n",
        "                return [(i,target-i) for i in nums if target-i in nums]\n",
        "\n",
        "        def  Solutions(nums, target):\n",
        "\n",
        "            filtered_test=findPair(nums,target)\n",
        "            removed_dub=list(set([tuple(sorted(i)) for i in filtered_test]))\n",
        "            return indexOfPair(removed_dub[0])\n",
        "\n",
        "        return Solutions(nums, target)\n",
        "\n",
        "\n",
        "       \n",
        "        "
      ],
      "execution_count": 51,
      "outputs": []
    },
    {
      "cell_type": "code",
      "metadata": {
        "colab": {
          "base_uri": "https://localhost:8080/"
        },
        "id": "e2a_WQ_9EkIL",
        "outputId": "be1b969a-10d6-450c-c97c-730d9c04537f"
      },
      "source": [
        "Solution().twoSum([3,2,3],6)"
      ],
      "execution_count": 52,
      "outputs": [
        {
          "output_type": "execute_result",
          "data": {
            "text/plain": [
              "[0, 2]"
            ]
          },
          "metadata": {},
          "execution_count": 52
        }
      ]
    },
    {
      "cell_type": "markdown",
      "metadata": {
        "id": "HyyH4PFR1C2n"
      },
      "source": [
        "**Valid Parameters**\n",
        "\n",
        "Given a string s containing just the characters '(', ')', '{', '}', '[' and ']', determine if the input string is valid.\n",
        "\n",
        "An input string is valid if:\n",
        "\n",
        "Open brackets must be closed by the same type of brackets.\n",
        "Open brackets must be closed in the correct order.\n",
        " \n",
        "\n",
        "Example 1:\n",
        "\n",
        "Input: s = \"()\"\n",
        "Output: true\n",
        "Example 2:\n",
        "\n",
        "Input: s = \"()[]{}\"\n",
        "Output: true\n",
        "Example 3:\n",
        "\n",
        "Input: s = \"(]\"\n",
        "Output: false\n",
        "Example 4:\n",
        "\n",
        "Input: s = \"([)]\"\n",
        "Output: false\n",
        "Example 5:\n",
        "\n",
        "Input: s = \"{[]}\"\n",
        "Output: true\n",
        " \n",
        "\n",
        "Constraints:\n",
        "\n",
        "1 <= s.length <= 104\n",
        "s consists of parentheses only '()[]{}'."
      ]
    },
    {
      "cell_type": "code",
      "metadata": {
        "colab": {
          "base_uri": "https://localhost:8080/"
        },
        "id": "2YMzkyx5srTN",
        "outputId": "186e8ecd-066b-4192-f922-fc4cda3ef27a"
      },
      "source": [
        "\n",
        "s='(){}}]'\n",
        "\n",
        "def removeFoundPair(value,s):\n",
        "  temp=list(s)\n",
        "  del temp[value:value+2]\n",
        "  s=''.join(temp)\n",
        "\n",
        "def matchCondition(value,s):\n",
        "  if (s[value]=='(' and s[value+1]==')') or (s[value]=='[' and s[value+1]==']') or ( s[value]=='{' and s[value+1]=='}'):\n",
        "    removeFoundPair(value,s)\n",
        "    return True\n",
        "  else:\n",
        "    return False\n",
        "\n",
        "def Solution(s):\n",
        "  for i in range(len(s)-1):\n",
        "    if matchCondition(0,s)==False:\n",
        "\n",
        "      return False\n",
        "  \n",
        "  return True\n",
        "\n",
        "Solution(s)\n"
      ],
      "execution_count": 49,
      "outputs": [
        {
          "output_type": "execute_result",
          "data": {
            "text/plain": [
              "True"
            ]
          },
          "metadata": {},
          "execution_count": 49
        }
      ]
    },
    {
      "cell_type": "code",
      "metadata": {
        "colab": {
          "base_uri": "https://localhost:8080/"
        },
        "id": "MieFdLKJqv_i",
        "outputId": "71c010aa-1cdb-4f22-aecc-1bee2b57406a"
      },
      "source": [
        "matchCondition(1,'(){}')"
      ],
      "execution_count": 47,
      "outputs": [
        {
          "output_type": "execute_result",
          "data": {
            "text/plain": [
              "False"
            ]
          },
          "metadata": {},
          "execution_count": 47
        }
      ]
    },
    {
      "cell_type": "code",
      "metadata": {
        "colab": {
          "base_uri": "https://localhost:8080/"
        },
        "id": "nOSFlSFF1TJK",
        "outputId": "4db5fc90-a92f-4c93-8dde-2bf72f091aa9"
      },
      "source": [
        ""
      ],
      "execution_count": 40,
      "outputs": [
        {
          "output_type": "execute_result",
          "data": {
            "text/plain": [
              "2"
            ]
          },
          "metadata": {},
          "execution_count": 40
        }
      ]
    },
    {
      "cell_type": "code",
      "metadata": {
        "colab": {
          "base_uri": "https://localhost:8080/"
        },
        "id": "WmQCWzJb11PP",
        "outputId": "6f2866a6-da4b-41c3-f647-c42e5ce013e7"
      },
      "source": [
        "a\n"
      ],
      "execution_count": null,
      "outputs": [
        {
          "output_type": "execute_result",
          "data": {
            "text/plain": [
              "['[', '1', ',', '3', ',', '4', ']']"
            ]
          },
          "metadata": {},
          "execution_count": 14
        }
      ]
    },
    {
      "cell_type": "code",
      "metadata": {
        "id": "Fp6VCP4I2D1O"
      },
      "source": [
        ""
      ],
      "execution_count": null,
      "outputs": []
    }
  ]
}