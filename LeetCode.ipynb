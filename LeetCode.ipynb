{
  "nbformat": 4,
  "nbformat_minor": 0,
  "metadata": {
    "colab": {
      "name": "LeetCode.ipynb",
      "provenance": [],
      "collapsed_sections": [],
      "authorship_tag": "ABX9TyPpVVVyFjbSmh5eGILV+UdT"
    },
    "kernelspec": {
      "name": "python3",
      "display_name": "Python 3"
    },
    "language_info": {
      "name": "python"
    }
  },
  "cells": [
    {
      "cell_type": "markdown",
      "metadata": {
        "id": "HyTG2te_N4IG"
      },
      "source": [
        "**The 2 Sum**\n",
        "\n",
        "Given an array of integers nums and an integer target, return indices of the two numbers such that they add up to target.\n",
        "\n",
        "You may assume that each input would have exactly one solution, and you may not use the same element twice.\n",
        "\n",
        "You can return the answer in any order.\n",
        "\n",
        " \n",
        "\n",
        "Example 1:\n",
        "\n",
        "Input: nums = [2,7,11,15], target = 9\n",
        "Output: [0,1]\n",
        "Output: Because nums[0] + nums[1] == 9, we return [0, 1].\n",
        "Example 2:\n",
        "\n",
        "Input: nums = [3,2,4], target = 6\n",
        "Output: [1,2]\n",
        "Example 3:\n",
        "\n",
        "Input: nums = [3,3], target = 6\n",
        "Output: [0,1]\n",
        " \n",
        "\n",
        "Constraints:\n",
        "\n",
        "2 <= nums.length <= 104\n",
        "-109 <= nums[i] <= 109\n",
        "-109 <= target <= 109\n",
        "Only one valid answer exists.\n",
        " \n",
        "\n",
        "Follow-up: Can you come up with an algorithm that is less than O(n2) time complexity?"
      ]
    },
    {
      "cell_type": "code",
      "metadata": {
        "id": "fCDFjgI6z9J9"
      },
      "source": [
        "from typing import List\n",
        "class Solution:\n",
        "    def twoSum(self, nums: List[int], target: int) -> List[int]:\n",
        "\n",
        "        def indexOfPair(value):\n",
        "          if value[0]==value[1]:\n",
        "            temp1= nums.index(value[0])\n",
        "            temp2=nums.index(value[0],temp1+1)\n",
        "            return [temp1,temp2]\n",
        "          else:\n",
        "            return [nums.index(value[0]), nums.index(value[1])]\n",
        "        \n",
        "        def findPair(nums,target):\n",
        "                return [(i,target-i) for i in nums if target-i in nums]\n",
        "\n",
        "        def  Solutions(nums, target):\n",
        "\n",
        "            filtered_test=findPair(nums,target)\n",
        "            removed_dub=list(set([tuple(sorted(i)) for i in filtered_test]))\n",
        "            return indexOfPair(removed_dub[0])\n",
        "\n",
        "        return Solutions(nums, target)\n",
        "\n",
        "\n",
        "       \n",
        "        "
      ],
      "execution_count": null,
      "outputs": []
    },
    {
      "cell_type": "code",
      "metadata": {
        "colab": {
          "base_uri": "https://localhost:8080/"
        },
        "id": "e2a_WQ_9EkIL",
        "outputId": "be1b969a-10d6-450c-c97c-730d9c04537f"
      },
      "source": [
        "Solution().twoSum([3,2,3],6)"
      ],
      "execution_count": null,
      "outputs": [
        {
          "output_type": "execute_result",
          "data": {
            "text/plain": [
              "[0, 2]"
            ]
          },
          "metadata": {},
          "execution_count": 52
        }
      ]
    },
    {
      "cell_type": "markdown",
      "metadata": {
        "id": "HyyH4PFR1C2n"
      },
      "source": [
        "**Valid Parameters**\n",
        "\n",
        "Given a string s containing just the characters '(', ')', '{', '}', '[' and ']', determine if the input string is valid.\n",
        "\n",
        "An input string is valid if:\n",
        "\n",
        "Open brackets must be closed by the same type of brackets.\n",
        "Open brackets must be closed in the correct order.\n",
        " \n",
        "\n",
        "Example 1:\n",
        "\n",
        "Input: s = \"()\"\n",
        "Output: true\n",
        "Example 2:\n",
        "\n",
        "Input: s = \"()[]{}\"\n",
        "Output: true\n",
        "Example 3:\n",
        "\n",
        "Input: s = \"(]\"\n",
        "Output: false\n",
        "Example 4:\n",
        "\n",
        "Input: s = \"([)]\"\n",
        "Output: false\n",
        "Example 5:\n",
        "\n",
        "Input: s = \"{[]}\"\n",
        "Output: true\n",
        " \n",
        "\n",
        "Constraints:\n",
        "\n",
        "1 <= s.length <= 104\n",
        "s consists of parentheses only '()[]{}'."
      ]
    },
    {
      "cell_type": "code",
      "metadata": {
        "id": "Fp6VCP4I2D1O"
      },
      "source": [
        "#Final Solution \n",
        "class Solution:\n",
        "    def isValid(self, s: str) -> bool:\n",
        "        def matchCondition(value):\n",
        "          return (s[value]=='(' and s[value+1]==')') or (s[value]=='[' and s[value+1]==']') or ( s[value]=='{' and s[value+1]=='}')\n",
        "    \n",
        "        s=list(s)\n",
        "        l=len(s)\n",
        "        i=0\n",
        "        count=0\n",
        "        if len(s)==1:\n",
        "          return False\n",
        "\n",
        "        while i<=len(s)-2:\n",
        "\n",
        "          if matchCondition(i):\n",
        "            count+=1\n",
        "            del s[i:i+2]\n",
        "            i=0\n",
        "            continue\n",
        "          elif matchCondition(i)==False and len(s)==2:\n",
        "            return False\n",
        "          i+=1\n",
        "        if count==l/2:\n",
        "          return True\n",
        "\n"
      ],
      "execution_count": 71,
      "outputs": []
    },
    {
      "cell_type": "code",
      "metadata": {
        "colab": {
          "base_uri": "https://localhost:8080/"
        },
        "id": "N3EfDZp9k1MT",
        "outputId": "8fdc2744-c597-4932-9d5b-c284b684ba44"
      },
      "source": [
        "Solution().isValid(\"()\")"
      ],
      "execution_count": 72,
      "outputs": [
        {
          "output_type": "execute_result",
          "data": {
            "text/plain": [
              "True"
            ]
          },
          "metadata": {},
          "execution_count": 72
        }
      ]
    },
    {
      "cell_type": "code",
      "metadata": {
        "id": "iVlPE1-iotzP"
      },
      "source": [
        ""
      ],
      "execution_count": null,
      "outputs": []
    }
  ]
}