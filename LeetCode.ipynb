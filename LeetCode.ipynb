{
  "nbformat": 4,
  "nbformat_minor": 0,
  "metadata": {
    "colab": {
      "name": "LeetCode.ipynb",
      "provenance": [],
      "collapsed_sections": [],
      "authorship_tag": "ABX9TyNodrPzdPMl9YshCRMbJba6",
      "include_colab_link": true
    },
    "kernelspec": {
      "name": "python3",
      "display_name": "Python 3"
    },
    "language_info": {
      "name": "python"
    }
  },
  "cells": [
    {
      "cell_type": "markdown",
      "metadata": {
        "id": "view-in-github",
        "colab_type": "text"
      },
      "source": [
        "<a href=\"https://colab.research.google.com/github/hamzamujeebk/Leet_Code/blob/main/LeetCode.ipynb\" target=\"_parent\"><img src=\"https://colab.research.google.com/assets/colab-badge.svg\" alt=\"Open In Colab\"/></a>"
      ]
    },
    {
      "cell_type": "markdown",
      "metadata": {
        "id": "HyTG2te_N4IG"
      },
      "source": [
        "**The 2 Sum**\n",
        "\n",
        "Given an array of integers nums and an integer target, return indices of the two numbers such that they add up to target.\n",
        "\n",
        "You may assume that each input would have exactly one solution, and you may not use the same element twice.\n",
        "\n",
        "You can return the answer in any order.\n",
        "\n",
        " \n",
        "\n",
        "Example 1:\n",
        "\n",
        "Input: nums = [2,7,11,15], target = 9\n",
        "Output: [0,1]\n",
        "Output: Because nums[0] + nums[1] == 9, we return [0, 1].\n",
        "Example 2:\n",
        "\n",
        "Input: nums = [3,2,4], target = 6\n",
        "Output: [1,2]\n",
        "Example 3:\n",
        "\n",
        "Input: nums = [3,3], target = 6\n",
        "Output: [0,1]\n",
        " \n",
        "\n",
        "Constraints:\n",
        "\n",
        "2 <= nums.length <= 104\n",
        "-109 <= nums[i] <= 109\n",
        "-109 <= target <= 109\n",
        "Only one valid answer exists.\n",
        " \n",
        "\n",
        "Follow-up: Can you come up with an algorithm that is less than O(n2) time complexity?"
      ]
    },
    {
      "cell_type": "code",
      "metadata": {
        "id": "fCDFjgI6z9J9"
      },
      "source": [
        "from typing import List\n",
        "class Solution:\n",
        "    def twoSum(self, nums: List[int], target: int) -> List[int]:\n",
        "\n",
        "        def indexOfPair(value):\n",
        "          if value[0]==value[1]:\n",
        "            temp1= nums.index(value[0])\n",
        "            temp2=nums.index(value[0],temp1+1)\n",
        "            return [temp1,temp2]\n",
        "          else:\n",
        "            return [nums.index(value[0]), nums.index(value[1])]\n",
        "        \n",
        "        def findPair(nums,target):\n",
        "                return [(i,target-i) for i in nums if target-i in nums]\n",
        "\n",
        "        def  Solutions(nums, target):\n",
        "\n",
        "            filtered_test=findPair(nums,target)\n",
        "            removed_dub=list(set([tuple(sorted(i)) for i in filtered_test]))\n",
        "            return indexOfPair(removed_dub[0])\n",
        "\n",
        "        return Solutions(nums, target)\n",
        "\n",
        "\n",
        "       \n",
        "        "
      ],
      "execution_count": null,
      "outputs": []
    },
    {
      "cell_type": "code",
      "metadata": {
        "colab": {
          "base_uri": "https://localhost:8080/"
        },
        "id": "e2a_WQ_9EkIL",
        "outputId": "be1b969a-10d6-450c-c97c-730d9c04537f"
      },
      "source": [
        "Solution().twoSum([3,2,3],6)"
      ],
      "execution_count": null,
      "outputs": [
        {
          "output_type": "execute_result",
          "data": {
            "text/plain": [
              "[0, 2]"
            ]
          },
          "metadata": {},
          "execution_count": 52
        }
      ]
    },
    {
      "cell_type": "markdown",
      "metadata": {
        "id": "HyyH4PFR1C2n"
      },
      "source": [
        "**Valid Parameters**\n",
        "\n",
        "Given a string s containing just the characters '(', ')', '{', '}', '[' and ']', determine if the input string is valid.\n",
        "\n",
        "An input string is valid if:\n",
        "\n",
        "Open brackets must be closed by the same type of brackets.\n",
        "Open brackets must be closed in the correct order.\n",
        " \n",
        "\n",
        "Example 1:\n",
        "\n",
        "Input: s = \"()\"\n",
        "Output: true\n",
        "Example 2:\n",
        "\n",
        "Input: s = \"()[]{}\"\n",
        "Output: true\n",
        "Example 3:\n",
        "\n",
        "Input: s = \"(]\"\n",
        "Output: false\n",
        "Example 4:\n",
        "\n",
        "Input: s = \"([)]\"\n",
        "Output: false\n",
        "Example 5:\n",
        "\n",
        "Input: s = \"{[]}\"\n",
        "Output: true\n",
        " \n",
        "\n",
        "Constraints:\n",
        "\n",
        "1 <= s.length <= 104\n",
        "s consists of parentheses only '()[]{}'."
      ]
    },
    {
      "cell_type": "code",
      "metadata": {
        "id": "Fp6VCP4I2D1O"
      },
      "source": [
        "#Final Solution \n",
        "class Solution:\n",
        "    def isValid(self, s: str) -> bool:\n",
        "        def matchCondition(value):\n",
        "          return (s[value]=='(' and s[value+1]==')') or (s[value]=='[' and s[value+1]==']') or ( s[value]=='{' and s[value+1]=='}')\n",
        "    \n",
        "        s=list(s)\n",
        "        l=len(s)\n",
        "        i=0\n",
        "        count=0\n",
        "        if len(s)==1:\n",
        "          return False\n",
        "\n",
        "        while i<=len(s)-2:\n",
        "\n",
        "          if matchCondition(i):\n",
        "            count+=1\n",
        "            del s[i:i+2]\n",
        "            i=0\n",
        "            continue\n",
        "          elif matchCondition(i)==False and len(s)==2:\n",
        "            return False\n",
        "          i+=1\n",
        "        if count==l/2:\n",
        "          return True\n",
        "\n"
      ],
      "execution_count": null,
      "outputs": []
    },
    {
      "cell_type": "code",
      "metadata": {
        "colab": {
          "base_uri": "https://localhost:8080/"
        },
        "id": "N3EfDZp9k1MT",
        "outputId": "8fdc2744-c597-4932-9d5b-c284b684ba44"
      },
      "source": [
        "Solution().isValid(\"()\")"
      ],
      "execution_count": null,
      "outputs": [
        {
          "output_type": "execute_result",
          "data": {
            "text/plain": [
              "True"
            ]
          },
          "metadata": {},
          "execution_count": 72
        }
      ]
    },
    {
      "cell_type": "markdown",
      "metadata": {
        "id": "tGJsrsrgZ3-T"
      },
      "source": [
        "** 3. Merge two sorted Linked list **\n",
        "\n",
        "Merge two sorted linked lists and return it as a sorted list. The list should be made by splicing together the nodes of the first two lists.\n",
        "\n",
        " \n",
        "\n",
        "Example 1:\n",
        "\n",
        "\n",
        "Input: l1 = [1,2,4], l2 = [1,3,4]\n",
        "Output: [1,1,2,3,4,4]\n",
        "Example 2:\n",
        "\n",
        "Input: l1 = [], l2 = []\n",
        "Output: []\n",
        "Example 3:\n",
        "\n",
        "Input: l1 = [], l2 = [0]\n",
        "Output: [0]\n",
        " \n",
        "\n",
        "Constraints:\n",
        "\n",
        "The number of nodes in both lists is in the range [0, 50].\n",
        "-100 <= Node.val <= 100\n",
        "Both l1 and l2 are sorted in non-decreasing order."
      ]
    },
    {
      "cell_type": "code",
      "metadata": {
        "colab": {
          "base_uri": "https://localhost:8080/"
        },
        "id": "HGT0GCNDm_kQ",
        "outputId": "74b8d273-c966-4e2f-8f09-b0298f5646aa"
      },
      "source": [
        "lambda x: 5 if 5 >2 else 8"
      ],
      "execution_count": null,
      "outputs": [
        {
          "output_type": "execute_result",
          "data": {
            "text/plain": [
              "<function __main__.<lambda>>"
            ]
          },
          "metadata": {},
          "execution_count": 136
        }
      ]
    },
    {
      "cell_type": "code",
      "metadata": {
        "id": "RiirdGntRnGV"
      },
      "source": [
        "# Definition for singly-linked list.\n",
        "class ListNode:\n",
        "    def __init__(self, val=0, next=None):\n",
        "        self.val = val\n",
        "        self.next = next\n",
        "        \n",
        "class Solution:\n",
        "    def mergeTwoLists(self, l1: ListNode, l2: ListNode) -> ListNode:\n",
        "\n",
        "        l3=ListNode(None) \n",
        "\n",
        "        def length(llOne):\n",
        "            currentNode=llOne\n",
        "            count=0\n",
        "            while currentNode is not None:\n",
        "                count+=1\n",
        "                currentNode=currentNode.next\n",
        "            return count\n",
        "\n",
        "        def elementAt(index,LinkedList):\n",
        "\n",
        "            if index>=length(LinkedList) or index<0:\n",
        "              return 'Index out of Range'\n",
        "            else:\n",
        "              if index==0:\n",
        "                return LinkedList.val\n",
        "              currentNode=LinkedList\n",
        "              for i in range(index):\n",
        "                currentNode=currentNode.next\n",
        "              return currentNode.val\n",
        "\n",
        "        def removef(LinkedList):\n",
        "             return LinkedList.next\n",
        "\n",
        "        def insert(LinkedList,value):\n",
        "            if LinkedList.val is None:\n",
        "              LinkedList.val=value\n",
        "              return \n",
        "            currentNode=LinkedList\n",
        "            while True:\n",
        "              if currentNode.next is  None:\n",
        "                currentNode.next=ListNode(value)\n",
        "                break\n",
        "              currentNode=currentNode.next\n",
        "\n",
        "\n",
        "        def printLinkedList(LinkedList):\n",
        "            currentNode=LinkedList\n",
        "            while currentNode is not None:\n",
        "              print(currentNode.val , end='-->')\n",
        "              currentNode=currentNode.next\n",
        "            print('None')\n",
        "\n",
        "        def lengthIsEqual(l1,l2,l3):\n",
        "            l=length(l1)\n",
        "            for i in range(l):\n",
        "                if elementAt(0,l1)<=elementAt(0,l2):\n",
        "                    insert(l3,elementAt(0,l1))      \n",
        "                    l1=removef(l1)\n",
        "                    insert(l3,elementAt(0,l2))\n",
        "                    l2=removef(l2)\n",
        "                else:\n",
        "                    insert(l3,elementAt(0,l2))\n",
        "                    l2=removef(l2)\n",
        "                    insert(l3,elementAt(0,l1))\n",
        "                    l1=removef(l1)\n",
        "            return l3  \n",
        "\n",
        "        def lengthIsUnequal(l1,l2):\n",
        "          currentNode=l2\n",
        "          l=length(l1)\n",
        "          for i in range(l):\n",
        "            if elementAt(0,l1)<=currentNode.val:\n",
        "              node=ListNode(elementAt(0,l1),currentNode)\n",
        "              l1=removef(l1)\n",
        "              \n",
        "            else:\n",
        "              currentNode=l2\n",
        "              while elementAt(0,l1) > currentNode.next.val:\n",
        "                currentNode=currentNode.next\n",
        "                if currentNode.next==None:\n",
        "                  break\n",
        "              node=ListNode(elementAt(0,l1),currentNode.next)\n",
        "              currentNode.next=node\n",
        "              \n",
        "            return l2\n",
        "\n",
        "        \n",
        "        def main(l1,l2):\n",
        "\n",
        "            if l1 is None and l2 is None:\n",
        "                return ListNode('')\n",
        "\n",
        "            elif l1 is None or l2 is None:\n",
        "                a=lambda x, y: x if x is not None else y\n",
        "                return a(l1,l2)\n",
        "\n",
        "            elif length(l1)< length(l2):\n",
        "              return lengthIsUnequal(l1,l2)\n",
        "            elif length(l2) <length(l1):\n",
        "              return lengthIsUnequal(l2,l1)\n",
        "\n",
        "            elif length(l1)==length(l2):\n",
        "                return lengthIsEqual(l1,l2,l3)\n",
        "\n",
        "        def new_sol(l1,l2):\n",
        "          l3=ListNode()\n",
        "          while l1!= None and l2!=None:\n",
        "            if l1.val < l2.val:\n",
        "              l3=l1\n",
        "              l1=l1.next\n",
        "            elif l1.val==l2.val:\n",
        "              l3=l2\n",
        "              l3.next=l1\n",
        "              l2=l2.next\n",
        "              l1=l1.next\n",
        "            else:\n",
        "              l3=l2\n",
        "              l2=le.next\n",
        "\n",
        "          return l3\n",
        "\n",
        "\n",
        "\n",
        "                          \n",
        "\n",
        "        #return main(l1,l2)\n",
        "        #print(elementAt(0,l1))\n",
        "        #print(l2.next.val)\n",
        "        \n",
        "        return new_sol(l1,l2)\n",
        "       \n",
        "\n",
        "        \n",
        "        \n",
        "    "
      ],
      "execution_count": null,
      "outputs": []
    },
    {
      "cell_type": "code",
      "metadata": {
        "id": "0Ta6gQBi0OjM"
      },
      "source": [
        "b=ListNode(val=2, next=ListNode(val=3,next=ListNode(val=5, next=None)))\n",
        "a=ListNode(val=5, next=ListNode(val=7, next=None))\n",
        "\n"
      ],
      "execution_count": null,
      "outputs": []
    },
    {
      "cell_type": "code",
      "metadata": {
        "colab": {
          "base_uri": "https://localhost:8080/"
        },
        "id": "hPYEaDL63cRs",
        "outputId": "5f75673a-5d39-4ca6-dee0-1fc0991748c3"
      },
      "source": [
        "obj=Solution()\n",
        "obj.mergeTwoLists(a,b)"
      ],
      "execution_count": null,
      "outputs": [
        {
          "output_type": "stream",
          "name": "stdout",
          "text": [
            "5\n",
            "2\n"
          ]
        }
      ]
    },
    {
      "cell_type": "code",
      "metadata": {
        "colab": {
          "base_uri": "https://localhost:8080/"
        },
        "id": "QIPNM_PYKViE",
        "outputId": "67121023-2fb5-4dac-e017-cf65c31905ed"
      },
      "source": [
        "def printLinkedList(LinkedList):\n",
        "  currentNode=LinkedList\n",
        "  while currentNode is not None:\n",
        "    print(currentNode.val , end='-->')\n",
        "    currentNode=currentNode.next\n",
        "  print('None')\n",
        "\n",
        "obj=Solution()\n",
        "output=obj.mergeTwoLists(a,b)\n",
        "printLinkedList(output)"
      ],
      "execution_count": null,
      "outputs": [
        {
          "output_type": "stream",
          "name": "stdout",
          "text": [
            "2-->3-->5-->5-->None\n"
          ]
        }
      ]
    },
    {
      "cell_type": "code",
      "metadata": {
        "id": "iVlPE1-iotzP",
        "colab": {
          "base_uri": "https://localhost:8080/"
        },
        "outputId": "871dcfd0-2aaf-4a46-f6ec-87117f3f6a5e"
      },
      "source": [
        "''' As the Question is related to LinkedList I'm brushing my linked list understanding the first \n",
        "couple of code blocks '''\n",
        "class Node:\n",
        "  def __init__(self,value, next=None):\n",
        "    self.value=value\n",
        "    self.next=next\n",
        "\n",
        "# 3-->7-->10-->23\n",
        "\n",
        "node1=Node('3')\n",
        "node2=Node('7')\n",
        "node3=Node('10')\n",
        "node4=Node('23')\n",
        "\n",
        "node1.next=node2\n",
        "node2.next=node3\n",
        "node3.next=node4\n",
        "\n",
        "currentNode=node1\n",
        "#print(node1.value)\n",
        "while True:\n",
        "  print(currentNode.value,end='-->')\n",
        "  if currentNode.next is None:\n",
        "    print('None')\n",
        "    break\n",
        "  currentNode=currentNode.next"
      ],
      "execution_count": null,
      "outputs": [
        {
          "output_type": "stream",
          "name": "stdout",
          "text": [
            "3-->7-->10-->23-->None\n"
          ]
        }
      ]
    },
    {
      "cell_type": "code",
      "metadata": {
        "id": "scObNwmcyYBf"
      },
      "source": [
        "class Node:\n",
        "  def __init__(self,value, next=None):\n",
        "    self.value=value\n",
        "    self.next=next\n",
        "\n",
        "class ListNode:\n",
        "\n",
        "  def __init__(self, head=None):\n",
        "    self.head=head\n",
        "\n",
        "  def insert(self, value):\n",
        "    node=Node(value)\n",
        "    if self.head is None:\n",
        "      self.head=node\n",
        "      return\n",
        "    currentNode=self.head\n",
        "    while True:\n",
        "      if currentNode.next is None:\n",
        "        currentNode.next=node\n",
        "        break\n",
        "      currentNode=currentNode.next\n",
        "  \n",
        "  def length(self,llOne):\n",
        "    currentNode=llOne\n",
        "    count=0\n",
        "    while currentNode is not None:\n",
        "      count+=1\n",
        "      currentNode=currentNode.next\n",
        "    return count\n",
        "\n",
        "  def valueAtIndex(self,index):\n",
        "\n",
        "    if index>=self.length() or index<0:\n",
        "      return 'Index out of Range'\n",
        "    else:\n",
        "      \n",
        "      if index==0:\n",
        "        return self.head.value\n",
        "      currentNode=self.head \n",
        "      for i in range(index):\n",
        "        currentNode=currentNode.next\n",
        "      print(currentNode.value)\n",
        " \n",
        "  def insertAt(self, index, value):\n",
        "\n",
        "    if self.head is None and index==0:\n",
        "      self.head =Node(value)\n",
        "    elif self.head is not None and index==0:\n",
        "      currentNode=self.head\n",
        "      self.head=Node(value,currentNode)\n",
        "\n",
        "    elif self.length()<index or index<0:\n",
        "      return 'Index doesn\\'t exist'\n",
        "    else:\n",
        "      currentNode=self.head\n",
        "      for i in range(index-1):\n",
        "        currentNode=currentNode.next\n",
        "\n",
        "      temp=currentNode.next\n",
        "      currentNode.next=Node(value,temp)\n",
        "      #print(currentNode.next.value)\n",
        "\n",
        "        \n",
        "\n",
        "\n",
        "  def printLinkedList(self):\n",
        "    currentNode=self.head\n",
        "    while currentNode is not None:\n",
        "      print(currentNode.value , end='-->')\n",
        "      currentNode=currentNode.next\n",
        "    print('None')\n",
        "\n"
      ],
      "execution_count": null,
      "outputs": []
    },
    {
      "cell_type": "code",
      "metadata": {
        "colab": {
          "base_uri": "https://localhost:8080/"
        },
        "id": "NxKoCk2O3EFP",
        "outputId": "93117a8c-0756-469b-cf5d-04f6c7a32bbf"
      },
      "source": [
        "ll=ListNode()\n",
        "ll.printLinkedList()\n",
        "print(ll.length())\n",
        "ll.insert(2)\n",
        "ll.insert(4)\n",
        "ll.insert(13)\n",
        "ll.insert(88)\n",
        "ll.insert(7)\n",
        "ll.insert(3)\n",
        "ll.printLinkedList()\n",
        "ll.insertAt(0,10)\n",
        "ll.printLinkedList()\n",
        "ll.valueAtIndex(3)"
      ],
      "execution_count": null,
      "outputs": [
        {
          "output_type": "stream",
          "name": "stdout",
          "text": [
            "None\n",
            "0\n",
            "2-->4-->13-->88-->7-->3-->None\n",
            "10-->2-->4-->13-->88-->7-->3-->None\n",
            "13\n"
          ]
        }
      ]
    },
    {
      "cell_type": "markdown",
      "metadata": {
        "id": "fg821JGbW1py"
      },
      "source": [
        "** 4 Search Insert Position **\n",
        "\n",
        "Given a sorted array of distinct integers and a target value, return the index if the target is found. If not, return the index where it would be if it were inserted in order.\n",
        "\n",
        "You must write an algorithm with O(log n) runtime complexity.\n",
        "\n",
        " \n",
        "\n",
        "Example 1:\n",
        "\n",
        "Input: nums = [1,3,5,6], target = 5\n",
        "Output: 2\n",
        "Example 2:\n",
        "\n",
        "Input: nums = [1,3,5,6], target = 2\n",
        "Output: 1\n",
        "Example 3:\n",
        "\n",
        "Input: nums = [1,3,5,6], target = 7\n",
        "Output: 4\n",
        "Example 4:\n",
        "\n",
        "Input: nums = [1,3,5,6], target = 0\n",
        "Output: 0\n",
        "Example 5:\n",
        "\n",
        "Input: nums = [1], target = 0\n",
        "Output: 0\n",
        " \n",
        "\n",
        "Constraints:\n",
        "\n",
        "1 <= nums.length <= 104\n",
        "-104 <= nums[i] <= 104\n",
        "nums contains distinct values sorted in ascending order.\n",
        "-104 <= target <= 104"
      ]
    },
    {
      "cell_type": "code",
      "metadata": {
        "id": "Z9IwvAChXOvP"
      },
      "source": [
        "L=[1,3,5,6]\n",
        "target=5"
      ],
      "execution_count": 8,
      "outputs": []
    },
    {
      "cell_type": "code",
      "metadata": {
        "id": "D5WESakD3Kaa"
      },
      "source": [
        "class Solution:\n",
        "    def searchInsert(self, nums: List[int], target: int) -> int:\n",
        "\n",
        "      if target in nums:\n",
        "        return nums.index(target)\n",
        "      else:\n",
        "        nums.append(target)\n",
        "        nums.sort()\n",
        "        return nums.index(target)\n",
        "#        print(target in L)\n",
        "        #print(type(target))    \n",
        "      "
      ],
      "execution_count": 5,
      "outputs": []
    },
    {
      "cell_type": "code",
      "metadata": {
        "id": "3B44kfxY7Ov4"
      },
      "source": [
        "Sol=Solution()\n",
        "Sol.searchInsert(L,target)"
      ],
      "execution_count": 9,
      "outputs": []
    },
    {
      "cell_type": "markdown",
      "metadata": {
        "id": "t7tYp6Ewk6xY"
      },
      "source": [
        "** 4 Maximum Subarray **\n",
        "Given an integer array nums, find the contiguous subarray (containing at least one number) which has the largest sum and return its sum.\n",
        "\n",
        "A subarray is a contiguous part of an array.\n",
        "\n",
        " \n",
        "\n",
        "Example 1:\n",
        "\n",
        "Input: nums = [-2,1,-3,4,-1,2,1,-5,4]\n",
        "Output: 6\n",
        "Explanation: [4,-1,2,1] has the largest sum = 6.\n",
        "Example 2:\n",
        "\n",
        "Input: nums = [1]\n",
        "Output: 1\n",
        "Example 3:\n",
        "\n",
        "Input: nums = [5,4,-1,7,8]\n",
        "Output: 23\n",
        " \n",
        "\n",
        "Constraints:\n",
        "\n",
        "1 <= nums.length <= 105\n",
        "-104 <= nums[i] <= 104\n",
        " \n",
        "\n"
      ]
    },
    {
      "cell_type": "code",
      "metadata": {
        "id": "2Td6ilm3Dx-M",
        "colab": {
          "base_uri": "https://localhost:8080/"
        },
        "outputId": "59d9c073-ba57-4d1f-b2db-8d707012e66f"
      },
      "source": [
        "nums =[-2,1,-3,4,-1,2,1,-5,4]\n",
        "max(nums)\n",
        "\n"
      ],
      "execution_count": 7,
      "outputs": [
        {
          "output_type": "execute_result",
          "data": {
            "text/plain": [
              "4"
            ]
          },
          "metadata": {},
          "execution_count": 7
        }
      ]
    },
    {
      "cell_type": "code",
      "metadata": {
        "id": "rnFe_b_pXl48"
      },
      "source": [
        "class Solution:\n",
        "    def maxSubArray(self, nums: List[int]) -> int:\n",
        "        temp=[]\n",
        "        if len(nums)==1:\n",
        "          return nums[0]\n",
        "        return max([sum(nums[i:j]) for i in range(len(nums)+1)  for j in range(i,len(nums)+1) if nums[i:j]!=[]])\n",
        "            \n",
        "#limits exceed in this solution\n"
      ],
      "execution_count": 106,
      "outputs": []
    },
    {
      "cell_type": "code",
      "metadata": {
        "colab": {
          "base_uri": "https://localhost:8080/"
        },
        "id": "YZg_NK5gnGYt",
        "outputId": "331ab664-3551-421d-c142-83cca64609c4"
      },
      "source": [
        "obj=Solution()\n",
        "a=obj.maxSubArray(nums)\n",
        "\n",
        "a"
      ],
      "execution_count": 107,
      "outputs": [
        {
          "output_type": "execute_result",
          "data": {
            "text/plain": [
              "6"
            ]
          },
          "metadata": {},
          "execution_count": 107
        }
      ]
    },
    {
      "cell_type": "code",
      "metadata": {
        "id": "79fCer33nL7U"
      },
      "source": [
        "from typing import List\n",
        "class Solution:\n",
        "    def maxSubArray(self, nums: List[int]) -> int:\n",
        "        temp=[]\n",
        "        if len(nums)==1:\n",
        "          return nums[0]\n",
        "        for i in range(len(nums)):\n",
        "            for j in range(i+1,len(nums)+1):\n",
        "              if nums[i:j]!=[]:\n",
        "                temp.append(sum(nums[i:]))\n",
        "\n",
        "        return max(temp)"
      ],
      "execution_count": 8,
      "outputs": []
    },
    {
      "cell_type": "code",
      "metadata": {
        "colab": {
          "base_uri": "https://localhost:8080/"
        },
        "id": "Fk_-K_MzozCt",
        "outputId": "08a2f017-bbcd-449f-eea3-c9adf4b81aad"
      },
      "source": [
        "obj=Solution()\n",
        "a=obj.maxSubArray(nums)\n",
        "\n",
        "a"
      ],
      "execution_count": 9,
      "outputs": [
        {
          "output_type": "execute_result",
          "data": {
            "text/plain": [
              "5"
            ]
          },
          "metadata": {},
          "execution_count": 9
        }
      ]
    },
    {
      "cell_type": "code",
      "metadata": {
        "colab": {
          "base_uri": "https://localhost:8080/"
        },
        "id": "ahffcD0_MQBg",
        "outputId": "74ae3653-f9e5-41b4-946b-945dbb429a10"
      },
      "source": [
        "a=[1,2,3,4,5,6]\n",
        "a[5:6]"
      ],
      "execution_count": 21,
      "outputs": [
        {
          "output_type": "execute_result",
          "data": {
            "text/plain": [
              "[6]"
            ]
          },
          "metadata": {},
          "execution_count": 21
        }
      ]
    },
    {
      "cell_type": "code",
      "metadata": {
        "id": "kdMO47lmM48i"
      },
      "source": [
        ""
      ],
      "execution_count": null,
      "outputs": []
    }
  ]
}