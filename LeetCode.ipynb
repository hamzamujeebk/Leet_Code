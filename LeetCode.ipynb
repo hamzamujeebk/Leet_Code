{
  "nbformat": 4,
  "nbformat_minor": 0,
  "metadata": {
    "colab": {
      "name": "LeetCode.ipynb",
      "provenance": [],
      "collapsed_sections": [],
      "authorship_tag": "ABX9TyP9etlTbVdgNGbYZTIf8nqQ"
    },
    "kernelspec": {
      "name": "python3",
      "display_name": "Python 3"
    },
    "language_info": {
      "name": "python"
    }
  },
  "cells": [
    {
      "cell_type": "markdown",
      "metadata": {
        "id": "HyTG2te_N4IG"
      },
      "source": [
        "**The 2 Sum**\n",
        "\n",
        "Given an array of integers nums and an integer target, return indices of the two numbers such that they add up to target.\n",
        "\n",
        "You may assume that each input would have exactly one solution, and you may not use the same element twice.\n",
        "\n",
        "You can return the answer in any order.\n",
        "\n",
        " \n",
        "\n",
        "Example 1:\n",
        "\n",
        "Input: nums = [2,7,11,15], target = 9\n",
        "Output: [0,1]\n",
        "Output: Because nums[0] + nums[1] == 9, we return [0, 1].\n",
        "Example 2:\n",
        "\n",
        "Input: nums = [3,2,4], target = 6\n",
        "Output: [1,2]\n",
        "Example 3:\n",
        "\n",
        "Input: nums = [3,3], target = 6\n",
        "Output: [0,1]\n",
        " \n",
        "\n",
        "Constraints:\n",
        "\n",
        "2 <= nums.length <= 104\n",
        "-109 <= nums[i] <= 109\n",
        "-109 <= target <= 109\n",
        "Only one valid answer exists.\n",
        " \n",
        "\n",
        "Follow-up: Can you come up with an algorithm that is less than O(n2) time complexity?"
      ]
    },
    {
      "cell_type": "code",
      "metadata": {
        "id": "fCDFjgI6z9J9"
      },
      "source": [
        "from typing import List\n",
        "class Solution:\n",
        "    def twoSum(self, nums: List[int], target: int) -> List[int]:\n",
        "\n",
        "        def indexOfPair(value):\n",
        "          if value[0]==value[1]:\n",
        "            temp1= nums.index(value[0])\n",
        "            temp2=nums.index(value[0],temp1+1)\n",
        "            return [temp1,temp2]\n",
        "          else:\n",
        "            return [nums.index(value[0]), nums.index(value[1])]\n",
        "        \n",
        "        def findPair(nums,target):\n",
        "                return [(i,target-i) for i in nums if target-i in nums]\n",
        "\n",
        "        def  Solutions(nums, target):\n",
        "\n",
        "            filtered_test=findPair(nums,target)\n",
        "            removed_dub=list(set([tuple(sorted(i)) for i in filtered_test]))\n",
        "            return indexOfPair(removed_dub[0])\n",
        "\n",
        "        return Solutions(nums, target)\n",
        "\n",
        "\n",
        "       \n",
        "        "
      ],
      "execution_count": null,
      "outputs": []
    },
    {
      "cell_type": "code",
      "metadata": {
        "colab": {
          "base_uri": "https://localhost:8080/"
        },
        "id": "e2a_WQ_9EkIL",
        "outputId": "be1b969a-10d6-450c-c97c-730d9c04537f"
      },
      "source": [
        "Solution().twoSum([3,2,3],6)"
      ],
      "execution_count": null,
      "outputs": [
        {
          "output_type": "execute_result",
          "data": {
            "text/plain": [
              "[0, 2]"
            ]
          },
          "metadata": {},
          "execution_count": 52
        }
      ]
    },
    {
      "cell_type": "markdown",
      "metadata": {
        "id": "HyyH4PFR1C2n"
      },
      "source": [
        "**Valid Parameters**\n",
        "\n",
        "Given a string s containing just the characters '(', ')', '{', '}', '[' and ']', determine if the input string is valid.\n",
        "\n",
        "An input string is valid if:\n",
        "\n",
        "Open brackets must be closed by the same type of brackets.\n",
        "Open brackets must be closed in the correct order.\n",
        " \n",
        "\n",
        "Example 1:\n",
        "\n",
        "Input: s = \"()\"\n",
        "Output: true\n",
        "Example 2:\n",
        "\n",
        "Input: s = \"()[]{}\"\n",
        "Output: true\n",
        "Example 3:\n",
        "\n",
        "Input: s = \"(]\"\n",
        "Output: false\n",
        "Example 4:\n",
        "\n",
        "Input: s = \"([)]\"\n",
        "Output: false\n",
        "Example 5:\n",
        "\n",
        "Input: s = \"{[]}\"\n",
        "Output: true\n",
        " \n",
        "\n",
        "Constraints:\n",
        "\n",
        "1 <= s.length <= 104\n",
        "s consists of parentheses only '()[]{}'."
      ]
    },
    {
      "cell_type": "code",
      "metadata": {
        "id": "Fp6VCP4I2D1O"
      },
      "source": [
        "#Final Solution \n",
        "class Solution:\n",
        "    def isValid(self, s: str) -> bool:\n",
        "        def matchCondition(value):\n",
        "          return (s[value]=='(' and s[value+1]==')') or (s[value]=='[' and s[value+1]==']') or ( s[value]=='{' and s[value+1]=='}')\n",
        "    \n",
        "        s=list(s)\n",
        "        l=len(s)\n",
        "        i=0\n",
        "        count=0\n",
        "        if len(s)==1:\n",
        "          return False\n",
        "\n",
        "        while i<=len(s)-2:\n",
        "\n",
        "          if matchCondition(i):\n",
        "            count+=1\n",
        "            del s[i:i+2]\n",
        "            i=0\n",
        "            continue\n",
        "          elif matchCondition(i)==False and len(s)==2:\n",
        "            return False\n",
        "          i+=1\n",
        "        if count==l/2:\n",
        "          return True\n",
        "\n"
      ],
      "execution_count": null,
      "outputs": []
    },
    {
      "cell_type": "code",
      "metadata": {
        "colab": {
          "base_uri": "https://localhost:8080/"
        },
        "id": "N3EfDZp9k1MT",
        "outputId": "8fdc2744-c597-4932-9d5b-c284b684ba44"
      },
      "source": [
        "Solution().isValid(\"()\")"
      ],
      "execution_count": null,
      "outputs": [
        {
          "output_type": "execute_result",
          "data": {
            "text/plain": [
              "True"
            ]
          },
          "metadata": {},
          "execution_count": 72
        }
      ]
    },
    {
      "cell_type": "markdown",
      "metadata": {
        "id": "tGJsrsrgZ3-T"
      },
      "source": [
        "** 3. Merge two sorted Linked list **\n",
        "\n",
        "Merge two sorted linked lists and return it as a sorted list. The list should be made by splicing together the nodes of the first two lists.\n",
        "\n",
        " \n",
        "\n",
        "Example 1:\n",
        "\n",
        "\n",
        "Input: l1 = [1,2,4], l2 = [1,3,4]\n",
        "Output: [1,1,2,3,4,4]\n",
        "Example 2:\n",
        "\n",
        "Input: l1 = [], l2 = []\n",
        "Output: []\n",
        "Example 3:\n",
        "\n",
        "Input: l1 = [], l2 = [0]\n",
        "Output: [0]\n",
        " \n",
        "\n",
        "Constraints:\n",
        "\n",
        "The number of nodes in both lists is in the range [0, 50].\n",
        "-100 <= Node.val <= 100\n",
        "Both l1 and l2 are sorted in non-decreasing order."
      ]
    },
    {
      "cell_type": "code",
      "metadata": {
        "colab": {
          "base_uri": "https://localhost:8080/"
        },
        "id": "HGT0GCNDm_kQ",
        "outputId": "7a491853-9a61-466c-cb07-bc6504b04545"
      },
      "source": [
        "class Node:\n",
        "  def __init__(self,value=None, next=None):\n",
        "    self.value=value\n",
        "    self.next=next\n",
        "  \n",
        "def insert(LinkedList,value):\n",
        "  if LinkedList.val is None:\n",
        "    LinkedList.val=value\n",
        "    return\n",
        "  currentNode=LinkedList\n",
        "  while True:\n",
        "    if currentNode.next is  None:\n",
        "      currentNode.val=value\n",
        "      break\n",
        "    currentNode=currentNode.next\n",
        "l3=Node(None)\n",
        "l3 is None"
      ],
      "execution_count": 134,
      "outputs": [
        {
          "output_type": "execute_result",
          "data": {
            "text/plain": [
              "False"
            ]
          },
          "metadata": {},
          "execution_count": 134
        }
      ]
    },
    {
      "cell_type": "code",
      "metadata": {
        "colab": {
          "base_uri": "https://localhost:8080/",
          "height": 364
        },
        "id": "RiirdGntRnGV",
        "outputId": "0540520f-b2b3-406c-e309-8b56a441b067"
      },
      "source": [
        "# Definition for singly-linked list.\n",
        "class ListNode:\n",
        "    def __init__(self, val=0, next=None):\n",
        "        self.val = val\n",
        "        self.next = next\n",
        "        \n",
        "class Solution:\n",
        "    def mergeTwoLists(self, l1: Optional[ListNode], l2: Optional[ListNode]) -> Optional[ListNode]:\n",
        "        l3=ListNode(None) \n",
        "        def length(llOne):\n",
        "            currentNode=llOne\n",
        "            count=0\n",
        "            while currentNode is not None:\n",
        "                count+=1\n",
        "                currentNode=currentNode.next\n",
        "            return count\n",
        "        def elementAt(index,LinkedList):\n",
        "\n",
        "            if index>=length(LinkedList) or index<0:\n",
        "              return 'Index out of Range'\n",
        "            else:\n",
        "              if index==0:\n",
        "                return LinkedList.val\n",
        "              currentNode=LinkedList\n",
        "              for i in range(index):\n",
        "                currentNode=currentNode.next\n",
        "              return currentNode.val\n",
        "        def removef(LinkedList):\n",
        "             return LinkedList.next\n",
        "        def insert(LinkedList,value):\n",
        "            if LinkedList.val is None:\n",
        "              LinkedList.val=value\n",
        "              return \n",
        "            currentNode=LinkedList\n",
        "            while True:\n",
        "              if currentNode.next is  None:\n",
        "                currentNode.next=ListNode(value)\n",
        "                break\n",
        "              currentNode=currentNode.next\n",
        "        def printLinkedList(LinkedList):\n",
        "            currentNode=LinkedList\n",
        "            while currentNode is not None:\n",
        "              print(currentNode.val , end='-->')\n",
        "              currentNode=currentNode.next\n",
        "            print('None')\n",
        "\n",
        "\n",
        "\n",
        "\n",
        "\n",
        "        def main(l1,l2):\n",
        "            \n",
        "            if length(l1)==length(l2):\n",
        "                l=length(l1)\n",
        "                for i in range(l):\n",
        "                    if elementAt(0,l1)<=elementAt(0,l2):\n",
        "                        insert(l3,elementAt(0,l1))      \n",
        "                        l1=removef(l1)\n",
        "                        insert(l3,elementAt(0,l2))\n",
        "                        l2=removef(l2)\n",
        "\n",
        "                    else:\n",
        "                        insert(l3,elementAt(0,l2))\n",
        "                        l2=remove(l2)\n",
        "                        insert(l3,elementAt(0,l1))\n",
        "                        l1=remove(l1)\n",
        "                    return l3            \n",
        "\n",
        "                else:\n",
        "                    return 'Length is uneuqal'\n",
        "        \n",
        "        return main(l1,l2)\n",
        "       \n",
        "\n",
        "        \n",
        "        \n",
        "        \n",
        "        \n"
      ],
      "execution_count": 125,
      "outputs": [
        {
          "output_type": "error",
          "ename": "ModuleNotFoundError",
          "evalue": "ignored",
          "traceback": [
            "\u001b[0;31m---------------------------------------------------------------------------\u001b[0m",
            "\u001b[0;31mModuleNotFoundError\u001b[0m                       Traceback (most recent call last)",
            "\u001b[0;32m<ipython-input-125-aba248620d6f>\u001b[0m in \u001b[0;36m<module>\u001b[0;34m()\u001b[0m\n\u001b[1;32m      1\u001b[0m \u001b[0;31m# We need a delete at 0 and insert at 0 function to solve this problem\u001b[0m\u001b[0;34m\u001b[0m\u001b[0;34m\u001b[0m\u001b[0;34m\u001b[0m\u001b[0m\n\u001b[0;32m----> 2\u001b[0;31m \u001b[0;32mimport\u001b[0m \u001b[0mtyping\u001b[0m\u001b[0;34m.\u001b[0m\u001b[0mOptional\u001b[0m\u001b[0;34m\u001b[0m\u001b[0;34m\u001b[0m\u001b[0m\n\u001b[0m\u001b[1;32m      3\u001b[0m \u001b[0;32mclass\u001b[0m \u001b[0mNode\u001b[0m\u001b[0;34m:\u001b[0m\u001b[0;34m\u001b[0m\u001b[0;34m\u001b[0m\u001b[0m\n\u001b[1;32m      4\u001b[0m   \u001b[0;32mdef\u001b[0m \u001b[0m__init__\u001b[0m\u001b[0;34m(\u001b[0m\u001b[0mself\u001b[0m\u001b[0;34m,\u001b[0m\u001b[0mvalue\u001b[0m\u001b[0;34m,\u001b[0m \u001b[0mnext\u001b[0m\u001b[0;34m=\u001b[0m\u001b[0;32mNone\u001b[0m\u001b[0;34m)\u001b[0m\u001b[0;34m:\u001b[0m\u001b[0;34m\u001b[0m\u001b[0;34m\u001b[0m\u001b[0m\n\u001b[1;32m      5\u001b[0m     \u001b[0mself\u001b[0m\u001b[0;34m.\u001b[0m\u001b[0mvalue\u001b[0m\u001b[0;34m=\u001b[0m\u001b[0mvalue\u001b[0m\u001b[0;34m\u001b[0m\u001b[0;34m\u001b[0m\u001b[0m\n",
            "\u001b[0;31mModuleNotFoundError\u001b[0m: No module named 'typing.Optional'; 'typing' is not a package",
            "",
            "\u001b[0;31m---------------------------------------------------------------------------\u001b[0;32m\nNOTE: If your import is failing due to a missing package, you can\nmanually install dependencies using either !pip or !apt.\n\nTo view examples of installing some common dependencies, click the\n\"Open Examples\" button below.\n\u001b[0;31m---------------------------------------------------------------------------\u001b[0m\n"
          ],
          "errorDetails": {
            "actions": [
              {
                "action": "open_url",
                "actionText": "Open Examples",
                "url": "/notebooks/snippets/importing_libraries.ipynb"
              }
            ]
          }
        }
      ]
    },
    {
      "cell_type": "code",
      "metadata": {
        "id": "iVlPE1-iotzP",
        "colab": {
          "base_uri": "https://localhost:8080/"
        },
        "outputId": "871dcfd0-2aaf-4a46-f6ec-87117f3f6a5e"
      },
      "source": [
        "''' As the Question is related to LinkedList I'm brushing my linked list understanding the first \n",
        "couple of code blocks '''\n",
        "class Node:\n",
        "  def __init__(self,value, next=None):\n",
        "    self.value=value\n",
        "    self.next=next\n",
        "\n",
        "# 3-->7-->10-->23\n",
        "\n",
        "node1=Node('3')\n",
        "node2=Node('7')\n",
        "node3=Node('10')\n",
        "node4=Node('23')\n",
        "\n",
        "node1.next=node2\n",
        "node2.next=node3\n",
        "node3.next=node4\n",
        "\n",
        "currentNode=node1\n",
        "#print(node1.value)\n",
        "while True:\n",
        "  print(currentNode.value,end='-->')\n",
        "  if currentNode.next is None:\n",
        "    print('None')\n",
        "    break\n",
        "  currentNode=currentNode.next"
      ],
      "execution_count": 1,
      "outputs": [
        {
          "output_type": "stream",
          "name": "stdout",
          "text": [
            "3-->7-->10-->23-->None\n"
          ]
        }
      ]
    },
    {
      "cell_type": "code",
      "metadata": {
        "id": "scObNwmcyYBf"
      },
      "source": [
        "class Node:\n",
        "  def __init__(self,value, next=None):\n",
        "    self.value=value\n",
        "    self.next=next\n",
        "\n",
        "class ListNode:\n",
        "\n",
        "  def __init__(self, head=None):\n",
        "    self.head=head\n",
        "\n",
        "  def insert(self, value):\n",
        "    node=Node(value)\n",
        "    if self.head is None:\n",
        "      self.head=node\n",
        "      return\n",
        "    currentNode=self.head\n",
        "    while True:\n",
        "      if currentNode.next is None:\n",
        "        currentNode.next=node\n",
        "        break\n",
        "      currentNode=currentNode.next\n",
        "  \n",
        "  def length(self,llOne):\n",
        "    currentNode=llOne\n",
        "    count=0\n",
        "    while currentNode is not None:\n",
        "      count+=1\n",
        "      currentNode=currentNode.next\n",
        "    return count\n",
        "\n",
        "  def valueAtIndex(self,index):\n",
        "\n",
        "    if index>=self.length() or index<0:\n",
        "      return 'Index out of Range'\n",
        "    else:\n",
        "      \n",
        "      if index==0:\n",
        "        return self.head.value\n",
        "      currentNode=self.head \n",
        "      for i in range(index):\n",
        "        currentNode=currentNode.next\n",
        "      print(currentNode.value)\n",
        " \n",
        "  def insertAt(self, index, value):\n",
        "\n",
        "    if self.head is None and index==0:\n",
        "      self.head =Node(value)\n",
        "    elif self.head is not None and index==0:\n",
        "      currentNode=self.head\n",
        "      self.head=Node(value,currentNode)\n",
        "\n",
        "    elif self.length()<index or index<0:\n",
        "      return 'Index doesn\\'t exist'\n",
        "    else:\n",
        "      currentNode=self.head\n",
        "      for i in range(index-1):\n",
        "        currentNode=currentNode.next\n",
        "\n",
        "      temp=currentNode.next\n",
        "      currentNode.next=Node(value,temp)\n",
        "      #print(currentNode.next.value)\n",
        "\n",
        "        \n",
        "\n",
        "\n",
        "  def printLinkedList(self):\n",
        "    currentNode=self.head\n",
        "    while currentNode is not None:\n",
        "      print(currentNode.value , end='-->')\n",
        "      currentNode=currentNode.next\n",
        "    print('None')\n",
        "\n"
      ],
      "execution_count": 118,
      "outputs": []
    },
    {
      "cell_type": "code",
      "metadata": {
        "colab": {
          "base_uri": "https://localhost:8080/"
        },
        "id": "NxKoCk2O3EFP",
        "outputId": "93117a8c-0756-469b-cf5d-04f6c7a32bbf"
      },
      "source": [
        "ll=ListNode()\n",
        "ll.printLinkedList()\n",
        "print(ll.length())\n",
        "ll.insert(2)\n",
        "ll.insert(4)\n",
        "ll.insert(13)\n",
        "ll.insert(88)\n",
        "ll.insert(7)\n",
        "ll.insert(3)\n",
        "ll.printLinkedList()\n",
        "ll.insertAt(0,10)\n",
        "ll.printLinkedList()\n",
        "ll.valueAtIndex(3)"
      ],
      "execution_count": 119,
      "outputs": [
        {
          "output_type": "stream",
          "name": "stdout",
          "text": [
            "None\n",
            "0\n",
            "2-->4-->13-->88-->7-->3-->None\n",
            "10-->2-->4-->13-->88-->7-->3-->None\n",
            "13\n"
          ]
        }
      ]
    },
    {
      "cell_type": "code",
      "metadata": {
        "colab": {
          "base_uri": "https://localhost:8080/",
          "height": 129
        },
        "id": "D5WESakD3Kaa",
        "outputId": "a800f77a-aedd-443a-927b-ec6d8377ee9b"
      },
      "source": [
        "ListNode{val: 1, next: ListNode{val: 2, next: ListNode{val: 4, next: None}}}"
      ],
      "execution_count": 121,
      "outputs": [
        {
          "output_type": "error",
          "ename": "SyntaxError",
          "evalue": "ignored",
          "traceback": [
            "\u001b[0;36m  File \u001b[0;32m\"<ipython-input-121-266f662cb370>\"\u001b[0;36m, line \u001b[0;32m1\u001b[0m\n\u001b[0;31m    ListNode{val: 1, next: ListNode{val: 2, next: ListNode{val: 4, next: None}}}\u001b[0m\n\u001b[0m            ^\u001b[0m\n\u001b[0;31mSyntaxError\u001b[0m\u001b[0;31m:\u001b[0m invalid syntax\n"
          ]
        }
      ]
    },
    {
      "cell_type": "code",
      "metadata": {
        "colab": {
          "base_uri": "https://localhost:8080/"
        },
        "id": "3B44kfxY7Ov4",
        "outputId": "a165c964-cb5a-47f6-c7b8-e81632664b21"
      },
      "source": [
        "a=[1,2,3]\n",
        "b=[3,4,4]\n",
        "c=sorted(a)\n",
        "c"
      ],
      "execution_count": 56,
      "outputs": [
        {
          "output_type": "execute_result",
          "data": {
            "text/plain": [
              "[1, 2, 3]"
            ]
          },
          "metadata": {},
          "execution_count": 56
        }
      ]
    },
    {
      "cell_type": "code",
      "metadata": {
        "id": "2Td6ilm3Dx-M"
      },
      "source": [
        ""
      ],
      "execution_count": null,
      "outputs": []
    }
  ]
}